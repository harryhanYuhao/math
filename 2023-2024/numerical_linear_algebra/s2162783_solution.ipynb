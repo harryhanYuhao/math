{
 "cells": [
  {
   "cell_type": "markdown",
   "metadata": {},
   "source": [
    "## Q1\n",
    "### (a)"
   ]
  },
  {
   "cell_type": "markdown",
   "metadata": {},
   "source": [
    "**Input**: $\\textbf{a} \\in \\mathbb{R}^{n-1}, \\textbf{b} \\in \\mathbb{R}^{n}, \\textbf{v}\\in \\mathbb{R}^{n-1}$\n",
    "\n",
    "**Output**: $\\textbf{l} \\in \\mathbb{R}^{n-1}, \\textbf{u} \\in \\mathbb{R}^{n}, \\textbf{v}\\in \\mathbb{R}^{n-1}$\n",
    "1. $\\textbf{l} = \\textbf{0}$\n",
    "1. for $i = 1, \\cdots, n$\n",
    "    - if $i \\neq n$:\n",
    "        - $v_i = c_i$\n",
    "    - if $i > 1$:\n",
    "        - $l_i = a_i / u_{i-1}$\n",
    "    - $u_i = b_i - l_i v_{i-1}$\n",
    "1. endfor"
   ]
  },
  {
   "cell_type": "markdown",
   "metadata": {},
   "source": [
    "### (b)\n",
    "$C(n) = 3n - 1$\n",
    "\n",
    "There are $n$ interations. For each iteration, calculation of $l_i$ takes one operation, $u_i$ takes two operations, and $v_i$ takes none. The first iteration does not calculate $l_i$ and $v_i$. Therefore, the total number of operations is $3n - 1$."
   ]
  },
  {
   "cell_type": "markdown",
   "metadata": {},
   "source": [
    "### (c)"
   ]
  },
  {
   "cell_type": "code",
   "execution_count": 20,
   "metadata": {},
   "outputs": [],
   "source": [
    "import numpy as np\n",
    "def LUtri(a, b, c):\n",
    "    \"\"\"\n",
    "    LU factorisation of a tridiagonal matrix\n",
    "    Input:\n",
    "        a, b, c: numpy arrays of size n-1, n, n-1\n",
    "    Output:\n",
    "        l, u, v: numpy arrays of size n-1, n, n-1\n",
    "    \"\"\"\n",
    "\n",
    "    n = b.size\n",
    "\n",
    "    # initialise l, u, v\n",
    "    l = np.zeros(n-1) # we have l[i] = l_{i+2}\n",
    "    u = np.zeros(n) # u[i] = u_{i+1}\n",
    "    v = np.zeros(n-1) #v[i] = v_{i+1}\n",
    "\n",
    "    for i in range(1,n+1):\n",
    "        # thes line simply implements the algorithm\n",
    "        u[i-1] = b[i-1] - l[i-2]*v[i-2]\n",
    "        if i != n:\n",
    "            v[i-1] = c[i-1]\n",
    "        if i > 1:\n",
    "            l[i-2] = a[i-2]/u[i-2]\n",
    "        u[i-1] = b[i-1] - l[i-2]*v[i-2]\n",
    "    \n",
    "    return l, u, v\n"
   ]
  },
  {
   "cell_type": "code",
   "execution_count": 21,
   "metadata": {},
   "outputs": [],
   "source": [
    "import numpy as np\n",
    "# These are some auxiliary functions\n",
    "def get_abc_From_A(A):\n",
    "    \"\"\"\n",
    "    input:\n",
    "        n*n matrix A as numpy array\n",
    "    output:\n",
    "        n-1 dimensional vector a\n",
    "        n dimensional vector b\n",
    "        n-1 dimensional vector c\n",
    "        They are input of LUtri\n",
    "    \"\"\"\n",
    "    b = np.diag(A)\n",
    "    a = np.diag(A, k=-1)\n",
    "    c = np.diag(A, k=1)\n",
    "    return a, b, c\n",
    "\n",
    "def get_A_From_abc(a, b, c):\n",
    "    \"\"\"\n",
    "    input:\n",
    "        n-1 dimensional vector a\n",
    "        n dimensional vector b\n",
    "        n-1 dimensional vector c\n",
    "    output:\n",
    "        n*n matrix A as numpy array\n",
    "    \"\"\"\n",
    "    n = b.size\n",
    "    A = np.zeros((n,n))\n",
    "    A = np.diag(a, k=-1) + np.diag(b, k=0) + np.diag(c, k=1)\n",
    "    return A\n",
    "\n",
    "def random_tridiagonal_matrix(n):\n",
    "    \"\"\"\n",
    "    input:\n",
    "        n: dimension\n",
    "    output:\n",
    "        n*n matrix A as numpy array\n",
    "    \"\"\"\n",
    "    a = np.random.rand(n-1)\n",
    "    b = np.random.rand(n)\n",
    "    c = np.random.rand(n-1)\n",
    "    \n",
    "    return get_A_From_abc(a, b, c)\n",
    "\n",
    "def get_L_from_l_of_LUtri(l):\n",
    "    \"\"\" \n",
    "    input:\n",
    "        n dimensional vector l from LUtri\n",
    "    output:\n",
    "        n*n matrix L as numpy array, that is L = diag(1) + diag(l, -1)\n",
    "    \"\"\"\n",
    "\n",
    "    return np.diag(np.ones(len(l)+1), 0) + np.diag(l, -1)\n",
    "\n",
    "def get_U_from_u_v_of_LUtri(u, v):\n",
    "    \"\"\" \n",
    "    input: \n",
    "        n dimensional vector u from LUtri\n",
    "        n dimensional vector v from LUtri\n",
    "    output:\n",
    "        n*n matrix U as numpy array, that is U = diag(u) + diag(v, 1)\n",
    "    \"\"\"\n",
    "    return np.diag(u, 0) + np.diag(v, 1)\n"
   ]
  },
  {
   "cell_type": "code",
   "execution_count": 42,
   "metadata": {},
   "outputs": [
    {
     "name": "stdout",
     "output_type": "stream",
     "text": [
      "A = \n"
     ]
    },
    {
     "data": {
      "image/png": "[encoded data removed]",
      "text/latex": [
       "$\\displaystyle \\left[\\begin{matrix}2 & 1 & 0\\\\-1 & 3 & 1\\\\0 & -2 & 1\\end{matrix}\\right]$"
      ],
      "text/plain": [
       "⎡2   1   0⎤\n",
       "⎢         ⎥\n",
       "⎢-1  3   1⎥\n",
       "⎢         ⎥\n",
       "⎣0   -2  1⎦"
      ]
     },
     "metadata": {},
     "output_type": "display_data"
    },
    {
     "name": "stdout",
     "output_type": "stream",
     "text": [
      "L = \n"
     ]
    },
    {
     "data": {
      "image/png": "[encoded data removed]",
      "text/latex": [
       "$\\displaystyle \\left[\\begin{matrix}1.0 & 0 & 0\\\\-0.5 & 1.0 & 0\\\\0 & -0.571428571428571 & 1.0\\end{matrix}\\right]$"
      ],
      "text/plain": [
       "⎡1.0           0            0 ⎤\n",
       "⎢                             ⎥\n",
       "⎢-0.5         1.0           0 ⎥\n",
       "⎢                             ⎥\n",
       "⎣ 0    -0.571428571428571  1.0⎦"
      ]
     },
     "metadata": {},
     "output_type": "display_data"
    },
    {
     "name": "stdout",
     "output_type": "stream",
     "text": [
      "U = \n"
     ]
    },
    {
     "data": {
      "image/png": "[encoded data removed]",
      "text/latex": [
       "$\\displaystyle \\left[\\begin{matrix}2.0 & 1.0 & 0\\\\0 & 3.5 & 1.0\\\\0 & 0 & 1.57142857142857\\end{matrix}\\right]$"
      ],
      "text/plain": [
       "⎡2.0  1.0         0        ⎤\n",
       "⎢                          ⎥\n",
       "⎢ 0   3.5        1.0       ⎥\n",
       "⎢                          ⎥\n",
       "⎣ 0    0   1.57142857142857⎦"
      ]
     },
     "metadata": {},
     "output_type": "display_data"
    },
    {
     "name": "stdout",
     "output_type": "stream",
     "text": [
      "checking that A = LU\n",
      "LU = \n"
     ]
    },
    {
     "data": {
      "image/png": "[encoded data removed]",
      "text/latex": [
       "$\\displaystyle \\left[\\begin{matrix}2.0 & 1.0 & 0\\\\-1.0 & 3.0 & 1.0\\\\0 & -2.0 & 1.0\\end{matrix}\\right]$"
      ],
      "text/plain": [
       "⎡2.0   1.0    0 ⎤\n",
       "⎢               ⎥\n",
       "⎢-1.0  3.0   1.0⎥\n",
       "⎢               ⎥\n",
       "⎣ 0    -2.0  1.0⎦"
      ]
     },
     "metadata": {},
     "output_type": "display_data"
    }
   ],
   "source": [
    "import numpy as np\n",
    "from sympy import init_printing, Matrix\n",
    "init_printing()\n",
    "# construct A as instructed\n",
    "A = np.array([[2, 1, 0], [-1, 3, 1], [0, -2, 1]])\n",
    "\n",
    "# extract the diagonals\n",
    "a, b, c = get_abc_From_A(A)\n",
    "\n",
    "# call LUtri\n",
    "l, u, v = LUtri(a, b, c)\n",
    "\n",
    "# construct L and U from the output of LUtri\n",
    "L = get_L_from_l_of_LUtri(l)\n",
    "U = get_U_from_u_v_of_LUtri(u, v)\n",
    "\n",
    "#check that A = LU\n",
    "print(\"A = \")\n",
    "display(Matrix(A))\n",
    "print(\"L = \")\n",
    "display(Matrix(L))\n",
    "print(\"U = \")\n",
    "display(Matrix(U))\n",
    "print(\"checking that A = LU\")\n",
    "print(\"LU = \")\n",
    "display(Matrix(L@U))"
   ]
  },
  {
   "cell_type": "markdown",
   "metadata": {},
   "source": [
    "### (d) Benchmarking"
   ]
  },
  {
   "cell_type": "code",
   "execution_count": 23,
   "metadata": {},
   "outputs": [],
   "source": [
    "def LU(A):\n",
    "    \n",
    "    # Find dimension of A\n",
    "    n = A.shape[0]\n",
    "    \n",
    "    # Initialise L=I, U=A\n",
    "    L = np.eye(n) \n",
    "    U = np.copy(A)\n",
    "\n",
    "    for k in range(n - 1): # loop over columns 1 to n-1\n",
    "        for j in range(k + 1, n): # loop over rows k+1 to n\n",
    "            L[j, k] = U[j, k] / U[k ,k] # compute the multiplier l_jk\n",
    "            U[j, k:] = U[j, k:] - L[j, k] * U[k, k:] # subtract a multiple of row k \n",
    "                                                     # from row j to create zeros \n",
    "                                                     # below the diagonal in column k\n",
    "    \n",
    "    return L, U # return the LU factorisation of A"
   ]
  },
  {
   "cell_type": "code",
   "execution_count": 47,
   "metadata": {},
   "outputs": [
    {
     "data": {
      "image/png": "[encoded data removed]",
      "text/plain": [
       "<Figure size 640x480 with 1 Axes>"
      ]
     },
     "metadata": {},
     "output_type": "display_data"
    },
    {
     "name": "stdout",
     "output_type": "stream",
     "text": [
      "It seems that LUtri is much faster than LU.\n"
     ]
    }
   ],
   "source": [
    "import time\n",
    "import numpy as np\n",
    "import matplotlib.pyplot as plt\n",
    "\n",
    "time_LUtri = []\n",
    "time_LU = []\n",
    "size_of_matrix = []\n",
    "\n",
    "for j in range(2, 10):\n",
    "    A = random_tridiagonal_matrix(2**j)\n",
    "    a, b, c = get_abc_From_A(A)\n",
    "\n",
    "\n",
    "    tmp = time.time()\n",
    "    LUtri(a, b, c)\n",
    "    time_LUtri.append(time.time() - tmp)\n",
    "\n",
    "    tmp = time.time()\n",
    "    LU(A)\n",
    "    time_LU.append(time.time() - tmp)\n",
    "\n",
    "    size_of_matrix.append(j)\n",
    "\n",
    "plt.plot(size_of_matrix, time_LUtri, label=\"LUtri\")\n",
    "plt.plot(size_of_matrix, time_LU, label=\"LU\")\n",
    "plt.xlabel(\"log2(size of matrix)\")\n",
    "plt.ylabel(\"time\")\n",
    "plt.title(\"Time comparison of LUtri and LU\")\n",
    "plt.legend()\n",
    "plt.show()\n",
    "\n",
    "print(\"It seems that LUtri is much faster than LU.\")\n",
    "\n"
   ]
  },
  {
   "cell_type": "markdown",
   "metadata": {},
   "source": [
    "### 1(e)"
   ]
  },
  {
   "cell_type": "code",
   "execution_count": 48,
   "metadata": {},
   "outputs": [],
   "source": [
    "import numpy as np\n",
    "\n",
    "def FStri(L, r):\n",
    "    \"\"\"\n",
    "    Forward substitution for a lower triangular matrix\n",
    "    Input:\n",
    "        L: numpy array of size n*n\n",
    "        r: numpy array of size n\n",
    "    Output:\n",
    "        y: numpy array of size n\n",
    "    \"\"\"\n",
    "    n = r.size\n",
    "    y = np.zeros(n)\n",
    "    y[0] = r[0]\n",
    "    for i in range(1,n):\n",
    "        y[i] = r[i] - L[i][i-1]*y[i-1]\n",
    "\n",
    "    return y\n",
    "\n",
    "def BStri(U, y):\n",
    "    \"\"\"\n",
    "    Backward substitution for an upper triangular matrix\n",
    "    Input:\n",
    "        U: numpy array of size n*n\n",
    "        y: numpy array of size n\n",
    "    Output:\n",
    "        x: numpy array of size n\n",
    "    \"\"\"\n",
    "    n = y.size\n",
    "    x = np.zeros(n)\n",
    "    x[n-1] = y[n-1]/U[n-1][n-1]\n",
    "    for i in range(n-2,-1,-1):\n",
    "        x[i] = (y[i] - U[i][i+1]*x[i+1])/U[i][i]\n",
    "\n",
    "    return x\n",
    "\n",
    "\n",
    "def GEtri(A, r):\n",
    "    \"\"\"\n",
    "    Gaussian elimination for a tridiagonal matrix\n",
    "    Input:\n",
    "        A: numpy array of size n*n\n",
    "        r: numpy array of size n\n",
    "    Output:\n",
    "        x: numpy array of size n\n",
    "    \"\"\"\n",
    "    \n",
    "    a, b, c = get_abc_From_A(A)\n",
    "    l, u, v = LUtri(a, b, c)\n",
    "    L  = get_L_from_l_of_LUtri(l)\n",
    "    U = get_U_from_u_v_of_LUtri(u, v)\n",
    "    y = FStri(L, r)\n",
    "    x = BStri(U, y)\n",
    "    return x\n"
   ]
  },
  {
   "cell_type": "code",
   "execution_count": 52,
   "metadata": {},
   "outputs": [
    {
     "name": "stdout",
     "output_type": "stream",
     "text": [
      "The solution of Ax = r is (given by GEtri):\n",
      "[ 1.25  -0.125 -0.875  1.625]\n",
      "Checking that Ax = r:\n",
      "[1. 2. 3. 4.]\n"
     ]
    }
   ],
   "source": [
    "a = np.array([1, 3, 1])\n",
    "b = np.array([1, 1, -2, 3])\n",
    "c = np.array([2, -1, 1])\n",
    "\n",
    "r = np.array([1,2,3,4])\n",
    "\n",
    "A = get_A_From_abc(a, b, c)\n",
    "x = GEtri(A, r)\n",
    "print(\"The solution of Ax = r is (given by GEtri):\")\n",
    "print(x)\n",
    "\n",
    "print(\"Checking that Ax = r:\")\n",
    "print(A@x)"
   ]
  },
  {
   "cell_type": "markdown",
   "metadata": {},
   "source": [
    "## Q2\n",
    "### Q2(a)"
   ]
  },
  {
   "cell_type": "markdown",
   "metadata": {},
   "source": [
    "Use taylor expansion of $w(x \\pm h)$:\n",
    "$$\n",
    "w(x + h) = w(x) + h w'(x) + \\frac{h^2}{2} w''(x) + O_1(h^3)\n",
    "$$\n",
    "\n",
    "$$\n",
    "w(x - h) = w(x) - h w'(x) + \\frac{h^2}{2} w''(x) + O_2(h^3)\n",
    "$$\n",
    "\n",
    "Combine them and we have \n",
    "\n",
    "$$\n",
    "w(x + h) + w(x - h) \\approx 2w(x) + h^2 w''(x) \\Rightarrow w''(x) \\approx \\frac{w(x + h) + w(x - h) - 2w(x)}{h^2}\n",
    "$$"
   ]
  },
  {
   "cell_type": "markdown",
   "metadata": {},
   "source": [
    "### Q2(b)\n",
    "\n",
    "We have discretisation :\n",
    "$$\n",
    "\\frac{w_{j+1} - 2 w_j + w_{j-1}}{h^2} + \\omega^2 w_j = \\omega^2 f(x_j), \\quad j=1,\\cdots,N-1, \\quad w_0 = w_N = 0,\n",
    "$$\n",
    "\n",
    "This is a linear system of $N-1$ equations with $N-1$ unknowns. We can write it in matrix form:\n",
    "\n",
    "\n",
    "$$\n",
    "\\textbf{A} \\textbf{w} = \\textbf{r}\n",
    "$$\n",
    "That is:\n",
    "$$\n",
    "\\begin{bmatrix}\n",
    "    -\\frac{2}{h^2} + \\omega^2 & \\frac{1}{h^2} & 0 & \\cdots & 0 \\\\\n",
    "    \\frac{1}{h^2} & -\\frac{2}{h^2} + \\omega^2 & \\frac{1}{h^2} & \\cdots & 0 \\\\\n",
    "    0 & \\frac{1}{h^2} & -\\frac{2}{h^2} + \\omega^2 & \\cdots & 0 \\\\\n",
    "    \\vdots & \\vdots & \\vdots & \\ddots & \\vdots \\\\\n",
    "    0 & 0 & 0 & \\cdots & -\\frac{2}{h^2} + \\omega^2\n",
    "\\end{bmatrix}\n",
    "\\begin{bmatrix}\n",
    "    w_1 \\\\\n",
    "    w_2 \\\\\n",
    "    w_3 \\\\\n",
    "    \\vdots \\\\\n",
    "    w_{N-1}\n",
    "\\end{bmatrix}\n",
    "=\n",
    "\\begin{bmatrix}\n",
    "    \\omega^2 f(x_1) \\\\\n",
    "    \\omega^2 f(x_2) \\\\\n",
    "    \\omega^2 f(x_3) \\\\\n",
    "    \\vdots \\\\\n",
    "    \\omega^2 f(x_{N-1})\n",
    "\\end{bmatrix}\n",
    "$$\n",
    "\n",
    "clearly, $\\textbf{A}$ is a tridiagonal matrix, and the diagonals are given bellow:\n",
    "\n",
    "$\\textbf{a}_i = \\textbf{c}_i= \\frac{1}{h^2} $ They are $N-2$ dimensional vectors.\n",
    "\n",
    "$\\textbf{b}_i = (-\\frac{2}{h^2} + \\omega^2)$ They are $N-1$ dimensional vectors.\n",
    "\n",
    "$\\textbf{r}_i = \\omega^2 f(x_i)$"
   ]
  },
  {
   "cell_type": "markdown",
   "metadata": {},
   "source": [
    "### Q2(c)\n"
   ]
  },
  {
   "cell_type": "code",
   "execution_count": 58,
   "metadata": {},
   "outputs": [],
   "source": [
    "def BVP(N, omega, f):\n",
    "    \"\"\"\n",
    "    Solve the BVP \n",
    "    w''(x) + omega^2*w(x) = omega^2 f(x)\n",
    "    With boundary conditions w(0) = w(1) = 0\n",
    "\n",
    "    The solution is calculated based on the system of linear equations given above.\n",
    "    Input:\n",
    "        N: number of grid points\n",
    "        omega: a parameter\n",
    "        f: function f(x)\n",
    "    Output:\n",
    "        x: a numpy array of size N that is the independent variable of the solution\n",
    "        w: a numpy array of size N that is the dependent variable of the solution\n",
    "        w(x) is the solution of the BVP\n",
    "    \"\"\"\n",
    "    # calculate h\n",
    "    h = 1/N\n",
    "    # construct the tridiagonal matrix\n",
    "    x = np.linspace(0, 1, N+1)\n",
    "    a = np.ones(N-2)/(h**2)\n",
    "    c = a \n",
    "    b = (-2/(h**2) + omega**2)*np.ones(N-1)\n",
    "    r = omega**2*f(x[1:-1])\n",
    "\n",
    "    # solve the tridiagonal system\n",
    "    w = GEtri(get_A_From_abc(a, b, c), r)\n",
    "    \n",
    "    # add the boundary conditions\n",
    "    w = np.insert(w, 0, 0)\n",
    "    w = np.append(w, 0)\n",
    "    return x, w"
   ]
  },
  {
   "cell_type": "code",
   "execution_count": 56,
   "metadata": {},
   "outputs": [],
   "source": [
    "\n",
    "def w_exact(x, omega):\n",
    "    \"\"\"\n",
    "    This is the exact solution of the BVP when f(x) = 1\n",
    "    \"\"\"\n",
    "    return (np.sin(omega) - np.sin(omega*x) - np.sin(omega*(1-x)))/(np.sin(omega))\n",
    "\n"
   ]
  },
  {
   "cell_type": "markdown",
   "metadata": {},
   "source": [
    "## Q2(d)"
   ]
  },
  {
   "cell_type": "code",
   "execution_count": 61,
   "metadata": {},
   "outputs": [],
   "source": [
    "import numpy as np\n",
    "# the exact solution\n",
    "\n",
    "def error(N, omega):\n",
    "    \"\"\"\n",
    "    Calculate the error of the numerical solution\n",
    "    Input:\n",
    "        N: number of grid points\n",
    "        omega: a parameter\n",
    "        f: function f(x)\n",
    "    Output:\n",
    "        e: the error\n",
    "    \"\"\"\n",
    "    def functionf(x):\n",
    "        return x-x+1\n",
    "    x, w = BVP(N, omega, functionf)\n",
    "    diff = w[1:-1] - w_exact(x, omega)[1:-1]\n",
    "    e = np.linalg.norm(diff, ord=2)\n",
    "    return e\n",
    "\n",
    "def get_norm_of_exact(N, omega):\n",
    "    \"\"\"\n",
    "    Calculate the norm of the exact solution\n",
    "    Input:\n",
    "        N: number of grid points\n",
    "        omega: a parameter\n",
    "    \"\"\"\n",
    "    x = np.linspace(0, 1, N+1)\n",
    "    x = np.delete(x, 0)\n",
    "    solution = w_exact(x, omega)\n",
    "    return np.linalg.norm(solution, ord=2)\n",
    "\n",
    "\n",
    "omega = 20\n",
    "\n",
    "errorList = []\n",
    "\n",
    "n_list = [int(i) for i in np.linspace(100, 2000, 100)]\n",
    "\n",
    "for i in n_list:\n",
    "    errorList.append(error(int(i), omega)/get_norm_of_exact(int(i), omega))\n"
   ]
  },
  {
   "cell_type": "code",
   "execution_count": 116,
   "metadata": {},
   "outputs": [
    {
     "data": {
      "image/png": "[encoded data removed]",
      "text/plain": [
       "<Figure size 640x480 with 1 Axes>"
      ]
     },
     "metadata": {},
     "output_type": "display_data"
    },
    {
     "name": "stdout",
     "output_type": "stream",
     "text": [
      "It seems that the error exponentially decreases as N increases.\n"
     ]
    }
   ],
   "source": [
    "import matplotlib.pyplot as plt\n",
    "import numpy as np\n",
    "\n",
    "\n",
    "fig, ax = plt.subplots()  # Create a figure containing a single axes.\n",
    "ax.plot(n_list, errorList)  # Plot some data on the axes\n",
    "ax.set_xlabel('N: number of grid points')\n",
    "ax.set_ylabel('error')\n",
    "ax.set_title('Error of the numerical solution')\n",
    "plt.show()\n",
    "\n",
    "print(\"It seems that the error exponentially decreases as N increases.\")\n"
   ]
  },
  {
   "cell_type": "markdown",
   "metadata": {},
   "source": [
    "## Q3 \n",
    "### Q3(a)"
   ]
  },
  {
   "cell_type": "code",
   "execution_count": 31,
   "metadata": {},
   "outputs": [],
   "source": [
    "def LUtriRec(a, b, c):\n",
    "    '''\n",
    "    LUtri factorisation by a divide-and-conquer method.\n",
    "    Assuming that the b has length of 2^k\n",
    "    Input: \n",
    "        a, b, c: numpy arrays of size n-1, n, n-1\n",
    "        They are the subdiagonal, diagonal, and superdiagonal of a tridiagonal matrix\n",
    "    Output:\n",
    "        l, u, v: numpy arrays of size n-1, n, n-1\n",
    "        l, 1 are the subdiaganol and diagonal of a lower triangular matrix L\n",
    "        u, v are the diagonals and superdiagonal of an upper triangular matrix U\n",
    "    '''\n",
    "\n",
    "    # input checkiing\n",
    "    if a.size != b.size - 1 or c.size != b.size - 1:\n",
    "        raise ValueError(\"The size of a, b, c are not compatible\")\n",
    "    if ((b.size & (b.size - 1)) != 0) and b.size != 0:\n",
    "        raise ValueError(\"The size of b is not a power of 2\")\n",
    "\n",
    "    n = b.size # we have assumed that n = 2^k\n",
    "    m = n // 2\n",
    "\n",
    "    if m == 1:  # end of recursion \n",
    "        # this is manual calculation of l, u, v for 2*2 matrix\n",
    "        # we want to return nparray\n",
    "        l = np.array([a[0]/b[0]])\n",
    "        v = np.array([c[0]])\n",
    "        u = np.array([b[0], b[1] - l[0]*v[0]])\n",
    "        return l, u, v\n",
    "    \n",
    "\n",
    "    l_11, u_11, v_11 = LUtriRec(a[:m-1], b[:m], c[:m-1])\n",
    "\n",
    "    v_12 = np.array([c[m-1]])\n",
    "    l_21 = np.array([a[m-1]/u_11[-1]])\n",
    "\n",
    "    b_prime = b.copy()\n",
    "    b_prime[m] = b[m] - l_21[0]*v_12[0]\n",
    "    l_22, u_22, v_22 = LUtriRec(a[m:], b_prime[m:], c[m:])\n",
    "    \n",
    "    l = np.concatenate((l_11, l_21, l_22))\n",
    "    u = np.concatenate((u_11, u_22))\n",
    "    v = np.concatenate((v_11, v_12, v_22))\n",
    "\n",
    "    return l, u, v"
   ]
  },
  {
   "cell_type": "code",
   "execution_count": 55,
   "metadata": {},
   "outputs": [
    {
     "name": "stdout",
     "output_type": "stream",
     "text": [
      "Verification of LUtriRec\n",
      "for 4 **2 dimensional matrix \n",
      "True\n",
      "for 5 **2 dimensional matrix \n",
      "True\n",
      "for 6 **2 dimensional matrix \n",
      "True\n",
      "for 7 **2 dimensional matrix \n",
      "True\n",
      "for 8 **2 dimensional matrix \n",
      "True\n",
      "for 9 **2 dimensional matrix \n",
      "True\n",
      "for 10 **2 dimensional matrix \n",
      "True\n",
      "for 11 **2 dimensional matrix \n",
      "True\n"
     ]
    }
   ],
   "source": [
    "import sympy as sym\n",
    "sym.init_printing(use_unicode=True)\n",
    "\n",
    "# verification\n",
    "\n",
    "print(\"Verification of LUtriRec\")\n",
    "\n",
    "for i in range(4, 12):\n",
    "    A = random_tridiagonal_matrix(2**i)\n",
    "\n",
    "    l, u, v = LUtriRec(*get_abc_From_A(A))\n",
    "\n",
    "    L = get_L_from_l_of_LUtri(l)\n",
    "    U = get_U_from_u_v_of_LUtri(u, v)\n",
    "    print(\"for\", i, \"**2 dimensional matrix \")\n",
    "    print(np.allclose(A, L@U))"
   ]
  },
  {
   "cell_type": "markdown",
   "metadata": {},
   "source": [
    "### 3(b)"
   ]
  },
  {
   "cell_type": "code",
   "execution_count": 63,
   "metadata": {},
   "outputs": [
    {
     "data": {
      "image/png": "[encoded data removed]",
      "text/plain": [
       "<Figure size 640x480 with 1 Axes>"
      ]
     },
     "metadata": {},
     "output_type": "display_data"
    },
    {
     "name": "stdout",
     "output_type": "stream",
     "text": [
      "It seems that LUtriRec has no computational advantage over LUtri. In fact, it is slower than LUtri.\n"
     ]
    }
   ],
   "source": [
    "# Compare the time of LUtri and LUtriRec\n",
    "import time\n",
    "import numpy as np\n",
    "import matplotlib.pyplot as plt\n",
    "\n",
    "time_LUtri = []\n",
    "time_LUtriRec = []\n",
    "size_of_matrix = []\n",
    "\n",
    "for j in range(2, 14):\n",
    "    A = random_tridiagonal_matrix(2**j)\n",
    "    a, b, c = get_abc_From_A(A)\n",
    "\n",
    "\n",
    "    tmp = time.time()\n",
    "    LUtri(a, b, c)\n",
    "    time_LUtri.append(time.time() - tmp)\n",
    "\n",
    "    tmp = time.time()\n",
    "    LUtriRec(a, b, c)\n",
    "    time_LUtriRec.append(time.time() - tmp)\n",
    "\n",
    "    size_of_matrix.append(j)\n",
    "\n",
    "plt.plot(size_of_matrix, time_LUtri, label=\"LUtri\")\n",
    "plt.plot(size_of_matrix, time_LUtriRec, label=\"LUtriRec\")\n",
    "plt.xlabel(\"log2(size of matrix)\")\n",
    "plt.ylabel(\"time\")\n",
    "plt.title(\"Time comparison of LUtri and LUtriRec\")\n",
    "plt.legend()\n",
    "plt.show()\n",
    "\n",
    "print(\"It seems that LUtriRec has no computational advantage over LUtri. In fact, it is slower than LUtri.\")"
   ]
  },
  {
   "cell_type": "markdown",
   "metadata": {},
   "source": [
    "## Q4\n",
    "### Q4(a) \n",
    "#### (i)\n",
    "\n",
    "We know $\\textbf{y}_{t-1} = ||\\textbf{x}_{t-1}||^{-1}\\textbf{x}_{t-1}$. \n",
    "Thus \n",
    "\n",
    "$\\textbf{A}_t \\textbf{y}_{t-1} = ||\\textbf{x}_{t-1}||^{-1}\\textbf{A}_t\\textbf{x}_{t-1} = ||\\textbf{x}_{t-1}||^{-1} \\textbf{x}_t$. \n",
    "\n",
    "As $||\\textbf{x}_{t-1}||^{-1}> 0$ the vector \n",
    "$\\textbf{A}_t\\textbf{y}_{t-1}$ and $\\textbf{x}_t$ are in the same direction, which means that $\\frac{\\textbf{A}\\textbf{y}_{t-1}}{||\\textbf{A}\\textbf{y}_{t-1}||} = \\frac{\\textbf{x}_t}{||\\textbf{x}_t||} = \\textbf{y}_t$.\n"
   ]
  },
  {
   "cell_type": "markdown",
   "metadata": {},
   "source": [
    "### (ii)\n"
   ]
  },
  {
   "cell_type": "markdown",
   "metadata": {},
   "source": [
    "We know that $\\textbf{y}_t = \\frac{\\textbf{A}_t \\textbf{y}_{t-1}}{||\\textbf{A}_t \\textbf{y}_{t-1}||}$. Apply it repeatedly we get \n",
    "\n",
    "$$ \\textbf{y}_t = \\frac{\\textbf{A}_t \\textbf{A}_{t-1} \\textbf{A}_{t-2} \\cdots \\textbf{A}_{1}\\textbf{y}_0}\n",
    "{||\\textbf{A}_t \\textbf{y}_{t-1}||\\cdot ||\\textbf{A}_{t-1} \\textbf{y}_{t-2}|| \\cdots ||\\textbf{A}_1 \\textbf{y}_{0}||} $$\n",
    "\n",
    "Since $||\\textbf{x}_0|| = 1$, we know $\\textbf{x}_0 = \\textbf{y}_0$. Moreover, as $\\textbf{x}_t = \\textbf{A}_t \\textbf{A}_{t-1} \\textbf{A}_{t-2} \\cdots \\textbf{A}_{1}\\textbf{x}_0 $\n",
    "we conclude the above equation becomes $$ \\textbf{y}_t = \\frac{\\textbf{x}_t}\n",
    "{||\\textbf{A}_t \\textbf{y}_{t-1}||\\cdot ||\\textbf{A}_{t-1} \\textbf{y}_{t-2}|| \\cdots ||\\textbf{A}_1 \\textbf{y}_{0}||} $$\n",
    "\n",
    "Notice $\\textbf{y}_t = \\frac{\\textbf{x}_t}{||\\textbf{x}_t||} $. Thus we conlude \n",
    "\n",
    "$$\n",
    "||\\textbf{x}_t|| = ||\\textbf{A}_t \\textbf{y}_{t-1}||\\cdot ||\\textbf{A}_{t-1} \\textbf{y}_{t-2}|| \\cdots ||\\textbf{A}_1 \\textbf{y}_{0}|| \n",
    "\\implies \\ln ||\\textbf{x}_t|| = \\sum_{i=1}^t \\ln ||\\textbf{A}_i \\textbf{y}_{i-1}||\n",
    "$$\n",
    "\n",
    "Thus, $h_t = t^{-1}\\ln ||\\textbf{x}_t|| = t^{-1}\\sum_{i=1}^t \\ln ||\\textbf{A}_i \\textbf{y}_{i-1}||$."
   ]
  },
  {
   "cell_type": "markdown",
   "metadata": {},
   "source": [
    "### iii"
   ]
  },
  {
   "cell_type": "code",
   "execution_count": 104,
   "metadata": {},
   "outputs": [
    {
     "name": "stdout",
     "output_type": "stream",
     "text": [
      "The estimated Lyapunov exponent is  1.7916736236541069\n"
     ]
    },
    {
     "data": {
      "image/png": "[encoded data removed]",
      "text/plain": [
       "<Figure size 640x480 with 1 Axes>"
      ]
     },
     "metadata": {},
     "output_type": "display_data"
    }
   ],
   "source": [
    "import numpy as np\n",
    "import numpy.random as random\n",
    "import matplotlib.pyplot as plt\n",
    "\n",
    "def LYA1(n, sigma, t):\n",
    "\n",
    "    t_end = t # maximum of t\n",
    "\n",
    "    t = [k for k in range(1,t_end+1)] # list if values of t\n",
    "    x = np.ones(n) # initialise  x_0\n",
    "    y = x / np.linalg.norm(x) # initialise y_0\n",
    "    h = [] # list of values of h_t\n",
    "    partial_sum_r = 0 # partial sum of r\n",
    "    for k in range(t_end):\n",
    "        A = random.normal(0,sigma,(n,n)) # draw random matrix\n",
    "        ay = A @ y\n",
    "        partial_sum_r += np.log(np.linalg.norm(ay))\n",
    "        h.append(partial_sum_r/(k+1))\n",
    "        y = ay/np.linalg.norm(ay)\n",
    "    return t, h    \n",
    "\n",
    "t, h = LYA1(10, 2, 10000)\n",
    "\n",
    "fig, ax = plt.subplots()  # Create a figure containing a single axes.\n",
    "\n",
    "ax.scatter(t,h, s=0.5,alpha=0.5)\n",
    "ax.set_xlabel('$t$')\n",
    "ax.set_ylabel('$h_t$')\n",
    "ax.set_title('Lyapunov exponent for $n=10$')\n",
    "\n",
    "lyapunov = np.array(h[-10:]).mean()\n",
    "print(\"The estimated Lyapunov exponent is \", lyapunov)\n"
   ]
  },
  {
   "cell_type": "markdown",
   "metadata": {},
   "source": [
    "### Q4 (b)"
   ]
  },
  {
   "cell_type": "markdown",
   "metadata": {},
   "source": [
    "### b i\n",
    "\n",
    "consider the QR factorisation of $T = [\\mathbf{x}^{(1)}_t,\\cdots,\\mathbf{x}^{(k)}_t,\\mathbf{u}^{(1)},\\cdots,\\mathbf{u}^{(n-k)}] = QR$\n",
    "\n",
    "We know $\\lambda_1 + \\lambda_2 + \\cdots +\\lambda_k= det (T)$\n",
    "\n",
    "As $\\mathbf{u}^{(1)},\\cdots,\\mathbf{u}^{(n-k)}$ are orthonormal to $\\mathbf{x}^{(1)}_t,\\cdots,\\mathbf{x}^{(k)}_t$, by QR algorithm we know $R$ shall take the form of \n",
    "\n",
    "$$\n",
    "R =\n",
    "\\begin{bmatrix}\n",
    "    R_1 & 0 \\\\\n",
    "    0 & I\n",
    "\\end{bmatrix}\n",
    "$$\n",
    "\n",
    "where $R_1$ is a $k \\times k$ upper triangular matrix.  \n",
    "Let $\\rho_{jj}$ denote the $j$ th diaganol entry of $R$\n",
    "\n",
    "Also, $|det T| = |det(Q)| |det(R)|$. As determinant of orthornromal matrix $Q$ is $\\pm 1$, we and R is upper triangular, we know $|det T| = |det(R)| = \\prod_{i=1}^n |\\rho_{ii}| \\implies \\ln |det T| = \\sum_{i=1}^n \\ln |\\rho_{ii}|$.\n",
    "Importantly, The last $n-k$ terms of diangnols of $R$ is 1. Thus $\\ln |det T| = \\sum_{i=1}^k \\ln |\\rho_{ii}|$.\n",
    "\n",
    "Beginning with $k=1$, obviously $\\lambda_1 = \\ln |det T| = \\ln |\\rho_{11}|$. For $k=2$, we know $\\lambda_1 + \\lambda_2 = \\ln |\\rho_{11}| + \\ln |\\rho_{22}|$, thus $\\lambda_2 = \\ln |\\rho_{22}$ Similarly, we can find $\\lambda_k = \\ln |\\rho_{kk}|$.\n",
    "\n",
    "By the algorithm of $QR$ decomposition, $\\rho_{jj} = ||\\mathbf{c}_j||$, where $\\mathbf{c}_j$ is the $j$ th column of $R$. Thus $\\lambda_j = \\ln ||\\mathbf{c}_j|| =\\ln ||\\mathcal{A} x_{0}^{(j)}||$\n",
    "denoting $\\mathbf{A}_t\\cdots \\mathbf{A}_1$ as $\\mathcal{A}$.\n",
    "\n",
    "Let $\\mathcal{Q}\\mathcal{R}$ be the QR decomposition of $\\mathcal{A}$. And  let $r_{jj}$ denote the $j$ th entry of diaganol of $\\mathcal{R}$.\n",
    "All's left is to show that as $t$ approach infinity, $$ \\ln ||\\mathcal{A} x_{0}^{(j)}|| = \\ln ||\\mathcal{Q}\\mathcal{R} x_{0}^{(j)}|| = \\ln |r_{jj}|$$\n",
    "\n",
    "(I do not know how to prove this part)"
   ]
  },
  {
   "cell_type": "markdown",
   "metadata": {},
   "source": []
  },
  {
   "cell_type": "markdown",
   "metadata": {},
   "source": []
  },
  {
   "cell_type": "markdown",
   "metadata": {},
   "source": [
    "### b ii\n",
    "\n",
    "\n",
    "**Input**: $n, \\sigma, t$, where random matrix $\\textbf{A}_1 \\cdots \\textbf{A}_t \\in \\mathbb{R}^{n\\times n}$ has each entry has independent normal distribution with mean $0$ and variance $\\sigma^2$.\n",
    "\n",
    "**Output**: A vector $L \\in \\mathbb{R}^n = \\{\\lambda_1, \\lambda_2, \\cdots, \\lambda_n \\}$, \n",
    "1. $L = \\textbf{0}$, $\\textbf{Q} = \\textbf{I}$\n",
    "1. for $i = 1, \\cdots, t$\n",
    "    * Find QR decomposition of $\\textbf{A}_i\\textbf{Q} = \\textbf{Q}_1\\textbf{R}$\n",
    "    * $\\textbf{Q}$ = $\\textbf{Q}_1$\n",
    "    * for $j = 1, \\cdots, n$\n",
    "        - $L_j$ = $L_j + \\ln |\\textbf{R}_{j,j}|$\n",
    "    * endfor\n",
    "1. endfor\n",
    "1. for $j = 1, \\cdots, n$\n",
    "    - $L_j$ = $L_j/t$\n",
    "1. endfor\n",
    "1. return $L$\n",
    "\n",
    "**Justification**:\n",
    "\n",
    "We know that $\\lambda_k$ is approching $t^{-1}\\ln |r_{kk}|$, as $t \\rightarrow \\infty$, where $r_{kk}$ is the $k$ th diagonal entry of $\\textbf{R}$. Given the QR factorisation of $\\textbf{A}_t \\cdots \\textbf{A}_1 = \\mathbf{Q}\\mathbf{R}$\n",
    "\n",
    "Instead of calculating $\\textbf{A}_t \\cdots \\textbf{A}_1$ directly and compute its QR decomposition. We can calculate \n",
    "\n",
    "the QR factorisation of $\\mathbf{A}_j \\mathbf{Q}_{j-1} =  \\mathbf{Q}_j \\mathbf{R}_j$, with $\\mathbf{A}_1 = \\mathbf{Q}_1 \\mathbf{R}_1$.\n",
    " \n",
    "Notice that\n",
    "$$ \\mathbf{Q}_t \\mathbf{R}_t \\mathbf{R}_{t-1}\\cdots \\mathbf{R}_1 =\n",
    "\\mathbf{A}_t\\mathbf{Q}_{t-1} \\mathbf{R}_{t-1} \\cdots \\mathbf{R}_1 =\n",
    "\\mathbf{A}_t\\mathbf{A}_{t-1} \\mathbf{R}_{t-2} \\mathbf{R}_{t-2} \\cdots \\mathbf{R}_1 = \\cdots = \n",
    "\\mathbf{A}_t \\mathbf{A}_{t-1} \\cdots \\mathbf{A}_1\n",
    "$$\n",
    "\n",
    "Thus, $\\mathbf{R} = \\mathbf{R}_t \\mathbf{R}_{t-1}\\cdots \\mathbf{R}_1$ and $\\mathbf{Q} = \\mathbf{Q}_t$.\n",
    "\n",
    "Importantly, as $\\mathbf{R}_i$ are upper triangular, we know that the $j$ th diagonal entry of $\\mathbf{R}$ is the product of $j$ th diagonal entries of all $\\mathbf{R}_i$. Thus, we can calculate the natural log of the $j$ th diagonal entry of $\\mathbf{R}$ by summing up the natural log of the $j$ th diagonal entries of all $\\mathbf{R}_i$.\n"
   ]
  },
  {
   "cell_type": "markdown",
   "metadata": {},
   "source": [
    "### b iii"
   ]
  },
  {
   "cell_type": "code",
   "execution_count": 64,
   "metadata": {},
   "outputs": [],
   "source": [
    "def LYAall(n, sigma, t):\n",
    "    \"\"\"\n",
    "    Calculate all of the Lyapunov exponent with n-dimension, standard deviation sigma, and t iterations\n",
    "    Input: \n",
    "        n: dimension\n",
    "        sigma: parameter\n",
    "        t: number of iterations\n",
    "    Output:\n",
    "        L: numpy array of size n\n",
    "        L[i] is the Lyapunov exponent for i+1\n",
    "    \"\"\"\n",
    "\n",
    "    L = np.ones(n)\n",
    "    Q = np.eye(n)\n",
    "    for i in range(t):\n",
    "        A = random.normal(0,sigma,(n,n))\n",
    "        Q, R = np.linalg.qr(A@Q)\n",
    "        L += np.log(np.abs(np.diag(R)))\n",
    "    return L/t\n"
   ]
  },
  {
   "cell_type": "code",
   "execution_count": 40,
   "metadata": {},
   "outputs": [],
   "source": [
    "from scipy.special import digamma\n",
    "import numpy as np\n",
    "from tabulate import tabulate\n",
    "\n",
    "\n",
    "def lambda_exact(n, sigma, k):\n",
    "    \"\"\"\n",
    "    Calculate the exact value of the k-th Lyapunov exponent\n",
    "    Input:\n",
    "        n: dimension\n",
    "        sigma: parameter\n",
    "        k: index of the Lyapunov exponent\n",
    "    Output:\n",
    "        lambda_k: the exact value of the k-th Lyapunov exponent\n",
    "    \"\"\"\n",
    "    return np.log(sigma) + 1/2*(np.log(2) + digamma((n-k+1)/2))\n",
    "\n",
    "dimension = 10\n",
    "sigma = 2\n",
    "t = 10000\n",
    "\n",
    "L = LYAall(dimension, sigma, t)\n",
    "L_exact = [lambda_exact(dimension, sigma, k) for k in range(1, dimension+1)]\n",
    "difference = (L - L_exact)/L_exact*100"
   ]
  },
  {
   "cell_type": "code",
   "execution_count": 41,
   "metadata": {},
   "outputs": [
    {
     "name": "stdout",
     "output_type": "stream",
     "text": [
      "Estimation of Lyapunov exponents with n =  10  and sigma =  2  and number of interation =  10000\n",
      "  kth lyapunov    lyapunov calculated      exact    percent error, %\n",
      "--------------  ---------------------  ---------  ------------------\n",
      "             1              1.79253    1.79278          -0.0136956\n",
      "             2              1.73251    1.73416          -0.094872\n",
      "             3              1.66777    1.66778          -0.000308763\n",
      "             4              1.59092    1.5913           -0.0236984\n",
      "             5              1.50727    1.50111           0.410036\n",
      "             6              1.39048    1.3913           -0.0587079\n",
      "             7              1.25668    1.25111           0.444889\n",
      "             8              1.05642    1.05797          -0.14644\n",
      "             9              0.755915   0.751113          0.639326\n",
      "            10              0.0504724  0.0579658       -12.9272\n"
     ]
    }
   ],
   "source": [
    "table = []\n",
    "for i in range(dimension):\n",
    "    table.append([i+1, L[i], L_exact[i], difference[i]])\n",
    "\n",
    "print(\"Estimation of Lyapunov exponents with n = \", dimension, \" and sigma = \", sigma, \" and number of interation = \", t)\n",
    "print(tabulate(table, headers=[\"kth lyapunov\", \"lyapunov calculated\", \"exact\", \"percent error, %\"]))"
   ]
  },
  {
   "cell_type": "code",
   "execution_count": null,
   "metadata": {},
   "outputs": [],
   "source": []
  }
 ],
 "metadata": {
  "kernelspec": {
   "display_name": "Python 3 (ipykernel)",
   "language": "python",
   "name": "python3"
  },
  "language_info": {
   "codemirror_mode": {
    "name": "ipython",
    "version": 3
   },
   "file_extension": ".py",
   "mimetype": "text/x-python",
   "name": "python",
   "nbconvert_exporter": "python",
   "pygments_lexer": "ipython3",
   "version": "3.11.6"
  }
 },
 "nbformat": 4,
 "nbformat_minor": 2
}

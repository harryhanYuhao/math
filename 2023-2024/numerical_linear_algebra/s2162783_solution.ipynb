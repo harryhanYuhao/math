{
 "cells": [
  {
   "cell_type": "markdown",
   "metadata": {},
   "source": [
    "## Q1\n",
    "### (a)"
   ]
  },
  {
   "cell_type": "markdown",
   "metadata": {},
   "source": [
    "**Input**: $\\bold{a} \\in \\mathbb{R}^{n-1}, \\bold{b} \\in \\mathbb{R}^{n}, \\bold{v}\\in \\mathbb{R}^{n-1}$\n",
    "\n",
    "**Output**: $\\bold{l} \\in \\mathbb{R}^{n-1}, \\bold{u} \\in \\mathbb{R}^{n}, \\bold{v}\\in \\mathbb{R}^{n-1}$\n",
    "1. $\\bold{l} = \\bold{0}$\n",
    "1. for $i = 1, \\cdots, n$\n",
    "    - if $i \\neq n$:\n",
    "        - $v_i = c_i$\n",
    "    - if $i > 1$:\n",
    "        - $l_i = a_i / u_{i-1}$\n",
    "    - $u_i = b_i - l_i v_{i-1}$\n",
    "1. endfor"
   ]
  },
  {
   "cell_type": "markdown",
   "metadata": {},
   "source": [
    "### (b)\n",
    "$C(n) = 3n - 1$\n",
    "\n",
    "There are $n$ interations. For each iteration, calculation of $l_i$ takes one operation, $u_i$ takes two operations, and $v_i$ takes none. The first iteration does not calculate $l_i$ and $v_i$. Therefore, the total number of operations is $3n - 1$."
   ]
  },
  {
   "cell_type": "markdown",
   "metadata": {},
   "source": [
    "### (c)"
   ]
  },
  {
   "cell_type": "code",
   "execution_count": 11,
   "metadata": {},
   "outputs": [],
   "source": [
    "import numpy as np\n",
    "def LUtri(a, b, c):\n",
    "    \"\"\"\n",
    "    LU factorisation of a tridiagonal matrix\n",
    "    Input:\n",
    "        a, b, c: numpy arrays of size n-1, n, n-1\n",
    "    Output:\n",
    "        l, u, v: numpy arrays of size n-1, n, n-1\n",
    "    \"\"\"\n",
    "\n",
    "    # a[i] = a_{i+2}\n",
    "    # b[i] = b_{i+1}\n",
    "    # c[i] = c_{i+1}\n",
    "    # find dimension of b\n",
    "    n = b.size\n",
    "\n",
    "    # initialise l, u, v\n",
    "    l = np.zeros(n-1) # we have l[i] = l_{i+2}\n",
    "    u = np.zeros(n) # u[i] = u_{i+1}\n",
    "    v = np.zeros(n-1) #v[i] = v_{i+1}\n",
    "\n",
    "    for i in range(1,n+1):\n",
    "        u[i-1] = b[i-1] - l[i-2]*v[i-2]\n",
    "        if i != n:\n",
    "            v[i-1] = c[i-1]\n",
    "        if i > 1:\n",
    "            l[i-2] = a[i-2]/u[i-2]\n",
    "        u[i-1] = b[i-1] - l[i-2]*v[i-2]\n",
    "    \n",
    "    return l, u, v\n"
   ]
  },
  {
   "cell_type": "code",
   "execution_count": 12,
   "metadata": {},
   "outputs": [],
   "source": [
    "import numpy as np\n",
    "# These are some auxiliary functions\n",
    "def get_abc_From_A(A):\n",
    "    \"\"\"\n",
    "    input:\n",
    "        n*n matrix A as numpy array\n",
    "    output:\n",
    "        n-1 dimensional vector a\n",
    "        n dimensional vector b\n",
    "        n-1 dimensional vector c\n",
    "        They are input of LUtri\n",
    "    \"\"\"\n",
    "    b = np.diag(A)\n",
    "    a = np.diag(A, k=-1)\n",
    "    c = np.diag(A, k=1)\n",
    "    return a, b, c\n",
    "\n",
    "def get_A_From_abc(a, b, c):\n",
    "    \"\"\"\n",
    "    input:\n",
    "        n-1 dimensional vector a\n",
    "        n dimensional vector b\n",
    "        n-1 dimensional vector c\n",
    "    output:\n",
    "        n*n matrix A as numpy array\n",
    "    \"\"\"\n",
    "    n = b.size\n",
    "    A = np.zeros((n,n))\n",
    "    A = np.diag(a, k=-1) + np.diag(b, k=0) + np.diag(c, k=1)\n",
    "    return A\n",
    "\n",
    "def random_tridiagonal_matrix(n):\n",
    "    \"\"\"\n",
    "    input:\n",
    "        n: dimension\n",
    "    output:\n",
    "        n*n matrix A as numpy array\n",
    "    \"\"\"\n",
    "    a = np.random.rand(n-1)\n",
    "    b = np.random.rand(n)\n",
    "    c = np.random.rand(n-1)\n",
    "    return get_A_From_abc(a, b, c)\n",
    "\n",
    "def get_L_from_l_of_LUtri(l):\n",
    "    \"\"\" \n",
    "    input:\n",
    "        n dimensional vector l from LUtri\n",
    "    output:\n",
    "        n*n matrix L as numpy array, that is L = diag(1) + diag(l, -1)\n",
    "    \"\"\"\n",
    "\n",
    "    return np.diag(np.ones(len(l)+1), 0) + np.diag(l, -1)\n",
    "\n",
    "def get_U_from_u_v_of_LUtri(u, v):\n",
    "    \"\"\" \n",
    "    input: \n",
    "        n dimensional vector u from LUtri\n",
    "        n dimensional vector v from LUtri\n",
    "    output:\n",
    "        n*n matrix U as numpy array, that is U = diag(u) + diag(v, 1)\n",
    "    \"\"\"\n",
    "    return np.diag(u, 0) + np.diag(v, 1)\n"
   ]
  },
  {
   "cell_type": "code",
   "execution_count": 13,
   "metadata": {},
   "outputs": [
    {
     "name": "stdout",
     "output_type": "stream",
     "text": [
      "A = \n"
     ]
    },
    {
     "data": {
      "image/png": "[encoded data removed]",
      "text/latex": [
       "$\\displaystyle \\left[\\begin{matrix}2 & 1 & 0\\\\-1 & 3 & 1\\\\0 & -2 & 1\\end{matrix}\\right]$"
      ],
      "text/plain": [
       "⎡2   1   0⎤\n",
       "⎢         ⎥\n",
       "⎢-1  3   1⎥\n",
       "⎢         ⎥\n",
       "⎣0   -2  1⎦"
      ]
     },
     "metadata": {},
     "output_type": "display_data"
    },
    {
     "name": "stdout",
     "output_type": "stream",
     "text": [
      "L = \n"
     ]
    },
    {
     "data": {
      "image/png": "[encoded data removed]",
      "text/latex": [
       "$\\displaystyle \\left[\\begin{matrix}1.0 & 0 & 0\\\\-0.5 & 1.0 & 0\\\\0 & -0.571428571428571 & 1.0\\end{matrix}\\right]$"
      ],
      "text/plain": [
       "⎡1.0           0            0 ⎤\n",
       "⎢                             ⎥\n",
       "⎢-0.5         1.0           0 ⎥\n",
       "⎢                             ⎥\n",
       "⎣ 0    -0.571428571428571  1.0⎦"
      ]
     },
     "metadata": {},
     "output_type": "display_data"
    },
    {
     "name": "stdout",
     "output_type": "stream",
     "text": [
      "U = \n"
     ]
    },
    {
     "data": {
      "image/png": "[encoded data removed]",
      "text/latex": [
       "$\\displaystyle \\left[\\begin{matrix}2.0 & 1.0 & 0\\\\0 & 3.5 & 1.0\\\\0 & 0 & 1.57142857142857\\end{matrix}\\right]$"
      ],
      "text/plain": [
       "⎡2.0  1.0         0        ⎤\n",
       "⎢                          ⎥\n",
       "⎢ 0   3.5        1.0       ⎥\n",
       "⎢                          ⎥\n",
       "⎣ 0    0   1.57142857142857⎦"
      ]
     },
     "metadata": {},
     "output_type": "display_data"
    },
    {
     "name": "stdout",
     "output_type": "stream",
     "text": [
      "LU = \n"
     ]
    },
    {
     "data": {
      "image/png": "[encoded data removed]",
      "text/latex": [
       "$\\displaystyle \\left[\\begin{matrix}2.0 & 1.0 & 0\\\\-1.0 & 3.0 & 1.0\\\\0 & -2.0 & 1.0\\end{matrix}\\right]$"
      ],
      "text/plain": [
       "⎡2.0   1.0    0 ⎤\n",
       "⎢               ⎥\n",
       "⎢-1.0  3.0   1.0⎥\n",
       "⎢               ⎥\n",
       "⎣ 0    -2.0  1.0⎦"
      ]
     },
     "metadata": {},
     "output_type": "display_data"
    }
   ],
   "source": [
    "import numpy as np\n",
    "from sympy import init_printing, Matrix\n",
    "init_printing()\n",
    "# construct A as instructed\n",
    "A = np.array([[2, 1, 0], [-1, 3, 1], [0, -2, 1]])\n",
    "\n",
    "# extract the diagonals\n",
    "a, b, c = get_abc_From_A(A)\n",
    "\n",
    "# call LUtri\n",
    "l, u, v = LUtri(a, b, c)\n",
    "\n",
    "# construct L and U from the output of LUtri\n",
    "L = get_L_from_l_of_LUtri(l)\n",
    "U = get_U_from_u_v_of_LUtri(u, v)\n",
    "\n",
    "#check that A = LU\n",
    "print(\"A = \")\n",
    "display(Matrix(A))\n",
    "print(\"L = \")\n",
    "display(Matrix(L))\n",
    "print(\"U = \")\n",
    "display(Matrix(U))\n",
    "print(\"LU = \")\n",
    "display(Matrix(L@U))"
   ]
  },
  {
   "cell_type": "markdown",
   "metadata": {},
   "source": [
    "### (d) Benchmarking"
   ]
  },
  {
   "cell_type": "code",
   "execution_count": 15,
   "metadata": {},
   "outputs": [],
   "source": [
    "def LU(A):\n",
    "    \n",
    "    # Find dimension of A\n",
    "    n = A.shape[0]\n",
    "    \n",
    "    # Initialise L=I, U=A\n",
    "    L = np.eye(n) \n",
    "    U = np.copy(A)\n",
    "\n",
    "    for k in range(n - 1): # loop over columns 1 to n-1\n",
    "        for j in range(k + 1, n): # loop over rows k+1 to n\n",
    "            L[j, k] = U[j, k] / U[k ,k] # compute the multiplier l_jk\n",
    "            U[j, k:] = U[j, k:] - L[j, k] * U[k, k:] # subtract a multiple of row k \n",
    "                                                     # from row j to create zeros \n",
    "                                                     # below the diagonal in column k\n",
    "    \n",
    "    return L, U # return the LU factorisation of A"
   ]
  },
  {
   "cell_type": "code",
   "execution_count": 16,
   "metadata": {},
   "outputs": [
    {
     "name": "stdout",
     "output_type": "stream",
     "text": [
      "time_LUtri =  0.00890207290649414\n",
      "time_LU =  1.0001060962677002\n"
     ]
    }
   ],
   "source": [
    "import time\n",
    "import numpy as np\n",
    "\n",
    "number_iteration = 100\n",
    "size_of_matrix = 100\n",
    "time_LUtri = 0\n",
    "time_LU = 0\n",
    "\n",
    "for i in range(number_iteration):\n",
    "    A = random_tridiagonal_matrix(size_of_matrix)\n",
    "    tmp = time.time()\n",
    "    a, b, c = get_abc_From_A(A)\n",
    "    LUtri(a, b, c)\n",
    "    time_LUtri += time.time() - tmp\n",
    "\n",
    "    tmp = time.time()\n",
    "    LU(A)\n",
    "    time_LU += time.time() - tmp\n",
    "\n",
    "print(\"time_LUtri = \", time_LUtri)\n",
    "print(\"time_LU = \", time_LU)\n",
    "\n",
    "\n"
   ]
  },
  {
   "cell_type": "markdown",
   "metadata": {},
   "source": [
    "### 1(e)"
   ]
  },
  {
   "cell_type": "code",
   "execution_count": 17,
   "metadata": {},
   "outputs": [],
   "source": [
    "import numpy as np\n",
    "\n",
    "def FStri(L, r):\n",
    "    \"\"\"\n",
    "    Forward substitution for a lower triangular matrix\n",
    "    Input:\n",
    "        L: numpy array of size n*n\n",
    "        r: numpy array of size n\n",
    "    Output:\n",
    "        y: numpy array of size n\n",
    "    \"\"\"\n",
    "    n = r.size\n",
    "    y = np.zeros(n)\n",
    "    y[0] = r[0]\n",
    "    for i in range(1,n):\n",
    "        y[i] = r[i] - L[i][i-1]*y[i-1]\n",
    "\n",
    "    return y\n",
    "\n",
    "def BStri(U, y):\n",
    "    \"\"\"\n",
    "    Backward substitution for an upper triangular matrix\n",
    "    Input:\n",
    "        U: numpy array of size n*n\n",
    "        y: numpy array of size n\n",
    "    Output:\n",
    "        x: numpy array of size n\n",
    "    \"\"\"\n",
    "    n = y.size\n",
    "    x = np.zeros(n)\n",
    "    x[n-1] = y[n-1]/U[n-1][n-1]\n",
    "    for i in range(n-2,-1,-1):\n",
    "        x[i] = (y[i] - U[i][i+1]*x[i+1])/U[i][i]\n",
    "\n",
    "    return x\n",
    "\n",
    "\n",
    "def GEtri(A, r):\n",
    "    \"\"\"\n",
    "    Gaussian elimination for a tridiagonal matrix\n",
    "    Input:\n",
    "        A: numpy array of size n*n\n",
    "        r: numpy array of size n\n",
    "    Output:\n",
    "        x: numpy array of size n\n",
    "    \"\"\"\n",
    "    \n",
    "    a, b, c = get_abc_From_A(A)\n",
    "    l, u, v = LUtri(a, b, c)\n",
    "    L  = get_L_from_l_of_LUtri(l)\n",
    "    U = get_U_from_u_v_of_LUtri(u, v)\n",
    "    y = FStri(L, r)\n",
    "    x = BStri(U, y)\n",
    "    return x\n"
   ]
  },
  {
   "cell_type": "code",
   "execution_count": 18,
   "metadata": {},
   "outputs": [
    {
     "name": "stdout",
     "output_type": "stream",
     "text": [
      "[ 1.25  -0.125 -0.875  1.625]\n",
      "[ 1.25  -0.125 -0.875  1.625]\n"
     ]
    }
   ],
   "source": [
    "a = np.array([1, 3, 1])\n",
    "b = np.array([1, 1, -2, 3])\n",
    "c = np.array([2, -1, 1])\n",
    "\n",
    "r = np.array([1,2,3,4])\n",
    "\n",
    "A = get_A_From_abc(a, b, c)\n",
    "x = GEtri(A, r)\n",
    "print(x)\n",
    "print(np.linalg.solve(A, r))"
   ]
  },
  {
   "cell_type": "code",
   "execution_count": null,
   "metadata": {},
   "outputs": [],
   "source": []
  },
  {
   "cell_type": "markdown",
   "metadata": {},
   "source": [
    "## Q2\n",
    "### Q2(a)"
   ]
  },
  {
   "cell_type": "markdown",
   "metadata": {},
   "source": [
    "Use taylor expansion of $w(x \\pm h)$:\n",
    "$$\n",
    "w(x + h) = w(x) + h w'(x) + \\frac{h^2}{2} w''(x) + O_1(h^3)\n",
    "$$\n",
    "\n",
    "$$\n",
    "w(x - h) = w(x) - h w'(x) + \\frac{h^2}{2} w''(x) + O_2(h^3)\n",
    "$$\n",
    "\n",
    "Combine them and we have \n",
    "\n",
    "$$\n",
    "w(x + h) + w(x - h) \\approx 2w(x) + h^2 w''(x) \\Rightarrow w''(x) \\approx \\frac{w(x + h) + w(x - h) - 2w(x)}{h^2}\n",
    "$$"
   ]
  },
  {
   "cell_type": "markdown",
   "metadata": {},
   "source": [
    "### Q2(b)\n",
    "$\\bold{a}_i = \\bold{c}_i= \\frac{1}{h^2} $ They are $N-2$ dimensional vectors.\n",
    "\n",
    "$\\bold{b}_i = (-\\frac{2}{h^2} + \\omega^2)$ They are $N-1$ dimensional vectors.\n",
    "\n",
    "$\\bold{r}_i = \\omega^2 f(x_i)$"
   ]
  },
  {
   "cell_type": "markdown",
   "metadata": {},
   "source": [
    "### Q2(c)\n"
   ]
  },
  {
   "cell_type": "code",
   "execution_count": 28,
   "metadata": {},
   "outputs": [],
   "source": [
    "def BVP(N, omega, f):\n",
    "    \"\"\"\n",
    "    Solve the BVP\n",
    "    w''(x) + omega^2*w(x) = omega^2 f(x)\n",
    "    With boundary conditions w(0) = w(1) = 0\n",
    "\n",
    "    Input:\n",
    "        N: number of grid points\n",
    "        omega: a parameter\n",
    "        f: function f(x)\n",
    "    Output:\n",
    "        x: a numpy array of size N that is the independent variable of the solution\n",
    "        w: a numpy array of size N that is the dependent variable of the solution\n",
    "        w(x) is the solution of the BVP\n",
    "    \"\"\"\n",
    "    # calculate h\n",
    "    h = 1/N\n",
    "    x = np.linspace(0, 1, N+1)\n",
    "    a = np.ones(N-2)/(h**2)\n",
    "    c = a \n",
    "    b = (-2/(h**2) + omega**2)*np.ones(N-1)\n",
    "    r = omega**2*f(x[1:-1])\n",
    "\n",
    "    # solve the tridiagonal system\n",
    "    w = GEtri(get_A_From_abc(a, b, c), r)\n",
    "    \n",
    "    # add the boundary conditions\n",
    "    w = np.insert(w, 0, 0)\n",
    "    w = np.append(w, 0)\n",
    "    return x, w\n",
    "\n",
    "    "
   ]
  },
  {
   "cell_type": "code",
   "execution_count": null,
   "metadata": {},
   "outputs": [],
   "source": []
  },
  {
   "cell_type": "markdown",
   "metadata": {},
   "source": [
    "## Q2(d)"
   ]
  },
  {
   "cell_type": "code",
   "execution_count": 42,
   "metadata": {},
   "outputs": [],
   "source": [
    "import numpy as np\n",
    "# the exact solution\n",
    "\n",
    "def w_exact(x, omega):\n",
    "    \"\"\"\n",
    "    This is the exact solution of the BVP when f(x) = 1\n",
    "    \"\"\"\n",
    "    return (np.sin(omega) - np.sin(omega*x) - np.sin(omega*(1-x)))/(np.sin(omega))\n",
    "\n",
    "def error(N, omega):\n",
    "    \"\"\"\n",
    "    Calculate the error of the numerical solution\n",
    "    Input:\n",
    "        N: number of grid points\n",
    "        omega: a parameter\n",
    "        f: function f(x)\n",
    "    Output:\n",
    "        e: the error\n",
    "    \"\"\"\n",
    "    def functionf(x):\n",
    "        return x-x+1\n",
    "    x, w = BVP(N, omega, functionf)\n",
    "    diff = w[1:-1] - w_exact(x, omega)[1:-1]\n",
    "    e = np.linalg.norm(diff, ord=2)\n",
    "    return e\n",
    "\n",
    "def get_norm_of_exact(N, omega):\n",
    "    \"\"\"\n",
    "    Calculate the norm of the exact solution\n",
    "    Input:\n",
    "        N: number of grid points\n",
    "        omega: a parameter\n",
    "    \"\"\"\n",
    "    x = np.linspace(0, 1, N+1)\n",
    "    x = np.delete(x, 0)\n",
    "    solution = w_exact(x, omega)\n",
    "    return np.linalg.norm(solution, ord=2)\n",
    "\n",
    "\n",
    "omega = 20\n",
    "\n",
    "errorList = []\n",
    "\n",
    "n_list = [int(i) for i in np.linspace(100, 1000, 100)]\n",
    "\n",
    "for i in n_list:\n",
    "    errorList.append(error(int(i), omega)/get_norm_of_exact(int(i), omega))\n"
   ]
  },
  {
   "cell_type": "code",
   "execution_count": 43,
   "metadata": {},
   "outputs": [
    {
     "data": {
      "text/plain": [
       "[<matplotlib.lines.Line2D at 0x7fb6ea989c10>]"
      ]
     },
     "execution_count": 43,
     "metadata": {},
     "output_type": "execute_result"
    },
    {
     "data": {
      "image/png": "[encoded data removed]",
      "text/plain": [
       "<Figure size 640x480 with 1 Axes>"
      ]
     },
     "metadata": {},
     "output_type": "display_data"
    }
   ],
   "source": [
    "import matplotlib.pyplot as plt\n",
    "import numpy as np\n",
    "\n",
    "import matplotlib as mpl\n",
    "\n",
    "fig, ax = plt.subplots()  # Create a figure containing a single axes.\n",
    "ax.plot(n_list, errorList)  # Plot some data on the axes"
   ]
  },
  {
   "cell_type": "code",
   "execution_count": null,
   "metadata": {},
   "outputs": [],
   "source": []
  }
 ],
 "metadata": {
  "kernelspec": {
   "display_name": "Python 3",
   "language": "python",
   "name": "python3"
  },
  "language_info": {
   "codemirror_mode": {
    "name": "ipython",
    "version": 3
   },
   "file_extension": ".py",
   "mimetype": "text/x-python",
   "name": "python",
   "nbconvert_exporter": "python",
   "pygments_lexer": "ipython3",
   "version": "3.11.6"
  }
 },
 "nbformat": 4,
 "nbformat_minor": 2
}

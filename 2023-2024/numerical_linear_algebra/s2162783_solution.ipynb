{
 "cells": [
  {
   "cell_type": "markdown",
   "metadata": {},
   "source": [
    "## Q1\n",
    "### (a)"
   ]
  },
  {
   "cell_type": "markdown",
   "metadata": {},
   "source": [
    "**Input**: $\\bold{a} \\in \\mathbb{R}^{n-1}, \\bold{b} \\in \\mathbb{R}^{n}, \\bold{v}\\in \\mathbb{R}^{n-1}$\n",
    "\n",
    "**Output**: $\\bold{l} \\in \\mathbb{R}^{n-1}, \\bold{u} \\in \\mathbb{R}^{n}, \\bold{v}\\in \\mathbb{R}^{n-1}$\n",
    "1. $\\bold{l} = \\bold{0}$\n",
    "1. for $i = 1, \\cdots, n$\n",
    "    - if $i \\neq n$:\n",
    "        - $v_i = c_i$\n",
    "    - if $i > 1$:\n",
    "        - $l_i = a_i / u_{i-1}$\n",
    "    - $u_i = b_i - l_i v_{i-1}$\n",
    "1. endfor"
   ]
  },
  {
   "cell_type": "markdown",
   "metadata": {},
   "source": [
    "### (b)\n",
    "$C(n) = 3n - 1$\n",
    "\n",
    "There are $n$ interations. For each iteration, calculation of $l_i$ takes one operation, $u_i$ takes two operations, and $v_i$ takes none. The first iteration does not calculate $l_i$ and $v_i$. Therefore, the total number of operations is $3n - 1$."
   ]
  },
  {
   "cell_type": "markdown",
   "metadata": {},
   "source": [
    "### (c)"
   ]
  },
  {
   "cell_type": "code",
   "execution_count": 92,
   "metadata": {},
   "outputs": [],
   "source": [
    "import numpy as np\n",
    "def LUtri(a, b, c):\n",
    "    \"\"\"\n",
    "    LU factorisation of a tridiagonal matrix\n",
    "    Input:\n",
    "        a, b, c: numpy arrays of size n-1, n, n-1\n",
    "    Output:\n",
    "        l, u, v: numpy arrays of size n-1, n, n-1\n",
    "    \"\"\"\n",
    "\n",
    "    # a[i] = a_{i+2}\n",
    "    # b[i] = b_{i+1}\n",
    "    # c[i] = c_{i+1}\n",
    "    # find dimension of b\n",
    "    n = b.size\n",
    "\n",
    "    # initialise l, u, v\n",
    "    l = np.zeros(n-1) # we have l[i] = l_{i+2}\n",
    "    u = np.zeros(n) # u[i] = u_{i+1}\n",
    "    v = np.zeros(n-1) #v[i] = v_{i+1}\n",
    "\n",
    "    for i in range(1,n+1):\n",
    "        u[i-1] = b[i-1] - l[i-2]*v[i-2]\n",
    "        if i != n:\n",
    "            v[i-1] = c[i-1]\n",
    "        if i > 1:\n",
    "            l[i-2] = a[i-2]/u[i-2]\n",
    "        u[i-1] = b[i-1] - l[i-2]*v[i-2]\n",
    "    \n",
    "    return l, u, v\n"
   ]
  },
  {
   "cell_type": "code",
   "execution_count": 93,
   "metadata": {},
   "outputs": [],
   "source": [
    "import numpy as np\n",
    "# These are some auxiliary functions\n",
    "def L_from_LUtri(l):\n",
    "    \"\"\" \n",
    "    input:\n",
    "        n dimensional vector l from LUtri\n",
    "    output:\n",
    "        n*n matrix L as numpy array, that is L = diag(1) + diag(l, -1)\n",
    "    \"\"\"\n",
    "\n",
    "    return np.diag(np.ones(len(l)+1), 0) + np.diag(l, -1)\n",
    "\n",
    "def U_fromLUtri(u, v):\n",
    "    \"\"\" \n",
    "    input: \n",
    "        n dimensional vector u from LUtri\n",
    "        n dimensional vector v from LUtri\n",
    "    output:\n",
    "        n*n matrix U as numpy array, that is U = diag(u) + diag(v, 1)\n",
    "    \"\"\"\n",
    "    return np.diag(u, 0) + np.diag(v, 1)\n"
   ]
  },
  {
   "cell_type": "code",
   "execution_count": 94,
   "metadata": {},
   "outputs": [
    {
     "name": "stdout",
     "output_type": "stream",
     "text": [
      "A = \n"
     ]
    },
    {
     "data": {
      "image/png": "[encoded data removed]",
      "text/latex": [
       "$\\displaystyle \\left[\\begin{matrix}2 & 1 & 0\\\\-1 & 3 & 1\\\\0 & -2 & 1\\end{matrix}\\right]$"
      ],
      "text/plain": [
       "⎡2   1   0⎤\n",
       "⎢         ⎥\n",
       "⎢-1  3   1⎥\n",
       "⎢         ⎥\n",
       "⎣0   -2  1⎦"
      ]
     },
     "metadata": {},
     "output_type": "display_data"
    },
    {
     "name": "stdout",
     "output_type": "stream",
     "text": [
      "L = \n"
     ]
    },
    {
     "data": {
      "image/png": "[encoded data removed]",
      "text/latex": [
       "$\\displaystyle \\left[\\begin{matrix}1.0 & 0 & 0\\\\-0.5 & 1.0 & 0\\\\0 & -0.571428571428571 & 1.0\\end{matrix}\\right]$"
      ],
      "text/plain": [
       "⎡1.0           0            0 ⎤\n",
       "⎢                             ⎥\n",
       "⎢-0.5         1.0           0 ⎥\n",
       "⎢                             ⎥\n",
       "⎣ 0    -0.571428571428571  1.0⎦"
      ]
     },
     "metadata": {},
     "output_type": "display_data"
    },
    {
     "name": "stdout",
     "output_type": "stream",
     "text": [
      "U = \n"
     ]
    },
    {
     "data": {
      "image/png": "[encoded data removed]",
      "text/latex": [
       "$\\displaystyle \\left[\\begin{matrix}2.0 & 1.0 & 0\\\\0 & 3.5 & 1.0\\\\0 & 0 & 1.57142857142857\\end{matrix}\\right]$"
      ],
      "text/plain": [
       "⎡2.0  1.0         0        ⎤\n",
       "⎢                          ⎥\n",
       "⎢ 0   3.5        1.0       ⎥\n",
       "⎢                          ⎥\n",
       "⎣ 0    0   1.57142857142857⎦"
      ]
     },
     "metadata": {},
     "output_type": "display_data"
    },
    {
     "name": "stdout",
     "output_type": "stream",
     "text": [
      "LU = \n"
     ]
    },
    {
     "data": {
      "image/png": "[encoded data removed]",
      "text/latex": [
       "$\\displaystyle \\left[\\begin{matrix}2.0 & 1.0 & 0\\\\-1.0 & 3.0 & 1.0\\\\0 & -2.0 & 1.0\\end{matrix}\\right]$"
      ],
      "text/plain": [
       "⎡2.0   1.0    0 ⎤\n",
       "⎢               ⎥\n",
       "⎢-1.0  3.0   1.0⎥\n",
       "⎢               ⎥\n",
       "⎣ 0    -2.0  1.0⎦"
      ]
     },
     "metadata": {},
     "output_type": "display_data"
    }
   ],
   "source": [
    "import numpy as np\n",
    "from sympy import init_printing, Matrix\n",
    "init_printing()\n",
    "# construct A as instructed\n",
    "A = np.array([[2, 1, 0], [-1, 3, 1], [0, -2, 1]])\n",
    "\n",
    "# extract the diagonals\n",
    "b = np.diag(A)\n",
    "a = np.diag(A, k=-1)\n",
    "c = np.diag(A, k=1)\n",
    "\n",
    "# call LUtri\n",
    "l, u, v = LUtri(a, b, c)\n",
    "\n",
    "# construct L and U from the output of LUtri\n",
    "L = L_from_LUtri(l)\n",
    "U = U_fromLUtri(u, v)\n",
    "\n",
    "#check that A = LU\n",
    "print(\"A = \")\n",
    "display(Matrix(A))\n",
    "print(\"L = \")\n",
    "display(Matrix(L))\n",
    "print(\"U = \")\n",
    "display(Matrix(U))\n",
    "print(\"LU = \")\n",
    "display(Matrix(L@U))"
   ]
  },
  {
   "cell_type": "code",
   "execution_count": null,
   "metadata": {},
   "outputs": [],
   "source": []
  },
  {
   "cell_type": "code",
   "execution_count": null,
   "metadata": {},
   "outputs": [],
   "source": []
  }
 ],
 "metadata": {
  "kernelspec": {
   "display_name": "Python 3",
   "language": "python",
   "name": "python3"
  },
  "language_info": {
   "codemirror_mode": {
    "name": "ipython",
    "version": 3
   },
   "file_extension": ".py",
   "mimetype": "text/x-python",
   "name": "python",
   "nbconvert_exporter": "python",
   "pygments_lexer": "ipython3",
   "version": "3.11.6"
  }
 },
 "nbformat": 4,
 "nbformat_minor": 2
}

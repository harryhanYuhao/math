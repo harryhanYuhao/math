{
 "cells": [
  {
   "cell_type": "markdown",
   "metadata": {},
   "source": [
    "# Final project for HDEq Skills: \n",
    "`Due: Friday 1st December 2023 @ 12:00 (noon)`\n",
    "\n",
    "## Instruction and marking scheme\n",
    "\n",
    "Your submission (like your assignments) will be a Jupyter Notebook (.ipynb file) and a pdf file.  For your analysis and discussion use Markdown cells instead of comments in the code.\n",
    "\n",
    "For the presentation and coding style:\n",
    "- The plots should be in a good size, properly labelled and markers/lines wisely chosen. It might be a good idea to combine some plots and put several curves together for easier comparison and conciseness. \n",
    "- Your code should be well commented with meaningful variable names and good structures. You don't need to over comment it though!\n",
    "- The writing should be clear and concise with minimal language or typing mistakes.\n",
    "\n",
    "\n",
    "It is important that you think about good academic practice when you construct your answers. The work you submit must reflect **your own understanding**, in line with the School's policy on academic misconduct: https://edin.ac/2LtVQMw. Any form of plagiarism that is detected by the software or markers will be reported to the school for the due process."
   ]
  },
  {
   "cell_type": "markdown",
   "metadata": {},
   "source": [
    "## Part 1: Wave equation with linear damping\n",
    "\n",
    "Consider the following wave equation that includes a damping term\n",
    "\n",
    "<br>\n",
    "\\begin{equation}\n",
    "u_{tt} + \\nu u_{t} = c^2 u_{xx}\n",
    "\\end{equation}\n",
    "<br>\n",
    "with the boundary conditions\n",
    "\\begin{equation}\n",
    "u\\left(x = 0, t\\right) = 0 , \\quad u\\left(x = L, t\\right) = 0,\n",
    "\\end{equation}\n",
    "and the initial conditions\n",
    "\\begin{equation*}\n",
    "u\\left(x, t=0\\right) = f(x) = \\exp\\left(\\sin^2\\left(\\frac{2\\pi x}{L}\\right)\\right)-1 , \\quad u_t\\left(x, t=0\\right) = 0,\n",
    "\\end{equation*}\n",
    "\n",
    "For this problem, let's set $L=10$, $\\nu = 0.1$ and $c = 1$.\n",
    "\n",
    "We use a method to solve this PDE that is known as \"Galerkin\". In so doing, we approximate the solution with\n",
    "\n",
    "\\begin{equation*}\n",
    "u(x, t) \\approx \\sum_{n=1}^{N} f_n(t) \\sin(\\lambda_n x) \n",
    "\\end{equation*}\n",
    "\n",
    "and then derive an appropriate ODE for $f_n(t)$ to solve numerically. This is a form of separation of variables in which the equations for the functions of time are solved numerically rather than by hand. It can be shown that when $N \\to \\infty$ the above series converges to the exact solution. \n",
    "\n",
    "🚩 **Task 1.1 (1 mark)** Considering the above form of solution, find $\\lambda_n$ in terms of $n$ and $L$. \n",
    "\n",
    "🚩 **Task 1.2 (1 mark)** Using the assumed form of solution and PDE, find an ODE that describes the evolution of $f_n(t)$ in time, (where $n = 1, 2, \\dots, N $).\n",
    "\n",
    "🚩 **Task 1.3 (2 marks)** Using the initial conditions of the PDE and your knowledge of Fourier series, find two initial conditions for $f_n$ and $\\cfrac{df_n}{dt}$ at $t=0$. Your answer in this part might in the form of an integral, which you should not evaluate at this point (we will calculate this integral later numerically)."
   ]
  },
  {
   "cell_type": "markdown",
   "metadata": {},
   "source": [
    "---------------\n",
    "*use this cell for your answer*\n"
   ]
  },
  {
   "cell_type": "markdown",
   "metadata": {},
   "source": [
    "🚩 **Task 1.4 (3 marks)** Write a function that takes $n$ (the index of the terms in the series solution, for example $n=3$ corresponds to $f_3(0)$) as an input and returns $f_n(0)$. You might solve this part using different tools: 1) `sympy` module or 2) direct numerical calculation using  `scipy.integrate` (see the documentation [here](https://docs.scipy.org/doc/scipy/reference/tutorial/integrate.html)). Make sure your final result is a numerical real value (not symbolic expressions). Remember from your labs that you can use `.N()` method to evaluate a sympy expression (if you decide to use `sympy`, which is not the only way to complete this task).\n",
    "\n",
    "Once you have written your function, use it to calculate $f_n(0)$ for $L=10$, $n=5$ and the given initial condition $u(x, t=0) = \\exp\\left(\\sin^2\\left(\\frac{2\\pi x}{L}\\right)\\right)-1$."
   ]
  },
  {
   "cell_type": "code",
   "execution_count": null,
   "metadata": {},
   "outputs": [],
   "source": [
    "import sympy as sym\n",
    "import numpy as np\n",
    "\n",
    "def calc_fn_0(k):\n",
    "   "
   ]
  },
  {
   "cell_type": "markdown",
   "metadata": {},
   "source": [
    "🚩 **Task 1.5 (4 marks)** Write a function to solve the ODEs that you derived in 'Task 1.2' for each $f_n(t)$. Your function takes $n$ (the index of terms in the solution series) and `t_vec` (the vector of times at which you want to have the solution). Then, it calculates the corresponding initial conditions ($f_n$ and $\\cfrac{df}{dt}$ at $t=0$), solves the associated ODE and returns the solution at each point in `t_vec`. Use `odeint` to solve the ODE numerically. You may also use the function you wrote in the previous task.\n",
    "\n",
    "Use the function to plot $f_1(t)$, $f_2(t)$ and $f_3(t)$ for `t_vec = np.linspace(0, 100, 1001)`."
   ]
  },
  {
   "cell_type": "code",
   "execution_count": null,
   "metadata": {},
   "outputs": [],
   "source": [
    "import matplotlib.pyplot as plt\n",
    "from scipy.integrate import odeint\n",
    "# and this is the line in case the figure does not show up!\n",
    "%matplotlib inline\n",
    "\n",
    "nu = .1\n",
    "c = 1\n",
    "L = 10\n",
    "    \n",
    "def dF_dt(F, t, k):\n",
    "    '''\n",
    "    this function defines the RHS of the system of ODEs for f_n's\n",
    "    ----------------------------------------------------\n",
    "    '''\n",
    "    \n",
    "def fn_solve(k, t_vec):\n",
    "    '''\n",
    "    This function derives the solution of f_k(t) for all the times in 't_vec'\n",
    "    'k' is given as an input and marks the index of the term in series solution \n",
    "    '''"
   ]
  },
  {
   "cell_type": "markdown",
   "metadata": {},
   "source": [
    "🚩 **Task 1.6 (4 marks)** Write a function that takes $N$ (the total number of terms in the sine series of the solution), `t_vec` and `x_vec` (which is the vector of points in space) as inputs and returns the solution $u(x,t)$ of the PDE at the times `t_vec` and points `x_vec`. Your function output should be a $N_T \\times N_X$ numpy array, where $N_T$ is the number of points in time (i.e. the size of `t_vec`) and  $N_X$ is the number of points in space (i.e. the size of `x_vec`). Make good use of the functions you already wrote in the previous tasks.\n",
    "\n",
    "With this function, find the solution for \n",
    "\n",
    "`x_vec = np.linspace(0, L, 201)`\n",
    "\n",
    "`t_vec = np.linspace(0, 100, 1001)` \n",
    "\n",
    "`N =7`\n",
    "\n",
    "Make an animation to show how $u(x,t)$ changes in time (each frame of animation is the solution at all spatial points but for one specific point in time)"
   ]
  },
  {
   "cell_type": "code",
   "execution_count": null,
   "metadata": {},
   "outputs": [],
   "source": [
    "def waveq_dam_solve(N, t_vec, x_vec):"
   ]
  },
  {
   "cell_type": "code",
   "execution_count": null,
   "metadata": {},
   "outputs": [],
   "source": [
    "# Assuming the PDE's solution is stored in u_x_t[:,:],\n",
    "# compare the approx. solution at t=0 with the initial condition\n",
    "plt.plot(x_vec, u_x_t[0,:])\n",
    "plt.plot(x_vec,np.exp((np.sin(2*np.pi*x_vec/L))**2)-1)"
   ]
  },
  {
   "cell_type": "code",
   "execution_count": null,
   "metadata": {},
   "outputs": [],
   "source": [
    "import matplotlib.animation as animation"
   ]
  },
  {
   "cell_type": "markdown",
   "metadata": {},
   "source": [
    "🚩 **Task 1.7 (2 marks)** Examine how the solution changes for different values of $N$. Consider $N=3$, $N=7$ and $N=11$. Show the animation of the solution for all the three cases in one plot and compare them with each other. Discuss and analyse your results (for example, are three terms enough to get an acceptable solution? What about seven?)"
   ]
  },
  {
   "cell_type": "code",
   "execution_count": null,
   "metadata": {},
   "outputs": [],
   "source": []
  },
  {
   "cell_type": "markdown",
   "metadata": {},
   "source": [
    "🚩 **Task 1.8 (1 marks)** Change the damping parameter to $\\nu = 1$, and repeat the 'task 1.6' (for $N=7$ and keep all other parameters the same). In few sentences, explain the changes caused by increasing the damping."
   ]
  },
  {
   "cell_type": "markdown",
   "metadata": {},
   "source": [
    "## Part 2: Lorenz system\n",
    "\n",
    "\n",
    "The Lorenz system is given by the coupled set of ODEs\n",
    "\\begin{equation}\n",
    "  \\frac{\\mathrm{d}x}{\\mathrm{d}t} = -\\sigma x + \\sigma y, \\qquad\n",
    "  \\frac{\\mathrm{d}y}{\\mathrm{d}t} = x(\\rho - z) - y, \\qquad\n",
    "  \\frac{\\mathrm{d}z}{\\mathrm{d}t} = xy - \\beta z,\n",
    "\\end{equation}\n",
    "where ($\\rho, \\sigma, \\beta$) are system parameters. Lorenz derived these equation as a simplified mathematical model for [atmospheric convection](https://en.wikipedia.org/wiki/Atmospheric_convection), which is an aspect of weather.  While the Lorenz system is deterministic, you will find in this problem that in certain sets of parameters there is sensitive dependence of the solution on the initial condition. Assuming this system is a representation of weather, small errors invariably arise (e.g. numerical discretisation, measurements inaccuracy), grow and affect long term solutions (cf. loss of predictability in weather forecasting). However, there are statistical properties (cf. the climatology) that may be robust and may be described accordingly."
   ]
  },
  {
   "cell_type": "markdown",
   "metadata": {},
   "source": [
    "--------------------\n",
    "### Case of stable solution\n",
    "\n",
    "\n",
    "Consider the parameters $\\sigma = 8$, $\\beta = 2$ and $\\rho = 12$.\n",
    "\n",
    "\n",
    "🚩 **Task 2.1 (1 mark)** Find all the critical points of this system.\n",
    "\n",
    "🚩 **Task 2.2 (2 marks)** Using a numerical method of your choice, find the solution starting from $x(t=0) = y(t=0) = z(t=0) = 10$ up to $t=20$. Plot the solution in *x-y*, *y-z* and *x-z* planes (so you need three plots). Where does this initial condition end up in? Can you express the exact location of this solution as $t \\to \\infty$? Make sure your timestep is small enough to have robust results. You can check this by running your code for several different timesteps."
   ]
  },
  {
   "cell_type": "code",
   "execution_count": null,
   "metadata": {},
   "outputs": [],
   "source": [
    "# Task 2.2\n",
    "import numpy as np\n",
    "from scipy.integrate import odeint\n",
    "import matplotlib.pyplot as plt\n",
    "\n",
    "\n",
    "rho = 12.0\n",
    "sigma = 8.0\n",
    "beta = 2.0"
   ]
  },
  {
   "cell_type": "markdown",
   "metadata": {},
   "source": [
    "🚩 **Task 2.3 (4 marks)** Consider two different numerical methods: forward Euler and Ruge-kutta (4th order) methods. Set the initial condition to $x = y = z = 100$ and the final time to 0.3. The Ruge-kutta method with timestep h=10^{-6} is accurate enough that **we can regard it as an exact solution**. Using this *estimate numerically* the **global error** for variable $x$ and plot it in log-scale as a function of timestep. In so doing, consider the values `[0.002, 0.001, .0005, 0.0002, 0.0001]` for timesteps. \n",
    "\n",
    "Note that the order of error can be estimated from the slope of plots in log-scales. If a function is proportional to $h^{6}$, then in log-scale it looks linear and have the slope of $6$.\n",
    "\n",
    "What is the slope of global error vs timestep for each method? Why do you get these slopes? You can estimate the slopes by drawing linear guidelines. For example, if you draw $h^{6}$ and your curve is close to this guideline, then you can conclude that the slope is close to $6$. You need to shift your guidelines up and down to bring them closer to the results of numerical solutions. Are the results different than the slopes you expect for the local error as a function of timestep? Can you reason why?\n",
    "\n",
    "\n",
    "(Remember that you have already implemented forward Euler and Ruge-kutta in your lab notebooks. There is also something called \"copy-paste\".)"
   ]
  },
  {
   "cell_type": "code",
   "execution_count": null,
   "metadata": {},
   "outputs": [],
   "source": []
  },
  {
   "cell_type": "markdown",
   "metadata": {},
   "source": [
    "--------------------\n",
    "### Case of chaotic behaviour and strange attractor\n",
    "\n",
    "\n",
    "Consider the set of parameters $\\sigma = 8/3$, $\\beta = 4$ and $\\rho = 6$ and stick to Runge-Kutta scheme with timestep of $h = 10^{-4}$ for this part. \n",
    "\n",
    "**Task 2.4 (2 marks)** Draw the three-dimensional phase portraits using $x = y = z = 1$ as initial condition. You can use the script below to plot 3D curves.\n",
    "\n",
    "\n",
    "**Task 2.5 (3 marks)** Change the initial condition as $x = 1 + \\epsilon, y = 1, z = 1$, where $\\epsilon$ is $10^{-1}$, $10^{-5}$ and $10^{-12}$. Draw the phase portrait for each initial condition and compare it to what you got for Task 2.4. Do they look different? Representing the outputs of these new solutions (with new initial conditions) with $x_1$, $y_1$ and $z_1$ and the solution starting from $x = y = z = 1$ with $x^*$, $y^*$ and $z^*$, compute a measure of difference between these solutions given by\n",
    "  \n",
    "\\begin{equation*}\n",
    "\\mathcal{e}(t) = \\sqrt{(x^*(t) - x_1(t))^2 +  (y^*(t) - y_1(t))^2 + (z^*(t) - z_1(t))^2}.\n",
    "\\end{equation*}\n",
    "  \n",
    "Plot the time-series diagrams of $\\mathcal{e}(t)$ for three different values of $\\epsilon$. From the behaviour of $\\mathcal{e}(t)$ answer the following questions:\n",
    "\n",
    "- If two initial conditions are very close, do their corresponding trajectories stay close to each other in time? \n",
    "\n",
    "- Do you see an upper bound for $\\mathcal{e}(t)$? What does this imply?\n",
    "  \n",
    "  \n",
    "*The moral of the story is that the exact realisations (the \"weather\") can have sensitive dependence on initial conditions, and in reality errors always exist, so loss of accuracy in weather prediction is fairly rapid. However there are gross features that remain roughly invariant and can be described, for example the butterfly attractor that you see in your results (the \"climate\").*"
   ]
  },
  {
   "cell_type": "code",
   "execution_count": null,
   "metadata": {},
   "outputs": [],
   "source": [
    "# some hint how to create 3D plots for phase portraits\n",
    "from mpl_toolkits.mplot3d import Axes3D\n",
    "\n",
    "\n",
    "\n",
    "\n",
    "\n",
    "\n",
    "fig = plt.figure()\n",
    "ax = fig.gca(projection=\"3d\")\n",
    "ax.plot(x, y, z) # x and y and z are the time series of the solution\n",
    "plt.draw()\n",
    "plt.show()"
   ]
  },
  {
   "cell_type": "code",
   "execution_count": null,
   "metadata": {},
   "outputs": [],
   "source": []
  }
 ],
 "metadata": {
  "kernelspec": {
   "display_name": "Python 3 (ipykernel)",
   "language": "python",
   "name": "python3"
  },
  "language_info": {
   "codemirror_mode": {
    "name": "ipython",
    "version": 3
   },
   "file_extension": ".py",
   "mimetype": "text/x-python",
   "name": "python",
   "nbconvert_exporter": "python",
   "pygments_lexer": "ipython3",
   "version": "3.11.6"
  }
 },
 "nbformat": 4,
 "nbformat_minor": 4
}

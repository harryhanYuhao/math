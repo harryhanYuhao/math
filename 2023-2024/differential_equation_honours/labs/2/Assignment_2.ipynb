{
 "cells": [
  {
   "cell_type": "markdown",
   "metadata": {},
   "source": [
    "# Lab Assignment 2\n",
    "\n"
   ]
  },
  {
   "cell_type": "markdown",
   "metadata": {},
   "source": [
    "### Harry Han, s2162783"
   ]
  },
  {
   "cell_type": "markdown",
   "metadata": {},
   "source": [
    "## Presentation and coding style (3 marks)\n",
    "\n",
    "In this assignment, some marks are allocated to your coding style and presentation. Try to make your code more readable using the tips given in your computer lab 2. Make sure your figures have good quality, right size, good range and proper labels."
   ]
  },
  {
   "cell_type": "markdown",
   "metadata": {},
   "source": [
    "## Task 1 (4 marks)\n",
    "\n",
    "In this task we try to use several method from Lab 2 to solve the initial value problem \n",
    "\n",
    "\\begin{equation}\n",
    "y' = 4t-3y, \\quad y(0)=1,\n",
    "\\end{equation}\n",
    "\n",
    "Set the step size to $h = 0.05$ and numerically solve this ODE from $t=0$ to $0.5$ using the following methods:\n",
    "\n",
    "- Forward Euler \n",
    "\n",
    "- Adams–Bashforth order 2\n",
    "\n",
    "- Adams–Bashforth order 3 (we did not code this method in the computer lab, but you can find the formula on [this wikipedia page](https://en.wikipedia.org/wiki/Linear_multistep_method)). For this method, you need to build the very first two steps using other methods. For the first step, use the Euler scheme. For the second step, use Adams–Bashforth order 2. \n",
    "\n",
    "\n",
    "Plot the three different approximations, and display the values in a table."
   ]
  },
  {
   "cell_type": "code",
   "execution_count": 42,
   "metadata": {},
   "outputs": [],
   "source": [
    "# Import packages\n",
    "import math\n",
    "import numpy as np\n",
    "import matplotlib.pyplot as plt\n",
    "import math\n",
    "\n",
    "def timesteps(start, stop, h):\n",
    "    num_steps = math.ceil((stop - start)/h)\n",
    "    return np.linspace(start, start+num_steps*h, num_steps+1)\n",
    "\n",
    "timesteps(0, 0.5, h = 0.1)\n",
    "\n",
    "def ode_Euler(func, times, y0):\n",
    "    '''\n",
    "    integrates the system of y' = func(y, t) using forward Euler method\n",
    "    for the time steps in times and given initial condition y0\n",
    "    ----------------------------------------------------------\n",
    "    inputs:\n",
    "        func: the RHS function in the system of ODE\n",
    "        times: the points in time (or the span of independent variable in ODE)\n",
    "        y0: initial condition (make sure the dimension of y0 and func are the same)\n",
    "    output:\n",
    "        y: the solution of ODE. \n",
    "        Each row in the solution array y corresponds to a value returned in column vector t\n",
    "    '''\n",
    "    # guess why I put these two lines here?\n",
    "    times = np.array(times)\n",
    "    y0 = np.array(y0)\n",
    "    n = y0.size       # the dimension of ODE \n",
    "    nT = times.size   # the number of time steps \n",
    "    y = np.zeros([nT,n])\n",
    "    y[0, :] = y0\n",
    "    # loop for timesteps\n",
    "    for k in range(nT-1):\n",
    "        y[k+1, :] = y[k, :] + (times[k+1]-times[k])*func(y[k, :], times[k])\n",
    "    return y\n",
    "\n",
    "def ode_AB2(func, times, y0):\n",
    "    times = np.array(times)\n",
    "    y0 = np.array(y0)\n",
    "    n = y0.size       # the dimension of ODE \n",
    "    nT = times.size   # the number of time steps \n",
    "    y = np.zeros([nT,n])\n",
    "    dt = times[1] - times[0]\n",
    "    y[0,:] = y0\n",
    "    # First step using Euler\n",
    "    y[1,:] = y[0,:] + dt*func(y[0, :], times[0])\n",
    "    # Other steps\n",
    "    for k in range(1, nT-1):\n",
    "        y[k+1,:] = y[k,:] + (1.5*func(y[k, :], times[k])-0.5*func(y[k-1, :], times[k-1]))*dt\n",
    "       \n",
    "    return y \n",
    "\n",
    "def ode_AB3(func, times, y0):\n",
    "    times = np.array(times)\n",
    "    y0 = np.array(y0)\n",
    "    n = y0.size       # the dimension of ODE \n",
    "    nT = times.size   # the number of time steps \n",
    "    y = np.zeros([nT,n])\n",
    "    dt = times[1] - times[0]\n",
    "    y[0,:] = y0\n",
    "    # First step using Euler\n",
    "    y[1,:] = y[0,:] + dt*func(y[0, :], times[0])\n",
    "    # Second step using AB2\n",
    "    y[2,:] = y[1,:] + dt*(1.5*func(y[1, :], times[1])-0.5*func(y[0, :], times[0]))\n",
    "    # Other steps\n",
    "    for k in range(2, nT-1):\n",
    "        y[k+1,:] = y[k,:] + (23/12*func(y[k, :], times[k])-4/3*func(y[k-1, :], times[k-1])+5/12*func(y[k-2, :], times[k-2]))*dt\n",
    "       \n",
    "    return y\n",
    "\n",
    "\n",
    "\n",
    "def Euler_step(func, start, stop, h, ics):\n",
    "    times = timesteps(start, stop, h)\n",
    "    return ode_Euler(func, times, ics), times\n",
    "\n",
    "def AB2_step(func, start, stop, h, ics):\n",
    "    times = timesteps(start, stop, h)\n",
    "    return ode_AB2(func, times, ics), times\n",
    "\n",
    "def AB3_step(func, start, stop, h, ics):\n",
    "    times = timesteps(start, stop, h)\n",
    "    return ode_AB3(func, times, ics), times\n"
   ]
  },
  {
   "cell_type": "code",
   "execution_count": 43,
   "metadata": {},
   "outputs": [],
   "source": [
    "#  defining the function in the RHS of the ODE given in the question\n",
    "\n",
    "def RHS(y, t):\n",
    "    return 4*t-3*y\n"
   ]
  },
  {
   "cell_type": "code",
   "execution_count": 119,
   "metadata": {},
   "outputs": [
    {
     "data": {
      "text/plain": [
       "Text(0.5, 1.0, \"Numerical Solutions of the ODE y' = 4t-3y\")"
      ]
     },
     "execution_count": 119,
     "metadata": {},
     "output_type": "execute_result"
    },
    {
     "data": {
      "image/png": "[encoded data removed]",
      "text/plain": [
       "<Figure size 640x480 with 1 Axes>"
      ]
     },
     "metadata": {},
     "output_type": "display_data"
    }
   ],
   "source": [
    "from pandas import DataFrame\n",
    "\n",
    "Euler_res, Euler_times = Euler_step(RHS, 0, 0.5, 0.05, [1])\n",
    "Euler_res_DataFrame = DataFrame(data = Euler_res, index = Euler_times, columns = [\"h=0.05\"]).set_index(Euler_times).rename_axis('t', axis=1)\n",
    "\n",
    "# set caption\n",
    "Euler_res_DataFrame.style.set_caption(\"Euler\")\n",
    "\n",
    "AB2_res, AB2_times = AB2_step(RHS, 0, 0.5, 0.05, [1])\n",
    "AB2_res_DataFrame = DataFrame(data = AB2_res, index = AB2_times, columns = [\"h=0.05\"]).set_index(AB2_times).rename_axis('t', axis=1)\n",
    "\n",
    "AB3_res, AB3_times = AB3_step(RHS, 0, 0.5, 0.05, [1])\n",
    "AB3_res_DataFrame = DataFrame(data = AB3_res, index = AB3_times, columns = [\"h=0.05\"]).set_index(AB3_times).rename_axis('t', axis=1)\n",
    "\n",
    "# Plotting the results\n",
    "plt.plot(Euler_times, Euler_res_DataFrame, label = 'Euler')\n",
    "plt.plot(AB2_times, AB2_res, label = 'AB2')\n",
    "plt.plot(AB3_times, AB3_res, label = 'AB3')\n",
    "plt.legend()\n",
    "plt.xlabel('t')\n",
    "plt.ylabel('y')\n",
    "plt.title('Numerical Solutions of the ODE y\\' = 4t-3y')"
   ]
  },
  {
   "cell_type": "code",
   "execution_count": 167,
   "metadata": {},
   "outputs": [
    {
     "name": "stdout",
     "output_type": "stream",
     "text": [
      "Euler solution\n"
     ]
    },
    {
     "data": {
      "text/html": [
       "<div>\n",
       "<style scoped>\n",
       "    .dataframe tbody tr th:only-of-type {\n",
       "        vertical-align: middle;\n",
       "    }\n",
       "\n",
       "    .dataframe tbody tr th {\n",
       "        vertical-align: top;\n",
       "    }\n",
       "\n",
       "    .dataframe thead th {\n",
       "        text-align: right;\n",
       "    }\n",
       "</style>\n",
       "<table border=\"1\" class=\"dataframe\">\n",
       "  <thead>\n",
       "    <tr style=\"text-align: right;\">\n",
       "      <th>t</th>\n",
       "      <th>h=0.05</th>\n",
       "    </tr>\n",
       "  </thead>\n",
       "  <tbody>\n",
       "    <tr>\n",
       "      <th>0.00</th>\n",
       "      <td>1.000000</td>\n",
       "    </tr>\n",
       "    <tr>\n",
       "      <th>0.05</th>\n",
       "      <td>0.850000</td>\n",
       "    </tr>\n",
       "    <tr>\n",
       "      <th>0.10</th>\n",
       "      <td>0.732500</td>\n",
       "    </tr>\n",
       "    <tr>\n",
       "      <th>0.15</th>\n",
       "      <td>0.642625</td>\n",
       "    </tr>\n",
       "    <tr>\n",
       "      <th>0.20</th>\n",
       "      <td>0.576231</td>\n",
       "    </tr>\n",
       "    <tr>\n",
       "      <th>0.25</th>\n",
       "      <td>0.529797</td>\n",
       "    </tr>\n",
       "    <tr>\n",
       "      <th>0.30</th>\n",
       "      <td>0.500327</td>\n",
       "    </tr>\n",
       "    <tr>\n",
       "      <th>0.35</th>\n",
       "      <td>0.485278</td>\n",
       "    </tr>\n",
       "    <tr>\n",
       "      <th>0.40</th>\n",
       "      <td>0.482486</td>\n",
       "    </tr>\n",
       "    <tr>\n",
       "      <th>0.45</th>\n",
       "      <td>0.490113</td>\n",
       "    </tr>\n",
       "    <tr>\n",
       "      <th>0.50</th>\n",
       "      <td>0.506596</td>\n",
       "    </tr>\n",
       "  </tbody>\n",
       "</table>\n",
       "</div>"
      ],
      "text/plain": [
       "t       h=0.05\n",
       "0.00  1.000000\n",
       "0.05  0.850000\n",
       "0.10  0.732500\n",
       "0.15  0.642625\n",
       "0.20  0.576231\n",
       "0.25  0.529797\n",
       "0.30  0.500327\n",
       "0.35  0.485278\n",
       "0.40  0.482486\n",
       "0.45  0.490113\n",
       "0.50  0.506596"
      ]
     },
     "metadata": {},
     "output_type": "display_data"
    },
    {
     "name": "stdout",
     "output_type": "stream",
     "text": [
      "AB2 solution\n"
     ]
    },
    {
     "data": {
      "text/html": [
       "<div>\n",
       "<style scoped>\n",
       "    .dataframe tbody tr th:only-of-type {\n",
       "        vertical-align: middle;\n",
       "    }\n",
       "\n",
       "    .dataframe tbody tr th {\n",
       "        vertical-align: top;\n",
       "    }\n",
       "\n",
       "    .dataframe thead th {\n",
       "        text-align: right;\n",
       "    }\n",
       "</style>\n",
       "<table border=\"1\" class=\"dataframe\">\n",
       "  <thead>\n",
       "    <tr style=\"text-align: right;\">\n",
       "      <th>t</th>\n",
       "      <th>h=0.05</th>\n",
       "    </tr>\n",
       "  </thead>\n",
       "  <tbody>\n",
       "    <tr>\n",
       "      <th>0.00</th>\n",
       "      <td>1.000000</td>\n",
       "    </tr>\n",
       "    <tr>\n",
       "      <th>0.05</th>\n",
       "      <td>0.850000</td>\n",
       "    </tr>\n",
       "    <tr>\n",
       "      <th>0.10</th>\n",
       "      <td>0.748750</td>\n",
       "    </tr>\n",
       "    <tr>\n",
       "      <th>0.15</th>\n",
       "      <td>0.669031</td>\n",
       "    </tr>\n",
       "    <tr>\n",
       "      <th>0.20</th>\n",
       "      <td>0.609655</td>\n",
       "    </tr>\n",
       "    <tr>\n",
       "      <th>0.25</th>\n",
       "      <td>0.567660</td>\n",
       "    </tr>\n",
       "    <tr>\n",
       "      <th>0.30</th>\n",
       "      <td>0.540661</td>\n",
       "    </tr>\n",
       "    <tr>\n",
       "      <th>0.35</th>\n",
       "      <td>0.526587</td>\n",
       "    </tr>\n",
       "    <tr>\n",
       "      <th>0.40</th>\n",
       "      <td>0.523654</td>\n",
       "    </tr>\n",
       "    <tr>\n",
       "      <th>0.45</th>\n",
       "      <td>0.530326</td>\n",
       "    </tr>\n",
       "    <tr>\n",
       "      <th>0.50</th>\n",
       "      <td>0.545277</td>\n",
       "    </tr>\n",
       "  </tbody>\n",
       "</table>\n",
       "</div>"
      ],
      "text/plain": [
       "t       h=0.05\n",
       "0.00  1.000000\n",
       "0.05  0.850000\n",
       "0.10  0.748750\n",
       "0.15  0.669031\n",
       "0.20  0.609655\n",
       "0.25  0.567660\n",
       "0.30  0.540661\n",
       "0.35  0.526587\n",
       "0.40  0.523654\n",
       "0.45  0.530326\n",
       "0.50  0.545277"
      ]
     },
     "metadata": {},
     "output_type": "display_data"
    },
    {
     "name": "stdout",
     "output_type": "stream",
     "text": [
      "AB3 solution\n"
     ]
    },
    {
     "data": {
      "text/html": [
       "<div>\n",
       "<style scoped>\n",
       "    .dataframe tbody tr th:only-of-type {\n",
       "        vertical-align: middle;\n",
       "    }\n",
       "\n",
       "    .dataframe tbody tr th {\n",
       "        vertical-align: top;\n",
       "    }\n",
       "\n",
       "    .dataframe thead th {\n",
       "        text-align: right;\n",
       "    }\n",
       "</style>\n",
       "<table border=\"1\" class=\"dataframe\">\n",
       "  <thead>\n",
       "    <tr style=\"text-align: right;\">\n",
       "      <th>t</th>\n",
       "      <th>h=0.05</th>\n",
       "    </tr>\n",
       "  </thead>\n",
       "  <tbody>\n",
       "    <tr>\n",
       "      <th>0.00</th>\n",
       "      <td>1.000000</td>\n",
       "    </tr>\n",
       "    <tr>\n",
       "      <th>0.05</th>\n",
       "      <td>0.850000</td>\n",
       "    </tr>\n",
       "    <tr>\n",
       "      <th>0.10</th>\n",
       "      <td>0.748750</td>\n",
       "    </tr>\n",
       "    <tr>\n",
       "      <th>0.15</th>\n",
       "      <td>0.665984</td>\n",
       "    </tr>\n",
       "    <tr>\n",
       "      <th>0.20</th>\n",
       "      <td>0.606139</td>\n",
       "    </tr>\n",
       "    <tr>\n",
       "      <th>0.25</th>\n",
       "      <td>0.563274</td>\n",
       "    </tr>\n",
       "    <tr>\n",
       "      <th>0.30</th>\n",
       "      <td>0.535936</td>\n",
       "    </tr>\n",
       "    <tr>\n",
       "      <th>0.35</th>\n",
       "      <td>0.521626</td>\n",
       "    </tr>\n",
       "    <tr>\n",
       "      <th>0.40</th>\n",
       "      <td>0.518641</td>\n",
       "    </tr>\n",
       "    <tr>\n",
       "      <th>0.45</th>\n",
       "      <td>0.525361</td>\n",
       "    </tr>\n",
       "    <tr>\n",
       "      <th>0.50</th>\n",
       "      <td>0.540446</td>\n",
       "    </tr>\n",
       "  </tbody>\n",
       "</table>\n",
       "</div>"
      ],
      "text/plain": [
       "t       h=0.05\n",
       "0.00  1.000000\n",
       "0.05  0.850000\n",
       "0.10  0.748750\n",
       "0.15  0.665984\n",
       "0.20  0.606139\n",
       "0.25  0.563274\n",
       "0.30  0.535936\n",
       "0.35  0.521626\n",
       "0.40  0.518641\n",
       "0.45  0.525361\n",
       "0.50  0.540446"
      ]
     },
     "metadata": {},
     "output_type": "display_data"
    },
    {
     "data": {
      "image/png": "[encoded data removed]",
      "text/latex": [
       "$\\displaystyle 0.482486313945312$"
      ],
      "text/plain": [
       "0.4824863139453125"
      ]
     },
     "execution_count": 167,
     "metadata": {},
     "output_type": "execute_result"
    }
   ],
   "source": [
    "# printing the solution in a table\n",
    "print('Euler solution')\n",
    "display(Euler_res_DataFrame)\n",
    "print('AB2 solution')\n",
    "display(AB2_res_DataFrame)\n",
    "print('AB3 solution')\n",
    "display(AB3_res_DataFrame)\n"
   ]
  },
  {
   "cell_type": "markdown",
   "metadata": {},
   "source": [
    "## Task 2 (3 marks)\n",
    "\n",
    "Use `SymPy` to solve the differential equation $y' = 4t-3y$, with $y(0)=1$, present the analytical solution. What is the value $y(0.5)$? Also, find the value of $t=t_{m}$ where $y(t)$ achieves a minimum value. What is the value of $y_{m} = y(t_{m})$?\n",
    "\n",
    "Compare the result with the approximations from the three methods in Task 1. You may use a table to show the results of each method at $y(0.5)$ and $y_{m}$. Which method is the most/least accurate? Why?"
   ]
  },
  {
   "cell_type": "code",
   "execution_count": 54,
   "metadata": {},
   "outputs": [],
   "source": [
    "# standard setup\n",
    "import sympy as sym\n",
    "sym.init_printing()\n",
    "from IPython.display import display_latex\n",
    "import sympy.plotting as sym_plot"
   ]
  },
  {
   "cell_type": "markdown",
   "metadata": {},
   "source": [
    "Write you answer here!"
   ]
  },
  {
   "cell_type": "code",
   "execution_count": 158,
   "metadata": {},
   "outputs": [
    {
     "name": "stdout",
     "output_type": "stream",
     "text": [
      "The analytical solution of the ODE is\n"
     ]
    },
    {
     "data": {
      "text/latex": [
       "$\\displaystyle y{\\left(t \\right)} = \\frac{4 t}{3} - \\frac{4}{9} + \\frac{13 e^{- 3 t}}{9}$"
      ]
     },
     "metadata": {},
     "output_type": "display_data"
    },
    {
     "name": "stdout",
     "output_type": "stream",
     "text": [
      "The analytical solution of the ODE at t = 0.5 is\n"
     ]
    },
    {
     "data": {
      "text/latex": [
       "$\\displaystyle y{\\left(0.5 \\right)} = 0.544521342436621$"
      ]
     },
     "metadata": {},
     "output_type": "display_data"
    },
    {
     "name": "stdout",
     "output_type": "stream",
     "text": [
      "The minimum of the analytical solution of the ODE in the interval [0, 0.5] is\n"
     ]
    },
    {
     "data": {
      "text/latex": [
       "$\\displaystyle - \\frac{4 \\log{\\left(\\frac{4}{13} \\right)}}{9}$"
      ]
     },
     "metadata": {},
     "output_type": "display_data"
    },
    {
     "name": "stdout",
     "output_type": "stream",
     "text": [
      "which is approximately 0.5238466650407316\n",
      "The t at the minimum is\n"
     ]
    },
    {
     "data": {
      "text/latex": [
       "$\\displaystyle \\left[ \\log{\\left(\\frac{\\sqrt[3]{26}}{2} \\right)}\\right]$"
      ]
     },
     "metadata": {},
     "output_type": "display_data"
    },
    {
     "name": "stdout",
     "output_type": "stream",
     "text": [
      "which is approximately 0.3928849987805487\n"
     ]
    }
   ],
   "source": [
    "from sympy import Interval, Symbol, S, sin, cos, minimum\n",
    "from sympy.solvers import solve\n",
    "\n",
    "\n",
    "# defining the function in the RHS of the ODE given in the question\n",
    "def RHS(y, t):\n",
    "    return 4*t-3*y\n",
    "\n",
    "t = sym.symbols('t')\n",
    "y = sym.Function('y')\n",
    "\n",
    "eq1 = sym.Eq(y(t).diff(t), RHS(y(t), t))\n",
    "eq1sol = sym.dsolve(eq1, y(t), ics = {y(0): 1})\n",
    "\n",
    "print('The analytical solution of the ODE is')\n",
    "display_latex(eq1sol)\n",
    "\n",
    "print('The analytical solution of the ODE at t = 0.5 is')\n",
    "display_latex(eq1sol.subs(t, 0.5))\n",
    "\n",
    "# Find the minimum\n",
    "ivl = Interval(0, 0.5)\n",
    "f = sym.Function('f')\n",
    "f = eq1sol.rhs\n",
    "minimum = minimum(f, t, ivl)\n",
    "print('The minimum of the analytical solution of the ODE in the interval [0, 0.5] is')\n",
    "display_latex(minimum)\n",
    "print('which is approximately', float(minimum))\n",
    "mimimum_val = float(minimum)\n",
    "\n",
    "t_at_min = solve(f - minimum, t)\n",
    "print('The t at the minimum is')\n",
    "display_latex(t_at_min)\n",
    "print('which is approximately', float(t_at_min[0]))"
   ]
  },
  {
   "cell_type": "code",
   "execution_count": 173,
   "metadata": {},
   "outputs": [
    {
     "data": {
      "text/html": [
       "<div>\n",
       "<style scoped>\n",
       "    .dataframe tbody tr th:only-of-type {\n",
       "        vertical-align: middle;\n",
       "    }\n",
       "\n",
       "    .dataframe tbody tr th {\n",
       "        vertical-align: top;\n",
       "    }\n",
       "\n",
       "    .dataframe thead th {\n",
       "        text-align: right;\n",
       "    }\n",
       "</style>\n",
       "<table border=\"1\" class=\"dataframe\">\n",
       "  <thead>\n",
       "    <tr style=\"text-align: right;\">\n",
       "      <th></th>\n",
       "      <th>y(0.5)</th>\n",
       "      <th>Difference at y(0.5)</th>\n",
       "      <th>y_min</th>\n",
       "      <th>Difference of y_min</th>\n",
       "    </tr>\n",
       "    <tr>\n",
       "      <th>Method</th>\n",
       "      <th></th>\n",
       "      <th></th>\n",
       "      <th></th>\n",
       "      <th></th>\n",
       "    </tr>\n",
       "  </thead>\n",
       "  <tbody>\n",
       "    <tr>\n",
       "      <th>Euler</th>\n",
       "      <td>0.506596</td>\n",
       "      <td>0.037925</td>\n",
       "      <td>0.482486</td>\n",
       "      <td>0.041360</td>\n",
       "    </tr>\n",
       "    <tr>\n",
       "      <th>AB2</th>\n",
       "      <td>0.545277</td>\n",
       "      <td>0.000755</td>\n",
       "      <td>0.523654</td>\n",
       "      <td>0.000192</td>\n",
       "    </tr>\n",
       "    <tr>\n",
       "      <th>AB3</th>\n",
       "      <td>0.540446</td>\n",
       "      <td>0.004075</td>\n",
       "      <td>0.518641</td>\n",
       "      <td>0.005206</td>\n",
       "    </tr>\n",
       "    <tr>\n",
       "      <th>Analytical</th>\n",
       "      <td>0.544521</td>\n",
       "      <td>0.000000</td>\n",
       "      <td>0.523847</td>\n",
       "      <td>0.000000</td>\n",
       "    </tr>\n",
       "  </tbody>\n",
       "</table>\n",
       "</div>"
      ],
      "text/plain": [
       "              y(0.5)  Difference at y(0.5)     y_min  Difference of y_min\n",
       "Method                                                                   \n",
       "Euler       0.506596              0.037925  0.482486             0.041360\n",
       "AB2         0.545277              0.000755  0.523654             0.000192\n",
       "AB3         0.540446              0.004075  0.518641             0.005206\n",
       "Analytical  0.544521              0.000000  0.523847             0.000000"
      ]
     },
     "metadata": {},
     "output_type": "display_data"
    }
   ],
   "source": [
    "results = {'Method': ['Euler', 'AB2', 'AB3', 'Analytical'],\n",
    "           'y(0.5)': [Euler_res_DataFrame.loc[0.5, 'h=0.05'], AB2_res_DataFrame.loc[0.5, 'h=0.05'], AB3_res_DataFrame.loc[0.5, 'h=0.05'], float(eq1sol.rhs.subs(t, 0.5))],\n",
    "           'Difference at y(0.5)': [abs(Euler_res_DataFrame.loc[0.5, 'h=0.05']- float(eq1sol.rhs.subs(t, 0.5))), abs(AB2_res_DataFrame.loc[0.5, 'h=0.05']- float(eq1sol.rhs.subs(t, 0.5))), abs(AB3_res_DataFrame.loc[0.5, 'h=0.05']- float(eq1sol.rhs.subs(t, 0.5))), 0],\n",
    "           'y_min': [DataFrame.min(Euler_res_DataFrame['h=0.05']), DataFrame.min(AB2_res_DataFrame['h=0.05']), DataFrame.min(AB3_res_DataFrame['h=0.05']), mimimum_val],\n",
    "           'Difference of y_min': [abs(DataFrame.min(Euler_res_DataFrame['h=0.05']) - mimimum_val), abs(DataFrame.min(AB2_res_DataFrame['h=0.05']) - mimimum_val), abs(DataFrame.min(AB3_res_DataFrame['h=0.05']) - mimimum_val), 0]}\n",
    "\n",
    "# Create DataFrame\n",
    "df = DataFrame(results, columns = ['Method', 'y(0.5)', 'Difference at y(0.5)', 'y_min', 'Difference of y_min'])\n",
    "df = df.set_index('Method')\n",
    "df.style.set_caption(\"Comparison of the numerical solutions with the analytical solution\")\n",
    "\n",
    "display(df)\n",
    "\n",
    "print(\"It seems like AB2 method is the most accurate method for this ODE.\")\n",
    "print(\"The Adams-Bashforth 2nd order method (AB2) is more accurate than the Euler method  because it uses the previous two time steps to estimate the next time step. This means that it takes into account more information about the function and its derivatives, leading to a more accurate approximation. As to AB3, the difference between AB2 and AB3 are small and may be considerred insignificant.\")\n",
    "\n"
   ]
  },
  {
   "cell_type": "code",
   "execution_count": null,
   "metadata": {},
   "outputs": [],
   "source": []
  },
  {
   "cell_type": "code",
   "execution_count": null,
   "metadata": {},
   "outputs": [],
   "source": []
  }
 ],
 "metadata": {
  "kernelspec": {
   "display_name": "Python 3 (ipykernel)",
   "language": "python",
   "name": "python3"
  },
  "language_info": {
   "codemirror_mode": {
    "name": "ipython",
    "version": 3
   },
   "file_extension": ".py",
   "mimetype": "text/x-python",
   "name": "python",
   "nbconvert_exporter": "python",
   "pygments_lexer": "ipython3",
   "version": "3.11.6"
  }
 },
 "nbformat": 4,
 "nbformat_minor": 4
}

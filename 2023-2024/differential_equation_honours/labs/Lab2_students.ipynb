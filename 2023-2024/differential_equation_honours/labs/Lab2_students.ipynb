{
 "cells": [
  {
   "cell_type": "markdown",
   "metadata": {
    "deletable": false,
    "editable": false,
    "nbgrader": {
     "cell_type": "markdown",
     "checksum": "978d4ee0fd3370d1afa5da3891d20775",
     "grade": false,
     "grade_id": "Lab2_title",
     "locked": true,
     "schema_version": 3,
     "solution": false,
     "task": false
    }
   },
   "source": [
    "# Lab 2: Numerical solutions of ODEs\n",
    "\n",
    "In this Lab we will work with the implementations of numerical schemes you learned in week 3, and use these to solve problems from Chapter 8 of Boyce & DiPrima."
   ]
  },
  {
   "cell_type": "markdown",
   "metadata": {
    "deletable": false,
    "editable": false,
    "nbgrader": {
     "cell_type": "markdown",
     "checksum": "7fdc7c9cb0677d2b7c1b426d8880e516",
     "grade": false,
     "grade_id": "Lab2_S1_title",
     "locked": true,
     "schema_version": 3,
     "solution": false,
     "task": false
    }
   },
   "source": [
    "## 1. The numerical schemes\n",
    "\n",
    "Several ODE solvers are implemented in the script below:"
   ]
  },
  {
   "cell_type": "code",
   "execution_count": 1,
   "metadata": {},
   "outputs": [],
   "source": [
    "# Import packages\n",
    "import numpy as np\n",
    "import matplotlib.pyplot as plt\n",
    "import pandas as pd\n",
    "%matplotlib notebook\n",
    "\n",
    "\n",
    "# Euler scheme\n",
    "def ode_Euler(func, times, y0):\n",
    "    '''\n",
    "    integrates the system of y' = func(y, t) using forward Euler method\n",
    "    for the time steps in times and given initial condition y0\n",
    "    ----------------------------------------------------------\n",
    "    inputs:\n",
    "        func: the RHS function in the system of ODE\n",
    "        times: the points in time (or the span of independent variable in ODE)\n",
    "        y0: initial condition (make sure the dimension of y0 and func are the same)\n",
    "    output:\n",
    "        y: the solution of ODE. \n",
    "        Each row in the solution array y corresponds to a value returned in column vector t\n",
    "    '''\n",
    "    # guess why I put these two lines here?\n",
    "    times = np.array(times)\n",
    "    y0 = np.array(y0)\n",
    "    n = y0.size       # the dimension of ODE \n",
    "    nT = times.size   # the number of time steps \n",
    "    y = np.zeros([nT,n])\n",
    "    y[0, :] = y0\n",
    "    # loop for timesteps\n",
    "    for k in range(nT-1):\n",
    "        y[k+1, :] = y[k, :] + (times[k+1]-times[k])*func(y[k, :], times[k])\n",
    "    return y\n",
    "\n",
    "# Heun scheme\n",
    "def ode_Heun(func, times, y0):\n",
    "    times = np.array(times)\n",
    "    y0 = np.array(y0)\n",
    "    n = y0.size       # the dimension of ODE \n",
    "    nT = times.size   # the number of time steps \n",
    "    y = np.zeros([nT,n])\n",
    "    y[0, :] = y0\n",
    "    for k in range(nT-1):\n",
    "        dt = times[k+1] - times[k]\n",
    "        f1 = func(y[k,:], times[k])\n",
    "        f2 = func(y[k,:] + (times[k+1]-times[k])*f1, times[k+1])\n",
    "        y[k+1, :] = y[k, :] + 0.5*(times[k+1]-times[k])*(f1+f2)\n",
    "    return y\n",
    "\n",
    "\n",
    "# Adams-Bashforth 2 (here needing a fixed timestep)\n",
    "def ode_AB2(func, initialTime, finalTime, nSteps, y0):\n",
    "    y0 = np.array(y0)\n",
    "    n = y0.size       # the dimension of ODE \n",
    "    dt = (finalTime - initialTime)/nSteps\n",
    "    times = np.linspace(initialTime, finalTime, nSteps + 1)\n",
    "    y = np.zeros([nSteps + 1, n])\n",
    "    y[0,:] = y0\n",
    "    # First step using Euler\n",
    "    y[1,:] = y[0,:] + dt*func(y[0, :], times[0])\n",
    "    # Other steps\n",
    "    for k in range(1, nSteps):\n",
    "        y[k+1,:] = y[k,:] + (1.5*func(y[k, :], times[k])-0.5*func(y[k-1, :], times[k-1]))*dt\n",
    "       \n",
    "    return y, times "
   ]
  },
  {
   "cell_type": "markdown",
   "metadata": {
    "deletable": false,
    "editable": false,
    "nbgrader": {
     "cell_type": "markdown",
     "checksum": "80495a62c99772b61442e0f27b632445",
     "grade": false,
     "grade_id": "Lab2_S1_E1",
     "locked": true,
     "points": 0,
     "schema_version": 3,
     "solution": false,
     "task": true
    }
   },
   "source": [
    "<div class=\"alert alert-info\">\n",
    "    <h3>Exercise 1.1 <span style=\"font-size: 75%; font-weight: normal;\"></span></h3>\n",
    "    \n",
    "\n",
    "**(a)** What's the point of line 22 and 23 (`times = np.array(times)` and `y0 = np.array(y0)`)?\n",
    "\n",
    "**(b)** Try to use proper comments and docstrings for all other functions in a similar way I have done it for `ode_Euler`. What is the difference between docstring and regular comments? Why is it important to use it for frequently used functions like ODE solvers? \n",
    "\n",
    "**(c)** Why the range is set to `range(nT-1)`?\n",
    "    \n",
    "**(d)** Is it necessary for the vetor `times` to consist of equally distanced points? \n",
    "     \n",
    "**(e)** In AdamsBashforth2, why `+1` in `t = np.linspace(initialTime, finalTime, nSteps+1)`?\n",
    "\n",
    "</div>"
   ]
  },
  {
   "cell_type": "markdown",
   "metadata": {
    "deletable": false,
    "nbgrader": {
     "cell_type": "markdown",
     "checksum": "42dc45bae04acf9f0992dba0544de4e5",
     "grade": true,
     "grade_id": "Lab2_S1_E1_answer",
     "locked": false,
     "points": 0,
     "schema_version": 3,
     "solution": true,
     "task": false
    }
   },
   "source": [
    "YOUR ANSWER HERE"
   ]
  },
  {
   "cell_type": "code",
   "execution_count": 2,
   "metadata": {
    "deletable": false,
    "nbgrader": {
     "cell_type": "code",
     "checksum": "f49acd10a2a1691a07dca403f463630d",
     "grade": false,
     "grade_id": "Lab2_S1_E1_ans",
     "locked": false,
     "schema_version": 3,
     "solution": true,
     "task": false
    }
   },
   "outputs": [],
   "source": [
    "# Import packages\n",
    "import numpy as np\n",
    "import matplotlib.pyplot as plt\n",
    "%matplotlib notebook\n",
    "\n",
    "# YOUR CODE HERE\n"
   ]
  },
  {
   "cell_type": "markdown",
   "metadata": {
    "deletable": false,
    "editable": false,
    "nbgrader": {
     "cell_type": "markdown",
     "checksum": "19c8c56a933a1bba193c5cbd172fc2fb",
     "grade": false,
     "grade_id": "Lab2_S1_01",
     "locked": true,
     "schema_version": 3,
     "solution": false,
     "task": false
    }
   },
   "source": [
    "---------------\n",
    "\n",
    "\n",
    "Boyce & DiPrima Chapter 8 uses the equation $$y'=1-t+4y, \\\\y(0)=1$$ throughout to illustrate these different numerical methods. \n",
    "\n",
    "Here we define a function `eq7_dy_dt` that gives the value of the derivative $y'$ at a given point, then use the `Euler` method to solve the equation numerically with step size $h=0.01$:"
   ]
  },
  {
   "cell_type": "code",
   "execution_count": 23,
   "metadata": {},
   "outputs": [
    {
     "name": "stdout",
     "output_type": "stream",
     "text": [
      "2.0\n"
     ]
    },
    {
     "data": {
      "image/png": "[encoded data removed]",
      "text/plain": [
       "<Figure size 640x480 with 1 Axes>"
      ]
     },
     "metadata": {},
     "output_type": "display_data"
    }
   ],
   "source": [
    "%matplotlib notebook\n",
    "%matplotlib inline\n",
    "def eq7_dy_dt(y, t):\n",
    "    return 1 - t + 4*y\n",
    "\n",
    "times = np.linspace(0,2, 200)\n",
    "\n",
    "eq7_euler = ode_Euler(eq7_dy_dt, times, 1)\n",
    "#print(eq7_euler)\n",
    "print(times[-1])\n",
    "plt.plot(times, eq7_euler)\n",
    "plt.show()"
   ]
  },
  {
   "cell_type": "markdown",
   "metadata": {
    "deletable": false,
    "editable": false,
    "nbgrader": {
     "cell_type": "markdown",
     "checksum": "b03805bb2efe44f4a92fb74128b85404",
     "grade": false,
     "grade_id": "Lab2_S1_task1",
     "locked": true,
     "schema_version": 3,
     "solution": false,
     "task": false
    }
   },
   "source": [
    "<span class=\"label label-danger\">Task</span>\n",
    "Why is it `np.linspace(0,2,201)` and not `np.linspace(0,2,200)`? Try changing the code and see what happens."
   ]
  },
  {
   "attachments": {
    "image-2.png": {
     "image/png": "[encoded data removed]"
    }
   },
   "cell_type": "markdown",
   "metadata": {
    "deletable": false,
    "editable": false,
    "nbgrader": {
     "cell_type": "markdown",
     "checksum": "debb37b789908c470176b5720bc40c40",
     "grade": false,
     "grade_id": "Lab2_S1_02",
     "locked": true,
     "schema_version": 3,
     "solution": false,
     "task": false
    }
   },
   "source": [
    "We can check that the final value this gives (corresponding to $t=2$) agrees with the value $3029.3279$ given in Table 8.1.1 in the book:\n",
    "![image-2.png](attachment:image-2.png)"
   ]
  },
  {
   "cell_type": "code",
   "execution_count": 8,
   "metadata": {},
   "outputs": [
    {
     "name": "stdout",
     "output_type": "stream",
     "text": [
      "[3027.01794951]\n"
     ]
    }
   ],
   "source": [
    "print(eq7_euler[-1])"
   ]
  },
  {
   "cell_type": "markdown",
   "metadata": {
    "deletable": false,
    "editable": false,
    "nbgrader": {
     "cell_type": "markdown",
     "checksum": "7f2bdbb2c1f7a5e146af8539e540fe75",
     "grade": false,
     "grade_id": "cell-72b055ff07c49190",
     "locked": true,
     "schema_version": 3,
     "solution": false,
     "task": false
    }
   },
   "source": [
    "And we can obtain the numerical value itself by converting to a float:"
   ]
  },
  {
   "cell_type": "code",
   "execution_count": 9,
   "metadata": {},
   "outputs": [
    {
     "data": {
      "text/plain": [
       "3027.0179495137136"
      ]
     },
     "execution_count": 9,
     "metadata": {},
     "output_type": "execute_result"
    }
   ],
   "source": [
    "float(eq7_euler[-1])"
   ]
  },
  {
   "cell_type": "markdown",
   "metadata": {
    "deletable": false,
    "editable": false,
    "nbgrader": {
     "cell_type": "markdown",
     "checksum": "22d12666ac9206e85577fa2f7f0bc9ed",
     "grade": false,
     "grade_id": "Lab2_S1_03",
     "locked": true,
     "schema_version": 3,
     "solution": false,
     "task": false
    }
   },
   "source": [
    "In fact, by creating a `DataFrame` object using the [Pandas package](https://pandas.pydata.org/pandas-docs/stable/reference/api/pandas.DataFrame.html), we can see the whole table of values:"
   ]
  },
  {
   "cell_type": "code",
   "execution_count": 10,
   "metadata": {},
   "outputs": [
    {
     "data": {
      "text/html": [
       "<div>\n",
       "<style scoped>\n",
       "    .dataframe tbody tr th:only-of-type {\n",
       "        vertical-align: middle;\n",
       "    }\n",
       "\n",
       "    .dataframe tbody tr th {\n",
       "        vertical-align: top;\n",
       "    }\n",
       "\n",
       "    .dataframe thead th {\n",
       "        text-align: right;\n",
       "    }\n",
       "</style>\n",
       "<table border=\"1\" class=\"dataframe\">\n",
       "  <thead>\n",
       "    <tr style=\"text-align: right;\">\n",
       "      <th></th>\n",
       "      <th>h=0.01</th>\n",
       "    </tr>\n",
       "  </thead>\n",
       "  <tbody>\n",
       "    <tr>\n",
       "      <th>0.000000</th>\n",
       "      <td>1.000000</td>\n",
       "    </tr>\n",
       "    <tr>\n",
       "      <th>0.010050</th>\n",
       "      <td>1.050251</td>\n",
       "    </tr>\n",
       "    <tr>\n",
       "      <th>0.020101</th>\n",
       "      <td>1.102422</td>\n",
       "    </tr>\n",
       "    <tr>\n",
       "      <th>0.030151</th>\n",
       "      <td>1.156588</td>\n",
       "    </tr>\n",
       "    <tr>\n",
       "      <th>0.040201</th>\n",
       "      <td>1.212832</td>\n",
       "    </tr>\n",
       "    <tr>\n",
       "      <th>...</th>\n",
       "      <td>...</td>\n",
       "    </tr>\n",
       "    <tr>\n",
       "      <th>1.959799</th>\n",
       "      <td>2585.543733</td>\n",
       "    </tr>\n",
       "    <tr>\n",
       "      <th>1.969849</th>\n",
       "      <td>2689.475544</td>\n",
       "    </tr>\n",
       "    <tr>\n",
       "      <th>1.979899</th>\n",
       "      <td>2797.585416</td>\n",
       "    </tr>\n",
       "    <tr>\n",
       "      <th>1.989950</th>\n",
       "      <td>2910.041313</td>\n",
       "    </tr>\n",
       "    <tr>\n",
       "      <th>2.000000</th>\n",
       "      <td>3027.017950</td>\n",
       "    </tr>\n",
       "  </tbody>\n",
       "</table>\n",
       "<p>200 rows × 1 columns</p>\n",
       "</div>"
      ],
      "text/plain": [
       "               h=0.01\n",
       "0.000000     1.000000\n",
       "0.010050     1.050251\n",
       "0.020101     1.102422\n",
       "0.030151     1.156588\n",
       "0.040201     1.212832\n",
       "...               ...\n",
       "1.959799  2585.543733\n",
       "1.969849  2689.475544\n",
       "1.979899  2797.585416\n",
       "1.989950  2910.041313\n",
       "2.000000  3027.017950\n",
       "\n",
       "[200 rows x 1 columns]"
      ]
     },
     "execution_count": 10,
     "metadata": {},
     "output_type": "execute_result"
    }
   ],
   "source": [
    "from pandas import DataFrame\n",
    "DataFrame(data = eq7_euler, index = times, columns = [\"h=0.01\"])"
   ]
  },
  {
   "cell_type": "markdown",
   "metadata": {
    "deletable": false,
    "editable": false,
    "nbgrader": {
     "cell_type": "markdown",
     "checksum": "e74e74aba6e3b119bfc706da7890ad36",
     "grade": false,
     "grade_id": "Lab2_S1_E2",
     "locked": true,
     "schema_version": 3,
     "solution": false,
     "task": false
    }
   },
   "source": [
    "<div class=\"alert alert-info\">\n",
    "    <h3>Exercise 1.2</h3>\n",
    "\n",
    "**(a)** Write code to check the final value for $h=0.001$ is $3484.1608$.\n",
    "\n",
    "**(b)** Check that applying the Heun method with $h=0.01$ gives $3532.8789$ when $t=2$, as in Table 8.2.1 of the book.\n",
    "    \n",
    "**(c)** Continuing from (b), what is the result of the Heun method for $t=2$, with $h=0.001$? <span class=\"label label-success\"></span>\n",
    "\n",
    "</div>"
   ]
  },
  {
   "cell_type": "code",
   "execution_count": 11,
   "metadata": {
    "deletable": false,
    "nbgrader": {
     "cell_type": "code",
     "checksum": "7b449459ebdfa63cf0b917d9b142164e",
     "grade": false,
     "grade_id": "Lab2_S1_E1_A",
     "locked": false,
     "schema_version": 3,
     "solution": true,
     "task": false
    }
   },
   "outputs": [
    {
     "ename": "NotImplementedError",
     "evalue": "",
     "output_type": "error",
     "traceback": [
      "\u001b[0;31m---------------------------------------------------------------------------\u001b[0m",
      "\u001b[0;31mNotImplementedError\u001b[0m                       Traceback (most recent call last)",
      "\u001b[1;32m/home/hhyh/study/math/2023-2024/differential_equation_honours/labs/Lab2_students.ipynb Cell 17\u001b[0m line \u001b[0;36m4\n\u001b[1;32m      <a href='vscode-notebook-cell:/home/hhyh/study/math/2023-2024/differential_equation_honours/labs/Lab2_students.ipynb#X22sZmlsZQ%3D%3D?line=0'>1</a>\u001b[0m \u001b[39m# Your code here for (a)\u001b[39;00m\n\u001b[1;32m      <a href='vscode-notebook-cell:/home/hhyh/study/math/2023-2024/differential_equation_honours/labs/Lab2_students.ipynb#X22sZmlsZQ%3D%3D?line=1'>2</a>\u001b[0m \n\u001b[1;32m      <a href='vscode-notebook-cell:/home/hhyh/study/math/2023-2024/differential_equation_honours/labs/Lab2_students.ipynb#X22sZmlsZQ%3D%3D?line=2'>3</a>\u001b[0m \u001b[39m# YOUR CODE HERE\u001b[39;00m\n\u001b[0;32m----> <a href='vscode-notebook-cell:/home/hhyh/study/math/2023-2024/differential_equation_honours/labs/Lab2_students.ipynb#X22sZmlsZQ%3D%3D?line=3'>4</a>\u001b[0m \u001b[39mraise\u001b[39;00m \u001b[39mNotImplementedError\u001b[39;00m()\n",
      "\u001b[0;31mNotImplementedError\u001b[0m: "
     ]
    }
   ],
   "source": [
    "# Your code here for (a)\n",
    "\n",
    "# YOUR CODE HERE\n",
    "raise NotImplementedError()"
   ]
  },
  {
   "cell_type": "code",
   "execution_count": 12,
   "metadata": {
    "deletable": false,
    "nbgrader": {
     "cell_type": "code",
     "checksum": "2f046a0c4f078fc261eb0baed406ff69",
     "grade": false,
     "grade_id": "Lab2_S1_E1_B",
     "locked": false,
     "schema_version": 3,
     "solution": true,
     "task": false
    }
   },
   "outputs": [
    {
     "ename": "NotImplementedError",
     "evalue": "",
     "output_type": "error",
     "traceback": [
      "\u001b[0;31m---------------------------------------------------------------------------\u001b[0m",
      "\u001b[0;31mNotImplementedError\u001b[0m                       Traceback (most recent call last)",
      "\u001b[1;32m/home/hhyh/study/math/2023-2024/differential_equation_honours/labs/Lab2_students.ipynb Cell 18\u001b[0m line \u001b[0;36m4\n\u001b[1;32m      <a href='vscode-notebook-cell:/home/hhyh/study/math/2023-2024/differential_equation_honours/labs/Lab2_students.ipynb#X23sZmlsZQ%3D%3D?line=0'>1</a>\u001b[0m \u001b[39m# Your code here for (b)\u001b[39;00m\n\u001b[1;32m      <a href='vscode-notebook-cell:/home/hhyh/study/math/2023-2024/differential_equation_honours/labs/Lab2_students.ipynb#X23sZmlsZQ%3D%3D?line=1'>2</a>\u001b[0m \n\u001b[1;32m      <a href='vscode-notebook-cell:/home/hhyh/study/math/2023-2024/differential_equation_honours/labs/Lab2_students.ipynb#X23sZmlsZQ%3D%3D?line=2'>3</a>\u001b[0m \u001b[39m# YOUR CODE HERE\u001b[39;00m\n\u001b[0;32m----> <a href='vscode-notebook-cell:/home/hhyh/study/math/2023-2024/differential_equation_honours/labs/Lab2_students.ipynb#X23sZmlsZQ%3D%3D?line=3'>4</a>\u001b[0m \u001b[39mraise\u001b[39;00m \u001b[39mNotImplementedError\u001b[39;00m()\n",
      "\u001b[0;31mNotImplementedError\u001b[0m: "
     ]
    }
   ],
   "source": [
    "# Your code here for (b)\n",
    "\n",
    "# YOUR CODE HERE\n",
    "raise NotImplementedError()"
   ]
  },
  {
   "cell_type": "code",
   "execution_count": 13,
   "metadata": {
    "deletable": false,
    "nbgrader": {
     "cell_type": "code",
     "checksum": "52f50c04479f87736d3e7951e4400070",
     "grade": false,
     "grade_id": "Lab2_S1_E1_C",
     "locked": false,
     "schema_version": 3,
     "solution": true,
     "task": false
    }
   },
   "outputs": [
    {
     "ename": "NotImplementedError",
     "evalue": "",
     "output_type": "error",
     "traceback": [
      "\u001b[0;31m---------------------------------------------------------------------------\u001b[0m",
      "\u001b[0;31mNotImplementedError\u001b[0m                       Traceback (most recent call last)",
      "\u001b[1;32m/home/hhyh/study/math/2023-2024/differential_equation_honours/labs/Lab2_students.ipynb Cell 19\u001b[0m line \u001b[0;36m5\n\u001b[1;32m      <a href='vscode-notebook-cell:/home/hhyh/study/math/2023-2024/differential_equation_honours/labs/Lab2_students.ipynb#X24sZmlsZQ%3D%3D?line=0'>1</a>\u001b[0m \u001b[39m# Your code here for (c)\u001b[39;00m\n\u001b[1;32m      <a href='vscode-notebook-cell:/home/hhyh/study/math/2023-2024/differential_equation_honours/labs/Lab2_students.ipynb#X24sZmlsZQ%3D%3D?line=1'>2</a>\u001b[0m \u001b[39m# Store the numerical result as a float, using the variable name heun_001\u001b[39;00m\n\u001b[1;32m      <a href='vscode-notebook-cell:/home/hhyh/study/math/2023-2024/differential_equation_honours/labs/Lab2_students.ipynb#X24sZmlsZQ%3D%3D?line=2'>3</a>\u001b[0m \n\u001b[1;32m      <a href='vscode-notebook-cell:/home/hhyh/study/math/2023-2024/differential_equation_honours/labs/Lab2_students.ipynb#X24sZmlsZQ%3D%3D?line=3'>4</a>\u001b[0m \u001b[39m# YOUR CODE HERE\u001b[39;00m\n\u001b[0;32m----> <a href='vscode-notebook-cell:/home/hhyh/study/math/2023-2024/differential_equation_honours/labs/Lab2_students.ipynb#X24sZmlsZQ%3D%3D?line=4'>5</a>\u001b[0m \u001b[39mraise\u001b[39;00m \u001b[39mNotImplementedError\u001b[39;00m()\n",
      "\u001b[0;31mNotImplementedError\u001b[0m: "
     ]
    }
   ],
   "source": [
    "# Your code here for (c)\n",
    "# Store the numerical result as a float, using the variable name heun_001\n",
    "\n",
    "# YOUR CODE HERE\n",
    "raise NotImplementedError()"
   ]
  },
  {
   "cell_type": "code",
   "execution_count": 14,
   "metadata": {
    "deletable": false,
    "editable": false,
    "nbgrader": {
     "cell_type": "code",
     "checksum": "9f1477a656f836b0ac78e993191893c9",
     "grade": true,
     "grade_id": "Lab2_S1_E1_C_test",
     "locked": true,
     "points": 1,
     "schema_version": 3,
     "solution": false,
     "task": false
    }
   },
   "outputs": [
    {
     "ename": "NameError",
     "evalue": "name 'heun_001' is not defined",
     "output_type": "error",
     "traceback": [
      "\u001b[0;31m---------------------------------------------------------------------------\u001b[0m",
      "\u001b[0;31mNameError\u001b[0m                                 Traceback (most recent call last)",
      "\u001b[1;32m/home/hhyh/study/math/2023-2024/differential_equation_honours/labs/Lab2_students.ipynb Cell 20\u001b[0m line \u001b[0;36m1\n\u001b[0;32m----> <a href='vscode-notebook-cell:/home/hhyh/study/math/2023-2024/differential_equation_honours/labs/Lab2_students.ipynb#X25sZmlsZQ%3D%3D?line=0'>1</a>\u001b[0m \u001b[39massert\u001b[39;00m \u001b[39mtype\u001b[39m(heun_001) \u001b[39m==\u001b[39m \u001b[39mfloat\u001b[39m\n\u001b[1;32m      <a href='vscode-notebook-cell:/home/hhyh/study/math/2023-2024/differential_equation_honours/labs/Lab2_students.ipynb#X25sZmlsZQ%3D%3D?line=1'>2</a>\u001b[0m \u001b[39mprint\u001b[39m(\u001b[39m\"\u001b[39m\u001b[39mSuccess! Value is a float\u001b[39m\u001b[39m\"\u001b[39m)\n\u001b[1;32m      <a href='vscode-notebook-cell:/home/hhyh/study/math/2023-2024/differential_equation_honours/labs/Lab2_students.ipynb#X25sZmlsZQ%3D%3D?line=2'>3</a>\u001b[0m \u001b[39massert\u001b[39;00m np\u001b[39m.\u001b[39mabs(heun_001 \u001b[39m-\u001b[39m \u001b[39m3540\u001b[39m) \u001b[39m<\u001b[39m \u001b[39m1\u001b[39m\n",
      "\u001b[0;31mNameError\u001b[0m: name 'heun_001' is not defined"
     ]
    }
   ],
   "source": [
    "assert type(heun_001) == float\n",
    "print(\"Success! Value is a float\")\n",
    "assert np.abs(heun_001 - 3540) < 1\n",
    "print(\"Success! Value is close to the correct numerical value\")"
   ]
  },
  {
   "cell_type": "markdown",
   "metadata": {},
   "source": [
    "## Runge-Kutta Method\n",
    "\n",
    "Now that you have seen how a few ODE sovling methods coded and used, you can try to write a code yourself for the popular method of Runge-Kutta. You can find this method in chapter 8.3 of Boyce & DiPrima or simply on [wikipedia page](https://en.wikipedia.org/wiki/Runge%E2%80%93Kutta_methods)."
   ]
  },
  {
   "cell_type": "markdown",
   "metadata": {},
   "source": [
    "<span class=\"label label-danger\">Task</span>\n",
    "In the cell below write a function similar to `ode_Euler` at the beginning of this notebook that uses fourth Runge-Kutta scheme to solve a given ODE. "
   ]
  },
  {
   "cell_type": "code",
   "execution_count": 15,
   "metadata": {
    "deletable": false,
    "nbgrader": {
     "cell_type": "code",
     "checksum": "e9901e1f2cf24bbbe8c0af98a888acee",
     "grade": false,
     "grade_id": "Lab2_S1_E1_D",
     "locked": false,
     "schema_version": 3,
     "solution": true,
     "task": false
    }
   },
   "outputs": [],
   "source": [
    "# Runge-Kutta 4 scheme\n",
    "\n",
    "def ode_RK4(func, times, y0):\n",
    "    '''\n",
    "    integrates the system of y' = func(y, t) using Runge-Kutta 4 method\n",
    "    for the time steps in times and given initial condition y0\n",
    "    ----------------------------------------------------------\n",
    "    inputs:\n",
    "        func: the RHS function in the system of ODE\n",
    "        times: the points in time (or the span of independent variable in ODE)\n",
    "        y0: initial condition (make sure the dimension of y0 and func are the same)\n",
    "    output:\n",
    "        y: the solution of ODE. \n",
    "        Each row in the solution array y corresponds to a value returned in column vector t\n",
    "    '''\n",
    "    times = np.array(times)\n",
    "    y0 = np.array(y0)\n",
    "    n = y0.size       # the dimension of ODE \n",
    "    nT = times.size   # the number of time steps\n",
    "    y = np.zeros([nT,n])   # initialize the solution array\n",
    "    y[0, :] = y0\n",
    "\n",
    "    # calculate k1, k2, k3, k4 and update y\n",
    "    for k in range(nT-1):\n",
    "        dt = times[k+1] - times[k]\n",
    "        k1 = func(y[k,:], times[k])\n",
    "        k2 = func(y[k,:] + 0.5*dt*k1, times[k] + 0.5*dt)\n",
    "        k3 = func(y[k,:] + 0.5*dt*k2, times[k] + 0.5*dt)\n",
    "        k4 = func(y[k,:] + dt*k3, times[k+1])\n",
    "        y[k+1, :] = y[k, :] + (dt/6.0)*(k1 + 2*k2 + 2*k3 + k4)\n",
    "        \n",
    "    return y\n",
    "\n",
    "# YOUR CODE HERE"
   ]
  },
  {
   "cell_type": "markdown",
   "metadata": {},
   "source": [
    "Check you code for 201 steps from 0 to 2. The answer should be 3540.1995."
   ]
  },
  {
   "cell_type": "code",
   "execution_count": 16,
   "metadata": {},
   "outputs": [
    {
     "name": "stdout",
     "output_type": "stream",
     "text": [
      "[3540.19952527]\n"
     ]
    }
   ],
   "source": [
    "times = np.linspace(0,2,201)\n",
    "eq7_RK4 = ode_RK4(eq7_dy_dt, times, 1)\n",
    "print(eq7_RK4[-1])"
   ]
  },
  {
   "cell_type": "markdown",
   "metadata": {
    "deletable": false,
    "editable": false,
    "nbgrader": {
     "cell_type": "markdown",
     "checksum": "0b8a1637c8e5688c778c1ddeb17e817a",
     "grade": false,
     "grade_id": "Lab2_S2_title",
     "locked": true,
     "schema_version": 3,
     "solution": false,
     "task": false
    }
   },
   "source": [
    "## 2. Standardising the arguments\n",
    "\n",
    "Notice that the some of our methods (`ode_Euler`, `ode_Heun` and `ode_RK4`) have the same pattern of arguments, but the fourth method (`ode_AB2`) is different. Furthermore, none of the four methods accepts a step size (e.g. $h=0.05$), which is the parameter that we would like to vary.\n",
    "\n",
    "In this section, we try to create new versions of the functions which take initial and final time with the step size. \n",
    "\n",
    "The first step is to create a new function that will create the `times` needed in the first three methods."
   ]
  },
  {
   "cell_type": "markdown",
   "metadata": {
    "deletable": false,
    "editable": false,
    "nbgrader": {
     "cell_type": "markdown",
     "checksum": "94da54d48b3f38f98ea0a6ebd633f0d3",
     "grade": false,
     "grade_id": "Lab2_S2_01",
     "locked": true,
     "schema_version": 3,
     "solution": false,
     "task": false
    }
   },
   "source": [
    "Here is a basic implementation of a `timesteps` function, which generates an array of numbers starting at the value `start` and increasing with step size `h` until the value `stop` is reached."
   ]
  },
  {
   "cell_type": "code",
   "execution_count": 17,
   "metadata": {},
   "outputs": [
    {
     "data": {
      "text/plain": [
       "array([0. , 0.1, 0.2, 0.3, 0.4, 0.5])"
      ]
     },
     "execution_count": 17,
     "metadata": {},
     "output_type": "execute_result"
    }
   ],
   "source": [
    "import math\n",
    "def timesteps(start, stop, h):\n",
    "    num_steps = math.ceil((stop - start)/h)\n",
    "    return np.linspace(start, start+num_steps*h, num_steps+1)\n",
    "\n",
    "timesteps(0, 0.5, h = 0.1)"
   ]
  },
  {
   "cell_type": "markdown",
   "metadata": {
    "deletable": false,
    "editable": false,
    "nbgrader": {
     "cell_type": "markdown",
     "checksum": "6829116a2a6f9899ceee26bd895e63af",
     "grade": false,
     "grade_id": "Lab2_S2_task1",
     "locked": true,
     "schema_version": 3,
     "solution": false,
     "task": false
    }
   },
   "source": [
    "<span class=\"label label-danger\">Task</span>\n",
    "Check that this function does indeed work as expected, by trying it out with different inputs. Think about different tricky cases which might break the code, and try those!"
   ]
  },
  {
   "cell_type": "markdown",
   "metadata": {
    "deletable": false,
    "editable": false,
    "nbgrader": {
     "cell_type": "markdown",
     "checksum": "d2f7d9dfad91b2c63a3c7af509296ef6",
     "grade": false,
     "grade_id": "Lab2_S2_E2",
     "locked": true,
     "schema_version": 3,
     "solution": false,
     "task": false
    }
   },
   "source": [
    "<div class=\"alert alert-info\">\n",
    "    <h3>Exercise 2.1 <span class=\"label label-success\" style=\"font-size: 60%\"></h3>\n",
    "\n",
    "Produce new functions `Euler_step`, `Heun_step`, `RK4_step` and `AB2_step`, which use the four functions in the previous section to solve a given equation numerically. Each of the new functions should take in the arguments:\n",
    "\n",
    "* `func` - a function defining the differential equation\n",
    "* `start` - the initial time\n",
    "* `stop` - the end time\n",
    "* `h` - the step size\n",
    "* `ics` - the intial conditions\n",
    "\n",
    "and return both the values of the numerical solution and the list of time steps (like in the `ode_AB2` function).\n",
    "\n",
    "</div>\n",
    "\n",
    "Note - you should **not** copy and modify the original functions given above. Instead, you should call those functions from within your own ones, having worked out the appropriate values to pass to them."
   ]
  },
  {
   "cell_type": "code",
   "execution_count": 18,
   "metadata": {
    "deletable": false,
    "nbgrader": {
     "cell_type": "code",
     "checksum": "a1cf1d73b85c6559211fda8ab76616b8",
     "grade": false,
     "grade_id": "Lab2_S2_E2_answer",
     "locked": false,
     "schema_version": 3,
     "solution": true,
     "task": false
    }
   },
   "outputs": [],
   "source": [
    "# Your code here\n",
    "import math\n",
    "def timesteps(start, stop, h):\n",
    "    num_steps = math.ceil((stop - start)/h)\n",
    "    return np.linspace(start, start+num_steps*h, num_steps+1)\n",
    "\n",
    "def Euler_step(func, start, stop, h, ics):\n",
    "    times = timesteps(start, stop, h)\n",
    "    return ode_Euler(func, times, ics), times\n",
    "\n",
    "def Heun_step(func, start, stop, h, ics):\n",
    "    times = timesteps(start, stop, h)\n",
    "    return ode_Heun(func, times, ics), times\n",
    "\n",
    "\n",
    "def RK4_step(func, start, stop, h, ics):\n",
    "    times = timesteps(start, stop, h)\n",
    "    return ode_RK4(func, times, ics), times\n"
   ]
  },
  {
   "cell_type": "code",
   "execution_count": null,
   "metadata": {},
   "outputs": [],
   "source": []
  },
  {
   "cell_type": "code",
   "execution_count": 19,
   "metadata": {
    "deletable": false,
    "editable": false,
    "nbgrader": {
     "cell_type": "code",
     "checksum": "11afcecf8d070c2830e4eb5425cfd09e",
     "grade": true,
     "grade_id": "Lab2_S2_E2_tests",
     "locked": true,
     "points": 0,
     "schema_version": 3,
     "solution": false,
     "task": false
    }
   },
   "outputs": [
    {
     "name": "stdout",
     "output_type": "stream",
     "text": [
      "Checking for the correct number of arguments:\n",
      " ✔ Euler_step\n",
      " ✔ Heun_step\n",
      " ✔ RK4_step\n",
      "\n",
      "Checking for the correct outputs for eq7:\n",
      " ✔ Euler_step\n",
      " ✔ Heun_step\n",
      " ✔ RK4_step\n"
     ]
    }
   ],
   "source": [
    "# Autograder tests\n",
    "\n",
    "# function_names = [\"Euler_step\", \"Heun_step\", \"RK4_step\", \"AB2_step\"]\n",
    "function_names = [\"Euler_step\", \"Heun_step\", \"RK4_step\"]\n",
    "from inspect import signature\n",
    "print(\"Checking for the correct number of arguments:\")\n",
    "for function_name in function_names:\n",
    "    function_signature = signature(eval(function_name))\n",
    "    assert len(function_signature.parameters) == 5\n",
    "    print(\" ✔ \" + function_name)\n",
    "    \n",
    "print(\"\\nChecking for the correct outputs for eq7:\")\n",
    "expected_values = [3029.32787693, 3532.87886075, 3540.19952527, 3519.13759054]\n",
    "for function_name, expected_value in zip(function_names, expected_values):  \n",
    "    obtained_values, obtained_times = eval(function_name)(eq7_dy_dt, 0, 2, h = 0.01, ics = 1)\n",
    "    if (np.abs(float(obtained_values[-1]) - expected_value) < 10e-5):\n",
    "        print(\" ✔ \" + function_name)\n",
    "    else:\n",
    "        print(\" ✘ \" + function_name)\n",
    "        assert(np.abs(float(obtained_values[-1]) - expected_value) < 10e-5)"
   ]
  },
  {
   "cell_type": "markdown",
   "metadata": {
    "deletable": false,
    "editable": false,
    "nbgrader": {
     "cell_type": "markdown",
     "checksum": "63f9a46eb82c75055def8a1d8ce2a406",
     "grade": false,
     "grade_id": "Lab2_S3_title",
     "locked": true,
     "schema_version": 3,
     "solution": false,
     "task": false
    }
   },
   "source": [
    "## 3. Building tables\n",
    "\n",
    "Now that we have these four functions with consistent arguments, we can easily replicate all the tables in Boyce & DiPrima, and solve further exercises.\n",
    "\n",
    "For instance, we can produce one column of Table 8.1.1 with the following code:"
   ]
  },
  {
   "cell_type": "code",
   "execution_count": 20,
   "metadata": {},
   "outputs": [
    {
     "data": {
      "text/html": [
       "<div>\n",
       "<style scoped>\n",
       "    .dataframe tbody tr th:only-of-type {\n",
       "        vertical-align: middle;\n",
       "    }\n",
       "\n",
       "    .dataframe tbody tr th {\n",
       "        vertical-align: top;\n",
       "    }\n",
       "\n",
       "    .dataframe thead th {\n",
       "        text-align: right;\n",
       "    }\n",
       "</style>\n",
       "<table border=\"1\" class=\"dataframe\">\n",
       "  <thead>\n",
       "    <tr style=\"text-align: right;\">\n",
       "      <th></th>\n",
       "      <th>h = 0.01</th>\n",
       "    </tr>\n",
       "  </thead>\n",
       "  <tbody>\n",
       "    <tr>\n",
       "      <th>0.00</th>\n",
       "      <td>1.000000</td>\n",
       "    </tr>\n",
       "    <tr>\n",
       "      <th>0.01</th>\n",
       "      <td>1.050000</td>\n",
       "    </tr>\n",
       "    <tr>\n",
       "      <th>0.02</th>\n",
       "      <td>1.101900</td>\n",
       "    </tr>\n",
       "    <tr>\n",
       "      <th>0.03</th>\n",
       "      <td>1.155776</td>\n",
       "    </tr>\n",
       "    <tr>\n",
       "      <th>0.04</th>\n",
       "      <td>1.211707</td>\n",
       "    </tr>\n",
       "    <tr>\n",
       "      <th>...</th>\n",
       "      <td>...</td>\n",
       "    </tr>\n",
       "    <tr>\n",
       "      <th>1.96</th>\n",
       "      <td>2589.517539</td>\n",
       "    </tr>\n",
       "    <tr>\n",
       "      <th>1.97</th>\n",
       "      <td>2693.088640</td>\n",
       "    </tr>\n",
       "    <tr>\n",
       "      <th>1.98</th>\n",
       "      <td>2800.802486</td>\n",
       "    </tr>\n",
       "    <tr>\n",
       "      <th>1.99</th>\n",
       "      <td>2912.824786</td>\n",
       "    </tr>\n",
       "    <tr>\n",
       "      <th>2.00</th>\n",
       "      <td>3029.327877</td>\n",
       "    </tr>\n",
       "  </tbody>\n",
       "</table>\n",
       "<p>201 rows × 1 columns</p>\n",
       "</div>"
      ],
      "text/plain": [
       "         h = 0.01\n",
       "0.00     1.000000\n",
       "0.01     1.050000\n",
       "0.02     1.101900\n",
       "0.03     1.155776\n",
       "0.04     1.211707\n",
       "...           ...\n",
       "1.96  2589.517539\n",
       "1.97  2693.088640\n",
       "1.98  2800.802486\n",
       "1.99  2912.824786\n",
       "2.00  3029.327877\n",
       "\n",
       "[201 rows x 1 columns]"
      ]
     },
     "execution_count": 20,
     "metadata": {},
     "output_type": "execute_result"
    }
   ],
   "source": [
    "import pandas as pd\n",
    "eq7_E_values, eq7_E_times = Euler_step(eq7_dy_dt, 0, 2, h = 0.01, ics = 1)\n",
    "pd.DataFrame(data = eq7_E_values, index = eq7_E_times, columns = [\"h = 0.01\"])"
   ]
  },
  {
   "cell_type": "markdown",
   "metadata": {
    "deletable": false,
    "editable": false,
    "nbgrader": {
     "cell_type": "markdown",
     "checksum": "db2b11ac9874cc5ab9f912f86ee0b199",
     "grade": false,
     "grade_id": "Lab2_S3_01",
     "locked": true,
     "schema_version": 3,
     "solution": false,
     "task": false
    }
   },
   "source": [
    "### Detour: list comprehensions and joining DataFrames\n",
    "\n",
    "It would be possible at this point to copy/paste the above code, and make small changes to get other columns of the table. However, we can be a bit more efficient than that by making use of **list comprehensions**.\n",
    "\n",
    "These are very similar to the standard mathematical notation for sets, e.g. $$\\left\\{x^2\\,:\\,x\\in\\{1,2,3\\}\\right\\} = \\{1^2, 2^2, 3^2\\}$$ could be written in Python as:"
   ]
  },
  {
   "cell_type": "code",
   "execution_count": 21,
   "metadata": {},
   "outputs": [
    {
     "data": {
      "text/plain": [
       "[1, 4, 9]"
      ]
     },
     "execution_count": 21,
     "metadata": {},
     "output_type": "execute_result"
    }
   ],
   "source": [
    "[x ** 2 for x in [1,2,3]]"
   ]
  },
  {
   "cell_type": "markdown",
   "metadata": {
    "deletable": false,
    "editable": false,
    "nbgrader": {
     "cell_type": "markdown",
     "checksum": "137c926255cee68e08cdf3f650b2a61c",
     "grade": false,
     "grade_id": "Lab2_S3_02",
     "locked": true,
     "schema_version": 3,
     "solution": false,
     "task": false
    }
   },
   "source": [
    "Here we use a list comprehension to produce a DataFrame where the column of values is given by a certain power of the row index:"
   ]
  },
  {
   "cell_type": "code",
   "execution_count": 22,
   "metadata": {},
   "outputs": [
    {
     "data": {
      "text/html": [
       "<div>\n",
       "<style scoped>\n",
       "    .dataframe tbody tr th:only-of-type {\n",
       "        vertical-align: middle;\n",
       "    }\n",
       "\n",
       "    .dataframe tbody tr th {\n",
       "        vertical-align: top;\n",
       "    }\n",
       "\n",
       "    .dataframe thead th {\n",
       "        text-align: right;\n",
       "    }\n",
       "</style>\n",
       "<table border=\"1\" class=\"dataframe\">\n",
       "  <thead>\n",
       "    <tr style=\"text-align: right;\">\n",
       "      <th></th>\n",
       "      <th>x^2</th>\n",
       "    </tr>\n",
       "  </thead>\n",
       "  <tbody>\n",
       "    <tr>\n",
       "      <th>0</th>\n",
       "      <td>0</td>\n",
       "    </tr>\n",
       "    <tr>\n",
       "      <th>1</th>\n",
       "      <td>1</td>\n",
       "    </tr>\n",
       "    <tr>\n",
       "      <th>2</th>\n",
       "      <td>4</td>\n",
       "    </tr>\n",
       "    <tr>\n",
       "      <th>3</th>\n",
       "      <td>9</td>\n",
       "    </tr>\n",
       "    <tr>\n",
       "      <th>4</th>\n",
       "      <td>16</td>\n",
       "    </tr>\n",
       "  </tbody>\n",
       "</table>\n",
       "</div>"
      ],
      "text/plain": [
       "   x^2\n",
       "0    0\n",
       "1    1\n",
       "2    4\n",
       "3    9\n",
       "4   16"
      ]
     },
     "execution_count": 22,
     "metadata": {},
     "output_type": "execute_result"
    }
   ],
   "source": [
    "def x_to_power(n):\n",
    "    return DataFrame(data = [x ** n for x in range(5)], columns = [\"x^\"+str(n)])\n",
    "\n",
    "x_to_power(2)"
   ]
  },
  {
   "cell_type": "markdown",
   "metadata": {
    "deletable": false,
    "editable": false,
    "nbgrader": {
     "cell_type": "markdown",
     "checksum": "44153cd20acca0b81a1fd95d28529544",
     "grade": false,
     "grade_id": "Lab2_S3_task1",
     "locked": true,
     "schema_version": 3,
     "solution": false,
     "task": false
    }
   },
   "source": [
    "<span class=\"label label-danger\">Task</span>\n",
    "Try changing `range(5)` in the definition of `x_to_power` so that the squares of 1 to 10 are printed instead."
   ]
  },
  {
   "cell_type": "markdown",
   "metadata": {
    "deletable": false,
    "editable": false,
    "nbgrader": {
     "cell_type": "markdown",
     "checksum": "d8ff8bd8b9297eb7a9a36c37876fdf6b",
     "grade": false,
     "grade_id": "Lab2_S3_03",
     "locked": true,
     "schema_version": 3,
     "solution": false,
     "task": false
    }
   },
   "source": [
    "We can use list comprehensions to produce many such DataFrames, each one with a different power:"
   ]
  },
  {
   "cell_type": "code",
   "execution_count": 112,
   "metadata": {},
   "outputs": [
    {
     "data": {
      "text/html": [
       "<div>\n",
       "<style scoped>\n",
       "    .dataframe tbody tr th:only-of-type {\n",
       "        vertical-align: middle;\n",
       "    }\n",
       "\n",
       "    .dataframe tbody tr th {\n",
       "        vertical-align: top;\n",
       "    }\n",
       "\n",
       "    .dataframe thead th {\n",
       "        text-align: right;\n",
       "    }\n",
       "</style>\n",
       "<table border=\"1\" class=\"dataframe\">\n",
       "  <thead>\n",
       "    <tr style=\"text-align: right;\">\n",
       "      <th></th>\n",
       "      <th>x^2</th>\n",
       "    </tr>\n",
       "  </thead>\n",
       "  <tbody>\n",
       "    <tr>\n",
       "      <th>0</th>\n",
       "      <td>0</td>\n",
       "    </tr>\n",
       "    <tr>\n",
       "      <th>1</th>\n",
       "      <td>1</td>\n",
       "    </tr>\n",
       "    <tr>\n",
       "      <th>2</th>\n",
       "      <td>4</td>\n",
       "    </tr>\n",
       "    <tr>\n",
       "      <th>3</th>\n",
       "      <td>9</td>\n",
       "    </tr>\n",
       "    <tr>\n",
       "      <th>4</th>\n",
       "      <td>16</td>\n",
       "    </tr>\n",
       "  </tbody>\n",
       "</table>\n",
       "</div>"
      ],
      "text/plain": [
       "   x^2\n",
       "0    0\n",
       "1    1\n",
       "2    4\n",
       "3    9\n",
       "4   16"
      ]
     },
     "execution_count": 112,
     "metadata": {},
     "output_type": "execute_result"
    }
   ],
   "source": [
    "dfs = [x_to_power(n) for n in [2,3,4]]\n",
    "dfs[0] # try changing 0 to see the other DataFrames"
   ]
  },
  {
   "cell_type": "markdown",
   "metadata": {
    "deletable": false,
    "editable": false,
    "nbgrader": {
     "cell_type": "markdown",
     "checksum": "be01dcae4aadfbb77fb8574ac432a445",
     "grade": false,
     "grade_id": "Lab2_S3_04",
     "locked": true,
     "schema_version": 3,
     "solution": false,
     "task": false
    }
   },
   "source": [
    "To put these columns into a single DataFrame, we can use the `join` function:"
   ]
  },
  {
   "cell_type": "code",
   "execution_count": 105,
   "metadata": {},
   "outputs": [
    {
     "data": {
      "text/html": [
       "<div>\n",
       "<style scoped>\n",
       "    .dataframe tbody tr th:only-of-type {\n",
       "        vertical-align: middle;\n",
       "    }\n",
       "\n",
       "    .dataframe tbody tr th {\n",
       "        vertical-align: top;\n",
       "    }\n",
       "\n",
       "    .dataframe thead th {\n",
       "        text-align: right;\n",
       "    }\n",
       "</style>\n",
       "<table border=\"1\" class=\"dataframe\">\n",
       "  <thead>\n",
       "    <tr style=\"text-align: right;\">\n",
       "      <th></th>\n",
       "      <th>x^2</th>\n",
       "      <th>x^3</th>\n",
       "    </tr>\n",
       "  </thead>\n",
       "  <tbody>\n",
       "    <tr>\n",
       "      <th>0</th>\n",
       "      <td>0</td>\n",
       "      <td>0</td>\n",
       "    </tr>\n",
       "    <tr>\n",
       "      <th>1</th>\n",
       "      <td>1</td>\n",
       "      <td>1</td>\n",
       "    </tr>\n",
       "    <tr>\n",
       "      <th>2</th>\n",
       "      <td>4</td>\n",
       "      <td>8</td>\n",
       "    </tr>\n",
       "    <tr>\n",
       "      <th>3</th>\n",
       "      <td>9</td>\n",
       "      <td>27</td>\n",
       "    </tr>\n",
       "    <tr>\n",
       "      <th>4</th>\n",
       "      <td>16</td>\n",
       "      <td>64</td>\n",
       "    </tr>\n",
       "  </tbody>\n",
       "</table>\n",
       "</div>"
      ],
      "text/plain": [
       "   x^2  x^3\n",
       "0    0    0\n",
       "1    1    1\n",
       "2    4    8\n",
       "3    9   27\n",
       "4   16   64"
      ]
     },
     "execution_count": 105,
     "metadata": {},
     "output_type": "execute_result"
    }
   ],
   "source": [
    "dfs[0].join(dfs[1])"
   ]
  },
  {
   "cell_type": "markdown",
   "metadata": {
    "deletable": false,
    "editable": false,
    "nbgrader": {
     "cell_type": "markdown",
     "checksum": "de92c431c460614f71f859136d1ec8f6",
     "grade": false,
     "grade_id": "Lab2_S3_05",
     "locked": true,
     "schema_version": 3,
     "solution": false,
     "task": false
    }
   },
   "source": [
    "In fact, it can be used to join multiple DataFrames at the same time:"
   ]
  },
  {
   "cell_type": "code",
   "execution_count": 115,
   "metadata": {},
   "outputs": [
    {
     "data": {
      "text/html": [
       "<div>\n",
       "<style scoped>\n",
       "    .dataframe tbody tr th:only-of-type {\n",
       "        vertical-align: middle;\n",
       "    }\n",
       "\n",
       "    .dataframe tbody tr th {\n",
       "        vertical-align: top;\n",
       "    }\n",
       "\n",
       "    .dataframe thead th {\n",
       "        text-align: right;\n",
       "    }\n",
       "</style>\n",
       "<table border=\"1\" class=\"dataframe\">\n",
       "  <thead>\n",
       "    <tr style=\"text-align: right;\">\n",
       "      <th></th>\n",
       "      <th>x^2</th>\n",
       "      <th>x^3</th>\n",
       "      <th>x^4</th>\n",
       "    </tr>\n",
       "  </thead>\n",
       "  <tbody>\n",
       "    <tr>\n",
       "      <th>0</th>\n",
       "      <td>0</td>\n",
       "      <td>0</td>\n",
       "      <td>0</td>\n",
       "    </tr>\n",
       "    <tr>\n",
       "      <th>1</th>\n",
       "      <td>1</td>\n",
       "      <td>1</td>\n",
       "      <td>1</td>\n",
       "    </tr>\n",
       "    <tr>\n",
       "      <th>2</th>\n",
       "      <td>4</td>\n",
       "      <td>8</td>\n",
       "      <td>16</td>\n",
       "    </tr>\n",
       "    <tr>\n",
       "      <th>3</th>\n",
       "      <td>9</td>\n",
       "      <td>27</td>\n",
       "      <td>81</td>\n",
       "    </tr>\n",
       "    <tr>\n",
       "      <th>4</th>\n",
       "      <td>16</td>\n",
       "      <td>64</td>\n",
       "      <td>256</td>\n",
       "    </tr>\n",
       "  </tbody>\n",
       "</table>\n",
       "</div>"
      ],
      "text/plain": [
       "   x^2  x^3  x^4\n",
       "0    0    0    0\n",
       "1    1    1    1\n",
       "2    4    8   16\n",
       "3    9   27   81\n",
       "4   16   64  256"
      ]
     },
     "execution_count": 115,
     "metadata": {},
     "output_type": "execute_result"
    }
   ],
   "source": [
    "dfs[0].join(dfs[1:])"
   ]
  },
  {
   "cell_type": "markdown",
   "metadata": {
    "deletable": false,
    "editable": false,
    "nbgrader": {
     "cell_type": "markdown",
     "checksum": "e0b8df83b17fd3bd4a86233ca7b533e6",
     "grade": false,
     "grade_id": "Lab2_S3_06",
     "locked": true,
     "schema_version": 3,
     "solution": false,
     "task": false
    }
   },
   "source": [
    "Putting that all together, here we build up a table in one chunk:"
   ]
  },
  {
   "cell_type": "code",
   "execution_count": 107,
   "metadata": {},
   "outputs": [
    {
     "data": {
      "text/html": [
       "<div>\n",
       "<style scoped>\n",
       "    .dataframe tbody tr th:only-of-type {\n",
       "        vertical-align: middle;\n",
       "    }\n",
       "\n",
       "    .dataframe tbody tr th {\n",
       "        vertical-align: top;\n",
       "    }\n",
       "\n",
       "    .dataframe thead th {\n",
       "        text-align: right;\n",
       "    }\n",
       "</style>\n",
       "<table border=\"1\" class=\"dataframe\">\n",
       "  <thead>\n",
       "    <tr style=\"text-align: right;\">\n",
       "      <th></th>\n",
       "      <th>x^0.5</th>\n",
       "      <th>x^2</th>\n",
       "      <th>x^3</th>\n",
       "      <th>x^4</th>\n",
       "    </tr>\n",
       "  </thead>\n",
       "  <tbody>\n",
       "    <tr>\n",
       "      <th>0</th>\n",
       "      <td>0.000000</td>\n",
       "      <td>0</td>\n",
       "      <td>0</td>\n",
       "      <td>0</td>\n",
       "    </tr>\n",
       "    <tr>\n",
       "      <th>1</th>\n",
       "      <td>1.000000</td>\n",
       "      <td>1</td>\n",
       "      <td>1</td>\n",
       "      <td>1</td>\n",
       "    </tr>\n",
       "    <tr>\n",
       "      <th>2</th>\n",
       "      <td>1.414214</td>\n",
       "      <td>4</td>\n",
       "      <td>8</td>\n",
       "      <td>16</td>\n",
       "    </tr>\n",
       "    <tr>\n",
       "      <th>3</th>\n",
       "      <td>1.732051</td>\n",
       "      <td>9</td>\n",
       "      <td>27</td>\n",
       "      <td>81</td>\n",
       "    </tr>\n",
       "    <tr>\n",
       "      <th>4</th>\n",
       "      <td>2.000000</td>\n",
       "      <td>16</td>\n",
       "      <td>64</td>\n",
       "      <td>256</td>\n",
       "    </tr>\n",
       "  </tbody>\n",
       "</table>\n",
       "</div>"
      ],
      "text/plain": [
       "      x^0.5  x^2  x^3  x^4\n",
       "0  0.000000    0    0    0\n",
       "1  1.000000    1    1    1\n",
       "2  1.414214    4    8   16\n",
       "3  1.732051    9   27   81\n",
       "4  2.000000   16   64  256"
      ]
     },
     "execution_count": 107,
     "metadata": {},
     "output_type": "execute_result"
    }
   ],
   "source": [
    "dfs2 = [x_to_power(n) for n in [0.5, 2, 3, 4]]\n",
    "dfs2[0].join(dfs2[1:])"
   ]
  },
  {
   "cell_type": "markdown",
   "metadata": {
    "deletable": false,
    "editable": false,
    "nbgrader": {
     "cell_type": "markdown",
     "checksum": "ece78949f485d7806f75e193e5c42650",
     "grade": false,
     "grade_id": "Lab2_S3_07",
     "locked": true,
     "schema_version": 3,
     "solution": false,
     "task": false
    }
   },
   "source": [
    "Note that we can also use the `filter` function to pick out certain rows from the DataFrame - we use the `items` argument to specify the values of the row index, and `axis=0` to specify that it's rows rather than columns that we are selecting:"
   ]
  },
  {
   "cell_type": "code",
   "execution_count": 108,
   "metadata": {},
   "outputs": [
    {
     "data": {
      "text/html": [
       "<div>\n",
       "<style scoped>\n",
       "    .dataframe tbody tr th:only-of-type {\n",
       "        vertical-align: middle;\n",
       "    }\n",
       "\n",
       "    .dataframe tbody tr th {\n",
       "        vertical-align: top;\n",
       "    }\n",
       "\n",
       "    .dataframe thead th {\n",
       "        text-align: right;\n",
       "    }\n",
       "</style>\n",
       "<table border=\"1\" class=\"dataframe\">\n",
       "  <thead>\n",
       "    <tr style=\"text-align: right;\">\n",
       "      <th></th>\n",
       "      <th>x^0.5</th>\n",
       "      <th>x^2</th>\n",
       "      <th>x^3</th>\n",
       "      <th>x^4</th>\n",
       "    </tr>\n",
       "  </thead>\n",
       "  <tbody>\n",
       "    <tr>\n",
       "      <th>2</th>\n",
       "      <td>1.414214</td>\n",
       "      <td>4</td>\n",
       "      <td>8</td>\n",
       "      <td>16</td>\n",
       "    </tr>\n",
       "    <tr>\n",
       "      <th>4</th>\n",
       "      <td>2.000000</td>\n",
       "      <td>16</td>\n",
       "      <td>64</td>\n",
       "      <td>256</td>\n",
       "    </tr>\n",
       "  </tbody>\n",
       "</table>\n",
       "</div>"
      ],
      "text/plain": [
       "      x^0.5  x^2  x^3  x^4\n",
       "2  1.414214    4    8   16\n",
       "4  2.000000   16   64  256"
      ]
     },
     "execution_count": 108,
     "metadata": {},
     "output_type": "execute_result"
    }
   ],
   "source": [
    "big_df = dfs2[0].join(dfs2[1:])\n",
    "big_df.filter(items=[2, 4], axis=0)"
   ]
  },
  {
   "cell_type": "markdown",
   "metadata": {
    "deletable": false,
    "editable": false,
    "nbgrader": {
     "cell_type": "markdown",
     "checksum": "f444a47dc62a899b216f0b17d5ca5bc0",
     "grade": false,
     "grade_id": "Lab2_S3_E1",
     "locked": true,
     "schema_version": 3,
     "solution": false,
     "task": false
    }
   },
   "source": [
    "<div class=\"alert alert-info\">\n",
    "    <h3>Exercise 3.1</h3>\n",
    "\n",
    "**(a)** Write a `produce_df` function that takes in a `method` (which will be a function, like `Euler_step`) and all the arguments from Exercise 2.1, and returns a DataFrame showing the result of applying that method with the given data. In particular, `produce_df(Euler_step, eq7_dy_dt, 0, 2, 0.01, 1)` should produce the same table that we saw just before the Detour.\n",
    "\n",
    "**(b)** Use the `produce_df` function, and the joining technique outlined above, to replicate Table 8.1.1 from Boyce & DiPrima (Note you don't need the final column with the *Exact* values). Please store your final table in a variable called `table_811`. <span class=\"label label-success\">\n",
    "\n",
    "</div>"
   ]
  },
  {
   "cell_type": "code",
   "execution_count": 120,
   "metadata": {
    "deletable": false,
    "nbgrader": {
     "cell_type": "code",
     "checksum": "e1914f61d3f95f690ee85526ddae9d8b",
     "grade": false,
     "grade_id": "Lab2_S3_E1_A",
     "locked": false,
     "schema_version": 3,
     "solution": true,
     "task": false
    }
   },
   "outputs": [],
   "source": [
    "# Your code here for (a)\n",
    "def produce_df(method, func, start, stop, h, ics):\n",
    "    values, times = method(func, start, stop, h, ics)\n",
    "    return DataFrame(data = values, index = times, columns = [\"h=\"+str(h)])\n"
   ]
  },
  {
   "cell_type": "code",
   "execution_count": 121,
   "metadata": {
    "deletable": false,
    "editable": false,
    "nbgrader": {
     "cell_type": "code",
     "checksum": "609e66121a441dfc42d2c5e2cae7abcf",
     "grade": true,
     "grade_id": "Lab2_S3_E1_A_test",
     "locked": true,
     "points": 0,
     "schema_version": 3,
     "solution": false,
     "task": false
    }
   },
   "outputs": [
    {
     "name": "stdout",
     "output_type": "stream",
     "text": [
      "Success: Your table has the correct number of rows\n",
      "Success: Your table has the correct number of columns\n",
      "Success: Your table has the correct column name\n"
     ]
    }
   ],
   "source": [
    "# Autograder Test\n",
    "ans_df = produce_df(Euler_step, eq7_dy_dt, 0, 2, 0.01, 1)\n",
    "assert ans_df.shape[0] == 201\n",
    "print(\"Success: Your table has the correct number of rows\")\n",
    "assert ans_df.shape[1] == 1\n",
    "print(\"Success: Your table has the correct number of columns\")\n",
    "assert ans_df.columns[0] == 'h=0.01'\n",
    "print(\"Success: Your table has the correct column name\")\n"
   ]
  },
  {
   "cell_type": "code",
   "execution_count": null,
   "metadata": {
    "deletable": false,
    "nbgrader": {
     "cell_type": "code",
     "checksum": "ed5fa7e03aaa29dc8baaa0a72e5960bb",
     "grade": false,
     "grade_id": "Lab2_S3_E1_B",
     "locked": false,
     "schema_version": 3,
     "solution": true,
     "task": false
    }
   },
   "outputs": [],
   "source": [
    "# Your code here for (b)\n",
    "\n",
    "# YOUR CODE HERE\n",
    "raise NotImplementedError()"
   ]
  },
  {
   "cell_type": "code",
   "execution_count": null,
   "metadata": {
    "deletable": false,
    "editable": false,
    "nbgrader": {
     "cell_type": "code",
     "checksum": "d933eedc0bd6ff4ab46bdba251830565",
     "grade": true,
     "grade_id": "Lab2_S3_E1_B_test",
     "locked": true,
     "points": 1,
     "schema_version": 3,
     "solution": false,
     "task": false
    }
   },
   "outputs": [],
   "source": [
    "# Autograder Test\n",
    "\n",
    "assert list(table_811.columns) == ['h=0.05', 'h=0.025', 'h=0.01', 'h=0.001']\n",
    "print(\"Success: Your table has the correct columns.\")\n",
    "\n",
    "assert table_811.filter(items=[2.0], axis=0).iloc[0][\"h=0.01\"] == 3029.3278769261874\n",
    "print(\"Success: The h=0.01, t=2.0 entry is correct.\")"
   ]
  },
  {
   "cell_type": "markdown",
   "metadata": {
    "deletable": false,
    "editable": false,
    "nbgrader": {
     "cell_type": "markdown",
     "checksum": "5e077a9e7de333d16aa0d1675b04c460",
     "grade": false,
     "grade_id": "Lab2_S3_08",
     "locked": true,
     "schema_version": 3,
     "solution": false,
     "task": false
    }
   },
   "source": [
    "We can also easily plot the different columns of a DataFrame using the `matplotlib.pyplot` library that we used at the end of Lab 1:"
   ]
  },
  {
   "cell_type": "code",
   "execution_count": null,
   "metadata": {},
   "outputs": [],
   "source": [
    "import matplotlib.pyplot as plt\n",
    "big_df.plot()"
   ]
  },
  {
   "cell_type": "markdown",
   "metadata": {
    "deletable": false,
    "editable": false,
    "nbgrader": {
     "cell_type": "markdown",
     "checksum": "ad5209b972c0af416f4e1e0e70032c22",
     "grade": false,
     "grade_id": "Lab2_S3_E2",
     "locked": true,
     "schema_version": 3,
     "solution": false,
     "task": false
    }
   },
   "source": [
    "<div class=\"alert alert-info\">\n",
    "    <h3>Exercise 3.2</h3>\n",
    "\n",
    "Using the DataFrame constructed in the previous exercise, produce a plot of the different solutions from Table 8.1.1\n",
    "\n",
    "</div>"
   ]
  },
  {
   "cell_type": "code",
   "execution_count": null,
   "metadata": {
    "deletable": false,
    "nbgrader": {
     "cell_type": "code",
     "checksum": "fa5a1de9862dba53857360be47f3a589",
     "grade": false,
     "grade_id": "Lab2_S3_E2_answer",
     "locked": false,
     "schema_version": 3,
     "solution": true,
     "task": false
    }
   },
   "outputs": [],
   "source": [
    "# remember to use the full version of Table 8.1.1 \n",
    "# i.e. the table that has more than 8 rows\n",
    "\n",
    "# YOUR CODE HERE\n",
    "raise NotImplementedError()"
   ]
  },
  {
   "cell_type": "markdown",
   "metadata": {
    "deletable": false,
    "editable": false,
    "nbgrader": {
     "cell_type": "markdown",
     "checksum": "429afbbe2a25c29efeffc6d298a8352e",
     "grade": false,
     "grade_id": "Lab2_S3_09",
     "locked": true,
     "schema_version": 3,
     "solution": false,
     "task": false
    }
   },
   "source": [
    "The plot looks strangely patchy. This is because the DataFrame actually has some missing values, as we can see in this example:"
   ]
  },
  {
   "cell_type": "code",
   "execution_count": null,
   "metadata": {},
   "outputs": [],
   "source": [
    "example_dfs = [produce_df(Euler_step, eq7_dy_dt, 0, 2, h, 1) for h in [0.1, 0.01]]\n",
    "example_table = example_dfs[0].join(example_dfs[1:])\n",
    "example_table.plot()"
   ]
  },
  {
   "cell_type": "markdown",
   "metadata": {
    "deletable": false,
    "editable": false,
    "nbgrader": {
     "cell_type": "markdown",
     "checksum": "810da6a0c8e98265b7860941366bf6d6",
     "grade": false,
     "grade_id": "Lab2_S3_10",
     "locked": true,
     "schema_version": 3,
     "solution": false,
     "task": false
    }
   },
   "source": [
    "The reason for this is that in the original data, some of the times actually have small rounding errors:"
   ]
  },
  {
   "cell_type": "code",
   "execution_count": null,
   "metadata": {},
   "outputs": [],
   "source": [
    "values, times = Euler_step(eq7_dy_dt, 0, 2, h = 0.01, ics = 1)\n",
    "\n",
    "# Print the first 50 times - they look OK\n",
    "print(times[:50])\n",
    "\n",
    "# Forcing numpy to print more decimal places, we see the problem:\n",
    "with np.printoptions(precision=20):\n",
    "    print(times[:50])"
   ]
  },
  {
   "cell_type": "markdown",
   "metadata": {
    "deletable": false,
    "editable": false,
    "nbgrader": {
     "cell_type": "markdown",
     "checksum": "de2c69640666d68cbeba008f09efead9",
     "grade": false,
     "grade_id": "Lab2_S3_11",
     "locked": true,
     "schema_version": 3,
     "solution": false,
     "task": false
    }
   },
   "source": [
    "Since the times are used to join together corresponding rows of the DataFrames, this causes a problem. We can fix it by setting the `index` of the DataFrame to be a rounded version of the time, using `np.round`:"
   ]
  },
  {
   "cell_type": "code",
   "execution_count": null,
   "metadata": {},
   "outputs": [],
   "source": [
    "def produce_df(method, vectorField, start, stop, h, ics):\n",
    "    values, times = method(vectorField, start, stop, h, ics)\n",
    "    return DataFrame(data = values, index = np.round(times, 3), columns = [\"h=\"+str(h)])"
   ]
  },
  {
   "cell_type": "markdown",
   "metadata": {
    "deletable": false,
    "editable": false,
    "nbgrader": {
     "cell_type": "markdown",
     "checksum": "f4e18593c98f8de71fdf304b4dfd3ea0",
     "grade": false,
     "grade_id": "Lab2_S3_task2",
     "locked": true,
     "schema_version": 3,
     "solution": false,
     "task": false
    }
   },
   "source": [
    "<span class=\"label label-danger\">Task</span>\n",
    "Replace your `produce_df` function with this version, and go back to previous blocks and check that the plots now work."
   ]
  },
  {
   "cell_type": "markdown",
   "metadata": {
    "deletable": false,
    "editable": false,
    "nbgrader": {
     "cell_type": "markdown",
     "checksum": "d7524cc3c3f4f01d41f816fbbd29da16",
     "grade": false,
     "grade_id": "Lab2_S3_E3",
     "locked": true,
     "schema_version": 3,
     "solution": false,
     "task": false
    }
   },
   "source": [
    "<div class=\"alert alert-info\">\n",
    "    <h3>Exercise 3.3 <span class=\"label label-success\" style=\"font-size: 60%\"></h3>\n",
    "\n",
    "Put all of this together to produce a table like the following one (save the result as the variable `df_eq7_output`), and to plot the different columns.\n",
    "\n",
    "Note: the final column shows the exact solution, $y=\\frac14 t-\\frac{3}{16}+\\frac{19}{16}e^{4t}$.  \n",
    "    \n",
    "</div>\n",
    "\n",
    "\n",
    "\n",
    "\n",
    "|     | Euler, h=0.01 | Heun, h=0.01 | RK, h=0.01  | AB, h=0.01  | Exact       |\n",
    "|-----|---------------|--------------|-------------|-------------|-------------|\n",
    "| 0.0 | 1.000000      | 1.000000     | 1.000000    | 1.000000    | 1.000000    |\n",
    "| 0.1 | 1.595290      | 1.608858     | 1.609042    | 1.607223    | 1.609042    |\n",
    "| 0.2 | 2.464459      | 2.504783     | 2.505330    | 2.501929    | 2.505330    |\n",
    "| 0.3 | 3.739035      | 3.828915     | 3.830139    | 3.824042    | 3.830139    |\n",
    "| 0.4 | 5.613712      | 5.791791     | 5.794226    | 5.783604    | 5.794226    |\n",
    "| 0.5 | 8.376686      | 8.707464     | 8.712004    | 8.693881    | 8.712004    |\n",
    "| 1.0 | 60.037126     | 64.830722    | 64.897798   | 64.679828   | 64.897803   |\n",
    "| 1.5 | 426.408176    | 478.515883   | 479.259133  | 477.028224  | 479.259192  |\n",
    "| 2.0 | 3029.327877   | 3532.878861  | 3540.199525 | 3519.137591 | 3540.200110 |\n"
   ]
  },
  {
   "cell_type": "code",
   "execution_count": null,
   "metadata": {
    "deletable": false,
    "nbgrader": {
     "cell_type": "code",
     "checksum": "3f6b98cc31bcff5ae089757265dac935",
     "grade": false,
     "grade_id": "Lab2_S3_E3_answer",
     "locked": false,
     "schema_version": 3,
     "solution": true,
     "task": false
    }
   },
   "outputs": [],
   "source": [
    "# Your code here\n",
    "\n",
    "# YOUR CODE HERE\n",
    "raise NotImplementedError()"
   ]
  },
  {
   "cell_type": "code",
   "execution_count": null,
   "metadata": {},
   "outputs": [],
   "source": [
    "df_eq7.plot()"
   ]
  },
  {
   "cell_type": "code",
   "execution_count": null,
   "metadata": {
    "deletable": false,
    "editable": false,
    "nbgrader": {
     "cell_type": "code",
     "checksum": "6570f251b14092897869491d45076161",
     "grade": true,
     "grade_id": "Lab2_S3_E3_test",
     "locked": true,
     "points": 1,
     "schema_version": 3,
     "solution": false,
     "task": false
    }
   },
   "outputs": [],
   "source": [
    "# Autograder Test\n",
    "\n",
    "assert list(df_eq7_output.index.values) == [0.0, 0.1, 0.2, 0.3, 0.4, 0.5, 1.0, 1.5, 2.0]\n",
    "print(\"Success: Your table has the correct rows.\")\n",
    "assert list(df_eq7.columns) == ['Euler, h=0.01', 'Heun, h=0.01', 'RK, h=0.01', 'AB, h=0.01', 'Exact']\n",
    "print(\"Success: Your table has the correct columns.\")\n"
   ]
  },
  {
   "cell_type": "markdown",
   "metadata": {
    "deletable": false,
    "editable": false,
    "nbgrader": {
     "cell_type": "markdown",
     "checksum": "9962054979d15ab44ea9c928da60a34e",
     "grade": false,
     "grade_id": "Lab2_S4_E1",
     "locked": true,
     "schema_version": 3,
     "solution": false,
     "task": false
    }
   },
   "source": [
    "## 4. Solving further equations\n",
    "\n",
    "<div class=\"alert alert-info\">\n",
    "    <h3>Exercise 4.1</h3>\n",
    "\n",
    "Use the same approach to produce a table and a plot of the different numerical solutions to the following initial value problems:\n",
    "\n",
    "**(a)** $y'=2t+e^{-ty}$, $y(0)=1$,\n",
    "\n",
    "**(b)** $y'=(t^2-y^2)\\sin y$, $y(0)=-1$.\n",
    "\n",
    "Note: these appear as questions in Chapter 8 of Boyce & DiPrima, so if you use $h=0.05$ you can check your results against the solutions in the book. They are questions 10 and 3 in section 8.1, and appear with different numbers in sections 8.2 and 8.3 of Boyce & DiPrima.\n",
    "\n",
    "</div>\n",
    "\n",
    "*Hint*: remember you can use SymPy to find exact solutions to compare against, as in Lab 1. However, you will notice here that the exact solutions are series, so you will need to use a truncation of them to compute values.\n",
    "\n",
    "*Hint*: we suggest you store the full DataFrames in variables called `df_eq4a` and `df_eq4b` respectively.\n"
   ]
  },
  {
   "cell_type": "code",
   "execution_count": null,
   "metadata": {
    "deletable": false,
    "nbgrader": {
     "cell_type": "code",
     "checksum": "f685cb9a4b47964f8338f3d8fba7ed24",
     "grade": false,
     "grade_id": "Lab2_S4_E1_A",
     "locked": false,
     "schema_version": 3,
     "solution": true,
     "task": false
    }
   },
   "outputs": [],
   "source": [
    "# Your code here for (a)\n",
    "\n",
    "# YOUR CODE HERE\n",
    "raise NotImplementedError()"
   ]
  },
  {
   "cell_type": "code",
   "execution_count": null,
   "metadata": {
    "deletable": false,
    "editable": false,
    "nbgrader": {
     "cell_type": "code",
     "checksum": "82a541f3a8361a232f8b665a921850f8",
     "grade": true,
     "grade_id": "Lab2_S4_E1_A_test",
     "locked": true,
     "points": 0,
     "schema_version": 3,
     "solution": false,
     "task": false
    }
   },
   "outputs": [],
   "source": [
    "# Autograder Test\n",
    "\n",
    "assert df_eq4a.shape[0] == 41\n",
    "print(\"Success: Your table has the correct number of rows.\")\n",
    "assert list(df_eq4a.columns) == ['Euler, h=0.05', 'Heun, h=0.05', 'RK, h=0.05', 'AB, h=0.05', 'Exact']\n",
    "print(\"Success: Your table has the correct columns.\")\n",
    "\n",
    "assert df_eq4a.filter(items=[0.2], axis=0).iloc[0][\"Heun, h=0.05\"] == 1.218823869462594\n",
    "print(\"Success: A spot check of one entry was correct.\")\n"
   ]
  },
  {
   "cell_type": "code",
   "execution_count": null,
   "metadata": {
    "deletable": false,
    "nbgrader": {
     "cell_type": "code",
     "checksum": "cb00ee6512af364f4add89430696edd9",
     "grade": false,
     "grade_id": "Lab2_S4_E1_B",
     "locked": false,
     "schema_version": 3,
     "solution": true,
     "task": false
    }
   },
   "outputs": [],
   "source": [
    "# Your code here for (b)\n",
    "\n",
    "# YOUR CODE HERE\n",
    "raise NotImplementedError()"
   ]
  },
  {
   "cell_type": "code",
   "execution_count": null,
   "metadata": {
    "deletable": false,
    "editable": false,
    "nbgrader": {
     "cell_type": "code",
     "checksum": "b258d430bc22b327868c82ccd582e67d",
     "grade": true,
     "grade_id": "Lab2_S4_E1_B_test",
     "locked": true,
     "points": 0,
     "schema_version": 3,
     "solution": false,
     "task": false
    }
   },
   "outputs": [],
   "source": [
    "# Autograder Test\n",
    "\n",
    "assert df_eq4b.shape[0] == 41\n",
    "print(\"Success: Your table has the correct number of rows.\")\n",
    "assert set(['Euler, h=0.05', 'Heun, h=0.05', 'RK, h=0.05', 'AB, h=0.05']).issubset(list(df_eq4b.columns))\n",
    "print(\"Success: Your table has the correct columns.\")\n",
    "\n",
    "\n",
    "assert df_eq4b.filter(items=[0.4], axis=0).iloc[0][\"RK, h=0.05\"] == -0.7797059657098393\n",
    "print(\"Success: A spot check of one entry was correct.\")\n"
   ]
  },
  {
   "cell_type": "markdown",
   "metadata": {
    "deletable": false,
    "editable": false,
    "nbgrader": {
     "cell_type": "markdown",
     "checksum": "9cc2f9185079a675eacc80b0fa8dac22",
     "grade": false,
     "grade_id": "Lab2_S4_E2",
     "locked": true,
     "schema_version": 3,
     "solution": false,
     "task": false
    }
   },
   "source": [
    "<div class=\"alert alert-info\">\n",
    "    <h3>Exercise 4.2</h3>\n",
    "\n",
    "Solve Problem 4 in section 8.5 of Boyce & DiPrima (p376):\n",
    "\n",
    "$$ x'=\\exp(-x+y)-\\cos x, \\quad y'=\\sin(x-3y); \\quad x(0)=1, y(0)=2 $$\n",
    "\n",
    "finding the approximate solutions at $t=0.2, 0.4, 0.6, 0.8, 1.0$ using:\n",
    "\n",
    "**(a)** the Euler method with $h=0.1$\n",
    "\n",
    "**(b)** Runge-Kutta with $h=0.2$\n",
    "\n",
    "**(c)** Runge-Kutta with $h=0.1$\n",
    "\n",
    "</div>\n",
    "\n",
    "*Hint*: we suggest you store the DataFrames in variables called `df_6A`, `df_6B`, and `df_6C` respectively."
   ]
  },
  {
   "cell_type": "code",
   "execution_count": null,
   "metadata": {
    "deletable": false,
    "nbgrader": {
     "cell_type": "code",
     "checksum": "e0ebbe2694794289ead1cd7512b9d69e",
     "grade": false,
     "grade_id": "Lab2_S4_E2_A",
     "locked": false,
     "schema_version": 3,
     "solution": true,
     "task": false
    }
   },
   "outputs": [],
   "source": [
    "# Your code for (a)\n",
    "\n",
    "# YOUR CODE HERE\n",
    "raise NotImplementedError()"
   ]
  },
  {
   "cell_type": "code",
   "execution_count": null,
   "metadata": {
    "deletable": false,
    "editable": false,
    "nbgrader": {
     "cell_type": "code",
     "checksum": "5078d66bd422ff43854b5046226b3a0a",
     "grade": true,
     "grade_id": "Lab2_S4_E2_A_test",
     "locked": true,
     "points": 0,
     "schema_version": 3,
     "solution": false,
     "task": false
    }
   },
   "outputs": [],
   "source": [
    "# Autograder test\n",
    "\n",
    "assert list(df_6A.index.values) == [0.0, 0.2, 0.4, 0.6, 0.8, 1.0]\n",
    "print(\"Success: Your table has the correct rows.\")\n",
    "assert list(df_6A.columns) == ['x', 'y']\n",
    "print(\"Success: Your table has the correct columns.\")\n"
   ]
  },
  {
   "cell_type": "code",
   "execution_count": null,
   "metadata": {
    "deletable": false,
    "nbgrader": {
     "cell_type": "code",
     "checksum": "0f1f126ad1b99613558bcc95b1bc7ec3",
     "grade": false,
     "grade_id": "Lab2_S4_E2_B",
     "locked": false,
     "schema_version": 3,
     "solution": true,
     "task": false
    }
   },
   "outputs": [],
   "source": [
    "# Your code for (b)\n",
    "\n",
    "# YOUR CODE HERE\n",
    "raise NotImplementedError()"
   ]
  },
  {
   "cell_type": "code",
   "execution_count": null,
   "metadata": {
    "deletable": false,
    "editable": false,
    "nbgrader": {
     "cell_type": "code",
     "checksum": "d3f375a592c65f527b1ffe8a4cda91ba",
     "grade": true,
     "grade_id": "Lab2_S4_E2_B_test",
     "locked": true,
     "points": 0,
     "schema_version": 3,
     "solution": false,
     "task": false
    }
   },
   "outputs": [],
   "source": [
    "# Autograder test\n",
    "\n",
    "assert list(df_6B.index.values) == [0.0, 0.2, 0.4, 0.6, 0.8, 1.0]\n",
    "print(\"Success: Your table has the correct rows.\")\n",
    "assert list(df_6B.columns) == ['x', 'y']\n",
    "print(\"Success: Your table has the correct columns.\")\n"
   ]
  },
  {
   "cell_type": "code",
   "execution_count": null,
   "metadata": {
    "deletable": false,
    "nbgrader": {
     "cell_type": "code",
     "checksum": "207468af9a8e0d4385c7c8a6aaf1a5ef",
     "grade": false,
     "grade_id": "Lab2_S4_E2_C",
     "locked": false,
     "schema_version": 3,
     "solution": true,
     "task": false
    }
   },
   "outputs": [],
   "source": [
    "# Your code for (c)\n",
    "\n",
    "# YOUR CODE HERE\n",
    "raise NotImplementedError()"
   ]
  },
  {
   "cell_type": "code",
   "execution_count": null,
   "metadata": {
    "deletable": false,
    "editable": false,
    "nbgrader": {
     "cell_type": "code",
     "checksum": "1e3a4988da7cb3880cbde53d888c55a2",
     "grade": true,
     "grade_id": "Lab2_S4_E2_C_test",
     "locked": true,
     "points": 0,
     "schema_version": 3,
     "solution": false,
     "task": false
    }
   },
   "outputs": [],
   "source": [
    "# Autograder test\n",
    "\n",
    "assert list(df_6C.index.values) == [0.0, 0.2, 0.4, 0.6, 0.8, 1.0]\n",
    "print(\"Success: Your table has the correct rows.\")\n",
    "assert list(df_6C.columns) == ['x', 'y']\n",
    "print(\"Success: Your table has the correct columns.\")\n"
   ]
  },
  {
   "cell_type": "code",
   "execution_count": null,
   "metadata": {},
   "outputs": [],
   "source": []
  }
 ],
 "metadata": {
  "kernelspec": {
   "display_name": "Python 3 (ipykernel)",
   "language": "python",
   "name": "python3"
  },
  "language_info": {
   "codemirror_mode": {
    "name": "ipython",
    "version": 3
   },
   "file_extension": ".py",
   "mimetype": "text/x-python",
   "name": "python",
   "nbconvert_exporter": "python",
   "pygments_lexer": "ipython3",
   "version": "3.11.6"
  }
 },
 "nbformat": 4,
 "nbformat_minor": 2
}
